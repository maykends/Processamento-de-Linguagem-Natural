{
  "nbformat": 4,
  "nbformat_minor": 0,
  "metadata": {
    "colab": {
      "name": "Cópia de Classificação e exploração de textos financeiros Unifacisa.ipynb",
      "provenance": [],
      "collapsed_sections": []
    },
    "kernelspec": {
      "name": "python3",
      "display_name": "Python 3"
    },
    "accelerator": "GPU"
  },
  "cells": [
    {
      "cell_type": "markdown",
      "metadata": {
        "id": "AGgw36kc8udU"
      },
      "source": [
        "# Classificação e exploração de textos financeiros\n",
        "\n",
        "- Base de dados: https://www.kaggle.com/yash612/stockmarket-sentiment-dataset\n",
        "- Equbot: https://equbot.com/"
      ]
    },
    {
      "cell_type": "markdown",
      "metadata": {
        "id": "JtJGnXGi8zt9"
      },
      "source": [
        "## Importação das bibliotecas"
      ]
    },
    {
      "cell_type": "code",
      "metadata": {
        "id": "msvOoBLDNCWC"
      },
      "source": [
        "import spacy\n",
        "spacy.__version__"
      ],
      "execution_count": null,
      "outputs": []
    },
    {
      "cell_type": "code",
      "metadata": {
        "id": "XWWVNK47NVP0"
      },
      "source": [
        "import pandas as pd\n",
        "import string\n",
        "import matplotlib.pyplot as plt\n",
        "import seaborn as sns\n",
        "import random\n",
        "import numpy as np\n",
        "import re"
      ],
      "execution_count": null,
      "outputs": []
    },
    {
      "cell_type": "markdown",
      "metadata": {
        "id": "472HCiGNxsGm"
      },
      "source": [
        "## Carregamento da base de dados"
      ]
    },
    {
      "cell_type": "code",
      "metadata": {
        "id": "3q6WoH3CNlXh"
      },
      "source": [
        "# https://drive.google.com/file/d/1GZ43OUXRqmiAzZxZ5EZzX2Hcm3VJpX1g/view?usp=sharing\n",
        "base = pd.read_csv('/content/stock_data.csv')"
      ],
      "execution_count": null,
      "outputs": []
    },
    {
      "cell_type": "code",
      "metadata": {
        "id": "MDd0RQjcNxP2"
      },
      "source": [
        "base.shape"
      ],
      "execution_count": null,
      "outputs": []
    },
    {
      "cell_type": "code",
      "metadata": {
        "id": "SMGHYIOaN1CF"
      },
      "source": [
        "base.head()"
      ],
      "execution_count": null,
      "outputs": []
    },
    {
      "cell_type": "code",
      "metadata": {
        "id": "wgi-NfqPN5Xz"
      },
      "source": [
        "base.tail()"
      ],
      "execution_count": null,
      "outputs": []
    },
    {
      "cell_type": "code",
      "metadata": {
        "id": "WFoFqeZxN9bv"
      },
      "source": [
        "np.unique(base['Sentiment'], return_counts=True)"
      ],
      "execution_count": null,
      "outputs": []
    },
    {
      "cell_type": "code",
      "metadata": {
        "id": "yy07jhGHOG8J"
      },
      "source": [
        "sns.countplot(x = base['Sentiment']);"
      ],
      "execution_count": null,
      "outputs": []
    },
    {
      "cell_type": "code",
      "metadata": {
        "id": "fsERVQfIOMop"
      },
      "source": [
        "base.isnull().sum()"
      ],
      "execution_count": null,
      "outputs": []
    },
    {
      "cell_type": "markdown",
      "metadata": {
        "id": "h36-8Ien-AQ1"
      },
      "source": [
        "## Função para pré-processamento dos textos"
      ]
    },
    {
      "cell_type": "code",
      "metadata": {
        "id": "NEwVkXAaRoaD"
      },
      "source": [
        "pln = spacy.load('en')\n",
        "pln"
      ],
      "execution_count": null,
      "outputs": []
    },
    {
      "cell_type": "code",
      "metadata": {
        "id": "wMui7Cy9SKNa"
      },
      "source": [
        "stop_words = spacy.lang.en.stop_words.STOP_WORDS\n",
        "print(stop_words)"
      ],
      "execution_count": null,
      "outputs": []
    },
    {
      "cell_type": "code",
      "metadata": {
        "id": "xwTSbpcpT7Rp"
      },
      "source": [
        "string.punctuation"
      ],
      "execution_count": null,
      "outputs": []
    },
    {
      "cell_type": "code",
      "metadata": {
        "id": "TqiEUG3bPBeK"
      },
      "source": [
        "def preprocessamento(texto):\n",
        "  texto = texto.lower()\n",
        "  texto = re.sub(r\"@[A-Za-z0-9$-_@.&+]+\", ' ', texto)\n",
        "  texto = re.sub(r\"https?://[A-Za-z0-9./]+\", ' ', texto)\n",
        "  texto = re.sub(r\" +\", ' ', texto)\n",
        "\n",
        "  documento = pln(texto)\n",
        "  lista = []\n",
        "  for token in documento:\n",
        "    lista.append(token.lemma_)\n",
        "\n",
        "  lista = [palavra for palavra in lista if palavra not in stop_words and palavra not in string.punctuation]\n",
        "  lista = ' '.join([str(elemento) for elemento in lista if not elemento.isdigit()])\n",
        "\n",
        "  return lista"
      ],
      "execution_count": null,
      "outputs": []
    },
    {
      "cell_type": "code",
      "metadata": {
        "id": "bEljwGHdPTHP"
      },
      "source": [
        "preprocessamento('I will @test9&+ buy the https://www.iaexpert.academy Apple stock. 9 8 care. caring! car')"
      ],
      "execution_count": null,
      "outputs": []
    },
    {
      "cell_type": "markdown",
      "metadata": {
        "id": "DtL8DBPVOFoL"
      },
      "source": [
        "## Pré-processamento da base de dados"
      ]
    },
    {
      "cell_type": "markdown",
      "metadata": {
        "id": "n7G5PSVUOOId"
      },
      "source": [
        "### Limpeza dos textos"
      ]
    },
    {
      "cell_type": "code",
      "metadata": {
        "id": "ZX6T8uXNf5RT"
      },
      "source": [
        "base.head(10)"
      ],
      "execution_count": null,
      "outputs": []
    },
    {
      "cell_type": "code",
      "metadata": {
        "id": "nGRwPQU_f8ep"
      },
      "source": [
        "base['Text'] = base['Text'].apply(preprocessamento)"
      ],
      "execution_count": null,
      "outputs": []
    },
    {
      "cell_type": "code",
      "metadata": {
        "id": "d6MKkxtDgTzt"
      },
      "source": [
        "base.head(10)"
      ],
      "execution_count": null,
      "outputs": []
    },
    {
      "cell_type": "markdown",
      "metadata": {
        "id": "-rd8ZrD7d0I4"
      },
      "source": [
        "## Visualização e exploração"
      ]
    },
    {
      "cell_type": "markdown",
      "metadata": {
        "id": "bRj120_eh8uQ"
      },
      "source": [
        "### Número médio de caracteres"
      ]
    },
    {
      "cell_type": "code",
      "metadata": {
        "id": "XPzSWgylgrrl"
      },
      "source": [
        "base['tamanho'] = base['Text'].apply(len)\n",
        "base.head()"
      ],
      "execution_count": null,
      "outputs": []
    },
    {
      "cell_type": "code",
      "metadata": {
        "id": "hk-cTN7DhE8J"
      },
      "source": [
        "base['tamanho'].describe()"
      ],
      "execution_count": null,
      "outputs": []
    },
    {
      "cell_type": "code",
      "metadata": {
        "id": "3pXnkCrOhX2c"
      },
      "source": [
        "positivo = base[base['Sentiment'] == 1]"
      ],
      "execution_count": null,
      "outputs": []
    },
    {
      "cell_type": "code",
      "metadata": {
        "id": "lZn9tKROheUE"
      },
      "source": [
        "positivo['tamanho'].describe()"
      ],
      "execution_count": null,
      "outputs": []
    },
    {
      "cell_type": "code",
      "metadata": {
        "id": "m9epXi7ahnHP"
      },
      "source": [
        "negativo = base[base['Sentiment'] == -1]"
      ],
      "execution_count": null,
      "outputs": []
    },
    {
      "cell_type": "code",
      "metadata": {
        "id": "Z9MXx4t4hrxl"
      },
      "source": [
        "negativo['tamanho'].describe()"
      ],
      "execution_count": null,
      "outputs": []
    },
    {
      "cell_type": "markdown",
      "metadata": {
        "id": "Ead9LuTUi_Vm"
      },
      "source": [
        "### Nuvem de palavras"
      ]
    },
    {
      "cell_type": "code",
      "metadata": {
        "id": "uQCeY0v3iPtT"
      },
      "source": [
        "textos_positivos = positivo['Text'].tolist()\n",
        "len(textos_positivos)"
      ],
      "execution_count": null,
      "outputs": []
    },
    {
      "cell_type": "code",
      "metadata": {
        "id": "vVxKCa58iXKF"
      },
      "source": [
        "textos_positivos[0:10]"
      ],
      "execution_count": null,
      "outputs": []
    },
    {
      "cell_type": "code",
      "metadata": {
        "id": "5obv3sDniwiy"
      },
      "source": [
        "textos_positivos_string = ' '.join(textos_positivos)"
      ],
      "execution_count": null,
      "outputs": []
    },
    {
      "cell_type": "code",
      "metadata": {
        "id": "c7NhSC0_i8Zj"
      },
      "source": [
        "textos_positivos_string"
      ],
      "execution_count": null,
      "outputs": []
    },
    {
      "cell_type": "code",
      "metadata": {
        "id": "fDUiR1HtjB8-"
      },
      "source": [
        "len(textos_positivos_string)"
      ],
      "execution_count": null,
      "outputs": []
    },
    {
      "cell_type": "code",
      "metadata": {
        "id": "M26mJe-mjFeL"
      },
      "source": [
        "from wordcloud import WordCloud\n",
        "plt.figure(figsize=(20,10))\n",
        "plt.imshow(WordCloud().generate(textos_positivos_string));"
      ],
      "execution_count": null,
      "outputs": []
    },
    {
      "cell_type": "code",
      "metadata": {
        "id": "B4BQ-Sa0kIxm"
      },
      "source": [
        "lista_negativo = negativo['Text'].tolist()\n",
        "textos_negativos_string = ' '.join(lista_negativo)"
      ],
      "execution_count": null,
      "outputs": []
    },
    {
      "cell_type": "code",
      "metadata": {
        "id": "7dnDAzkrkQqt"
      },
      "source": [
        "len(textos_negativos_string)"
      ],
      "execution_count": null,
      "outputs": []
    },
    {
      "cell_type": "code",
      "metadata": {
        "id": "rzP3w3DbkXuG"
      },
      "source": [
        "plt.figure(figsize=(20,10))\n",
        "plt.imshow(WordCloud().generate(textos_negativos_string));"
      ],
      "execution_count": null,
      "outputs": []
    },
    {
      "cell_type": "markdown",
      "metadata": {
        "id": "LLYMGWupjC1C"
      },
      "source": [
        "### Extração de entidades nomeadas\n",
        "\n",
        "- Siglas: https://spacy.io/api/annotation#named-entities"
      ]
    },
    {
      "cell_type": "code",
      "metadata": {
        "id": "UYiENR_sleKk"
      },
      "source": [
        "documento = pln(textos_positivos_string)"
      ],
      "execution_count": null,
      "outputs": []
    },
    {
      "cell_type": "code",
      "metadata": {
        "id": "LGTSYQdvll5h"
      },
      "source": [
        "from spacy import displacy\n",
        "displacy.render(documento, style = 'ent', jupyter = True)"
      ],
      "execution_count": null,
      "outputs": []
    },
    {
      "cell_type": "code",
      "metadata": {
        "id": "xyUOTJSHmC0Z"
      },
      "source": [
        "empresas_positivas = []\n",
        "for entidade in documento.ents:\n",
        "  if entidade.label_ == 'ORG':\n",
        "    print(entidade.text, entidade.label_)\n",
        "    empresas_positivas.append(entidade.text)"
      ],
      "execution_count": null,
      "outputs": []
    },
    {
      "cell_type": "code",
      "metadata": {
        "id": "Db8kBLuDmiiI"
      },
      "source": [
        "len(empresas_positivas)"
      ],
      "execution_count": null,
      "outputs": []
    },
    {
      "cell_type": "code",
      "metadata": {
        "id": "tKJtPYb1mqI7"
      },
      "source": [
        "empresas_positivas = set(empresas_positivas)"
      ],
      "execution_count": null,
      "outputs": []
    },
    {
      "cell_type": "code",
      "metadata": {
        "id": "iX6trOBqm0Lh"
      },
      "source": [
        "len(empresas_positivas)"
      ],
      "execution_count": null,
      "outputs": []
    },
    {
      "cell_type": "code",
      "metadata": {
        "id": "wZIzKw0Wm4bT"
      },
      "source": [
        "print(empresas_positivas)"
      ],
      "execution_count": null,
      "outputs": []
    },
    {
      "cell_type": "code",
      "metadata": {
        "id": "dfdoHGJons_2"
      },
      "source": [
        "empresas_negativas = []\n",
        "documento = pln(textos_negativos_string)\n",
        "for entidade in documento.ents:\n",
        "  if entidade.label_ == 'ORG':\n",
        "    print(entidade.text, entidade.label_)\n",
        "    empresas_negativas.append(entidade.text)"
      ],
      "execution_count": null,
      "outputs": []
    },
    {
      "cell_type": "code",
      "metadata": {
        "id": "lNicee6xnwaz"
      },
      "source": [
        "empresas_negativas = set(empresas_negativas)\n",
        "len(empresas_negativas)"
      ],
      "execution_count": null,
      "outputs": []
    },
    {
      "cell_type": "code",
      "metadata": {
        "id": "KCbA_gIVny6L"
      },
      "source": [
        "print(empresas_negativas)"
      ],
      "execution_count": null,
      "outputs": []
    },
    {
      "cell_type": "code",
      "metadata": {
        "id": "WnZ-cbwBn1QM"
      },
      "source": [
        "x = {\"A\", \"B\", \"C\"}\n",
        "y = {'A', \"D\", \"E\"}\n",
        "x.intersection(y)"
      ],
      "execution_count": null,
      "outputs": []
    },
    {
      "cell_type": "code",
      "metadata": {
        "id": "wwbMBQlyn3Vi"
      },
      "source": [
        "x.difference(y), y.difference(x)"
      ],
      "execution_count": null,
      "outputs": []
    },
    {
      "cell_type": "code",
      "metadata": {
        "id": "qBftxEOjn5Wq"
      },
      "source": [
        "empresas_positivas_negativas = empresas_positivas.intersection(empresas_negativas)"
      ],
      "execution_count": null,
      "outputs": []
    },
    {
      "cell_type": "code",
      "metadata": {
        "id": "sMWtQZ1ln7UZ"
      },
      "source": [
        "len(empresas_positivas_negativas)"
      ],
      "execution_count": null,
      "outputs": []
    },
    {
      "cell_type": "code",
      "metadata": {
        "id": "ykIxF_Ewn9bi"
      },
      "source": [
        "print(empresas_positivas_negativas)"
      ],
      "execution_count": null,
      "outputs": []
    },
    {
      "cell_type": "code",
      "metadata": {
        "id": "T94evR6gn_eD"
      },
      "source": [
        "empresas_somente_positivas = empresas_positivas.difference(empresas_negativas)\n",
        "len(empresas_somente_positivas)"
      ],
      "execution_count": null,
      "outputs": []
    },
    {
      "cell_type": "code",
      "metadata": {
        "id": "ocHuXtH8oBo3"
      },
      "source": [
        "print(empresas_somente_positivas)"
      ],
      "execution_count": null,
      "outputs": []
    },
    {
      "cell_type": "code",
      "metadata": {
        "id": "8AMpmaTYoDx-"
      },
      "source": [
        "empresas_somente_negativas = empresas_negativas.difference(empresas_positivas)\n",
        "len(empresas_somente_negativas)"
      ],
      "execution_count": null,
      "outputs": []
    },
    {
      "cell_type": "code",
      "metadata": {
        "id": "7TL3dMGeoGFh"
      },
      "source": [
        "print(empresas_somente_negativas)"
      ],
      "execution_count": null,
      "outputs": []
    }
  ]
}