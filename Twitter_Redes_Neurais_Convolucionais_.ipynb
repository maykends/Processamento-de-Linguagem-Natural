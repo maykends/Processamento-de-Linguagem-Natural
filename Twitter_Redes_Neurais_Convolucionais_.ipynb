{
  "nbformat": 4,
  "nbformat_minor": 0,
  "metadata": {
    "colab": {
      "provenance": [],
      "include_colab_link": true
    },
    "kernelspec": {
      "name": "python3",
      "display_name": "Python 3"
    },
    "accelerator": "GPU"
  },
  "cells": [
    {
      "cell_type": "markdown",
      "metadata": {
        "id": "view-in-github",
        "colab_type": "text"
      },
      "source": [
        "<a href=\"https://colab.research.google.com/github/maykends/Processamento-de-Linguagem-Natural/blob/master/Twitter_Redes_Neurais_Convolucionais_.ipynb\" target=\"_parent\"><img src=\"https://colab.research.google.com/assets/colab-badge.svg\" alt=\"Open In Colab\"/></a>"
      ]
    },
    {
      "cell_type": "markdown",
      "metadata": {
        "id": "2QItVFUw5vyq"
      },
      "source": [
        "# Classificações de Sentimento do Twitter usando CNN\n"
      ]
    },
    {
      "cell_type": "markdown",
      "metadata": {
        "id": "PGGh1uZ751RS"
      },
      "source": [
        "\n",
        "**Classificação de sentimentos do Twitter.**\n",
        "\n",
        "Neste notebook iremos treinar uma Rede Neural convolutiva com o intuito de classificar sentimentos do *Twitter em uma CNN*.\n",
        "\n",
        "- **Aluno(a):** Mayke Kend Gomes Delgado.\n",
        "- **Prof.** Jones Granatier\n",
        "- **Curso:** Pós-Graduação em Ciência de Dados.\n",
        "- **Disciplina** **169025** - Processamento de Linguagem Natural\n",
        "- **Matrícula:** 1691690020"
      ]
    },
    {
      "cell_type": "markdown",
      "metadata": {
        "id": "EJ6zhycx-LJa"
      },
      "source": [
        "# Etapa 1: Importação das bibliotecas"
      ]
    },
    {
      "cell_type": "code",
      "metadata": {
        "id": "1dfpd7ulxMFP"
      },
      "source": [
        "import numpy as np\n",
        "import math\n",
        "import re\n",
        "import pandas as pd\n",
        "from bs4 import BeautifulSoup\n",
        "from google.colab import drive\n",
        "import zipfile\n",
        "import seaborn as sns\n",
        "import spacy as sp\n",
        "import string\n",
        "import random\n",
        "import matplotlib.pyplot as plt"
      ],
      "execution_count": null,
      "outputs": []
    },
    {
      "cell_type": "code",
      "metadata": {
        "id": "0s8u890hxtSl",
        "colab": {
          "base_uri": "https://localhost:8080/",
          "height": 35
        },
        "outputId": "c0c89f21-a010-480b-f9bd-9e2e84dd753e"
      },
      "source": [
        "%tensorflow_version 2.x\n",
        "import tensorflow as tf\n",
        "tf.__version__"
      ],
      "execution_count": null,
      "outputs": [
        {
          "output_type": "execute_result",
          "data": {
            "application/vnd.google.colaboratory.intrinsic+json": {
              "type": "string"
            },
            "text/plain": [
              "'2.4.1'"
            ]
          },
          "metadata": {
            "tags": []
          },
          "execution_count": 2
        }
      ]
    },
    {
      "cell_type": "code",
      "metadata": {
        "id": "Z9C_Vycux_4G"
      },
      "source": [
        "from tensorflow.keras import layers\n",
        "import tensorflow_datasets as tfds"
      ],
      "execution_count": null,
      "outputs": []
    },
    {
      "cell_type": "markdown",
      "metadata": {
        "id": "WN8EilQG-cwa"
      },
      "source": [
        "# Etapa 2: Pré-processamento dos dados"
      ]
    },
    {
      "cell_type": "markdown",
      "metadata": {
        "id": "52CTV4_q-hpX"
      },
      "source": [
        "## Carregamento dos arquivos"
      ]
    },
    {
      "cell_type": "code",
      "metadata": {
        "id": "ABodhV5X0AEP"
      },
      "source": [
        "train_data = pd.read_csv('/content/Train50.csv',\n",
        "                        delimiter=';',\n",
        "                        #header=None,\n",
        "                        #names=cols,\n",
        "                        engine=\"python\",\n",
        "                        encoding=\"latin1\"\n",
        ")# leitura"
      ],
      "execution_count": null,
      "outputs": []
    },
    {
      "cell_type": "code",
      "metadata": {
        "id": "IH2qPu020S-O",
        "colab": {
          "base_uri": "https://localhost:8080/"
        },
        "outputId": "52269dbf-127b-485e-8bbf-de62aa90c896"
      },
      "source": [
        "train_data.shape"
      ],
      "execution_count": null,
      "outputs": [
        {
          "output_type": "execute_result",
          "data": {
            "text/plain": [
              "(50000, 5)"
            ]
          },
          "metadata": {
            "tags": []
          },
          "execution_count": 5
        }
      ]
    },
    {
      "cell_type": "code",
      "metadata": {
        "id": "ipULVOik0kIv",
        "colab": {
          "base_uri": "https://localhost:8080/",
          "height": 204
        },
        "outputId": "9a00c33c-102d-430b-b8a2-b2330755d4e9"
      },
      "source": [
        "train_data.head()"
      ],
      "execution_count": null,
      "outputs": [
        {
          "output_type": "execute_result",
          "data": {
            "text/html": [
              "<div>\n",
              "<style scoped>\n",
              "    .dataframe tbody tr th:only-of-type {\n",
              "        vertical-align: middle;\n",
              "    }\n",
              "\n",
              "    .dataframe tbody tr th {\n",
              "        vertical-align: top;\n",
              "    }\n",
              "\n",
              "    .dataframe thead th {\n",
              "        text-align: right;\n",
              "    }\n",
              "</style>\n",
              "<table border=\"1\" class=\"dataframe\">\n",
              "  <thead>\n",
              "    <tr style=\"text-align: right;\">\n",
              "      <th></th>\n",
              "      <th>id</th>\n",
              "      <th>tweet_text</th>\n",
              "      <th>tweet_date</th>\n",
              "      <th>sentiment</th>\n",
              "      <th>query_used</th>\n",
              "    </tr>\n",
              "  </thead>\n",
              "  <tbody>\n",
              "    <tr>\n",
              "      <th>0</th>\n",
              "      <td>1050785521201541121</td>\n",
              "      <td>@Laranjito76 A pessoa certa para isso seria o ...</td>\n",
              "      <td>Fri Oct 12 16:29:25 +0000 2018</td>\n",
              "      <td>1</td>\n",
              "      <td>:)</td>\n",
              "    </tr>\n",
              "    <tr>\n",
              "      <th>1</th>\n",
              "      <td>1050785431955140608</td>\n",
              "      <td>@behin_d_curtain Para mim, Ã© precisamente o c...</td>\n",
              "      <td>Fri Oct 12 16:29:04 +0000 2018</td>\n",
              "      <td>1</td>\n",
              "      <td>:)</td>\n",
              "    </tr>\n",
              "    <tr>\n",
              "      <th>2</th>\n",
              "      <td>1050785401248645120</td>\n",
              "      <td>Vou fazer um video hoje... estou pensando em f...</td>\n",
              "      <td>Fri Oct 12 16:28:56 +0000 2018</td>\n",
              "      <td>1</td>\n",
              "      <td>:)</td>\n",
              "    </tr>\n",
              "    <tr>\n",
              "      <th>3</th>\n",
              "      <td>1050785370982547461</td>\n",
              "      <td>aaaaaaaa amei tanto essas polaroids, nem sei e...</td>\n",
              "      <td>Fri Oct 12 16:28:49 +0000 2018</td>\n",
              "      <td>1</td>\n",
              "      <td>:)</td>\n",
              "    </tr>\n",
              "    <tr>\n",
              "      <th>4</th>\n",
              "      <td>1050785368902131713</td>\n",
              "      <td>Valoriza o coraÃ§Ã£o do menininho que vc tem. ...</td>\n",
              "      <td>Fri Oct 12 16:28:49 +0000 2018</td>\n",
              "      <td>1</td>\n",
              "      <td>:)</td>\n",
              "    </tr>\n",
              "  </tbody>\n",
              "</table>\n",
              "</div>"
            ],
            "text/plain": [
              "                    id  ... query_used\n",
              "0  1050785521201541121  ...         :)\n",
              "1  1050785431955140608  ...         :)\n",
              "2  1050785401248645120  ...         :)\n",
              "3  1050785370982547461  ...         :)\n",
              "4  1050785368902131713  ...         :)\n",
              "\n",
              "[5 rows x 5 columns]"
            ]
          },
          "metadata": {
            "tags": []
          },
          "execution_count": 6
        }
      ]
    },
    {
      "cell_type": "code",
      "metadata": {
        "id": "-lcG4i170rHC",
        "colab": {
          "base_uri": "https://localhost:8080/",
          "height": 289
        },
        "outputId": "5d93cd60-6211-4b80-f52d-bc349a763959"
      },
      "source": [
        "train_data.tail()"
      ],
      "execution_count": null,
      "outputs": [
        {
          "output_type": "execute_result",
          "data": {
            "text/html": [
              "<div>\n",
              "<style scoped>\n",
              "    .dataframe tbody tr th:only-of-type {\n",
              "        vertical-align: middle;\n",
              "    }\n",
              "\n",
              "    .dataframe tbody tr th {\n",
              "        vertical-align: top;\n",
              "    }\n",
              "\n",
              "    .dataframe thead th {\n",
              "        text-align: right;\n",
              "    }\n",
              "</style>\n",
              "<table border=\"1\" class=\"dataframe\">\n",
              "  <thead>\n",
              "    <tr style=\"text-align: right;\">\n",
              "      <th></th>\n",
              "      <th>id</th>\n",
              "      <th>tweet_text</th>\n",
              "      <th>tweet_date</th>\n",
              "      <th>sentiment</th>\n",
              "      <th>query_used</th>\n",
              "    </tr>\n",
              "  </thead>\n",
              "  <tbody>\n",
              "    <tr>\n",
              "      <th>49995</th>\n",
              "      <td>1046762827053232128</td>\n",
              "      <td>:( Ã© tÃ£o lindo que dÃ³i https://t.co/GqnpgyWWxB</td>\n",
              "      <td>Mon Oct 01 14:04:40 +0000 2018</td>\n",
              "      <td>0</td>\n",
              "      <td>:(</td>\n",
              "    </tr>\n",
              "    <tr>\n",
              "      <th>49996</th>\n",
              "      <td>1046762813362966529</td>\n",
              "      <td>@veraluciarj Pois Ã©.. tenho problema c/ \"cois...</td>\n",
              "      <td>Mon Oct 01 14:04:37 +0000 2018</td>\n",
              "      <td>0</td>\n",
              "      <td>:(</td>\n",
              "    </tr>\n",
              "    <tr>\n",
              "      <th>49997</th>\n",
              "      <td>1046762806392082432</td>\n",
              "      <td>eu te amo tanto minja vidinha meu bem mais pre...</td>\n",
              "      <td>Mon Oct 01 14:04:35 +0000 2018</td>\n",
              "      <td>0</td>\n",
              "      <td>:(</td>\n",
              "    </tr>\n",
              "    <tr>\n",
              "      <th>49998</th>\n",
              "      <td>1046762752071618560</td>\n",
              "      <td>@itsLary @jessboluda Pfvor :(</td>\n",
              "      <td>Mon Oct 01 14:04:22 +0000 2018</td>\n",
              "      <td>0</td>\n",
              "      <td>:(</td>\n",
              "    </tr>\n",
              "    <tr>\n",
              "      <th>49999</th>\n",
              "      <td>1046762735340584962</td>\n",
              "      <td>@Renk_lol Passa ano Entra ano Eu nao desisto d...</td>\n",
              "      <td>Mon Oct 01 14:04:18 +0000 2018</td>\n",
              "      <td>0</td>\n",
              "      <td>:(</td>\n",
              "    </tr>\n",
              "  </tbody>\n",
              "</table>\n",
              "</div>"
            ],
            "text/plain": [
              "                        id  ... query_used\n",
              "49995  1046762827053232128  ...         :(\n",
              "49996  1046762813362966529  ...         :(\n",
              "49997  1046762806392082432  ...         :(\n",
              "49998  1046762752071618560  ...         :(\n",
              "49999  1046762735340584962  ...         :(\n",
              "\n",
              "[5 rows x 5 columns]"
            ]
          },
          "metadata": {
            "tags": []
          },
          "execution_count": 7
        }
      ]
    },
    {
      "cell_type": "code",
      "metadata": {
        "id": "qs3Sxcs9003F",
        "colab": {
          "base_uri": "https://localhost:8080/"
        },
        "outputId": "0a5ce583-b7e4-4789-95a8-4b837ced4567"
      },
      "source": [
        "train_data.sentiment.unique()"
      ],
      "execution_count": null,
      "outputs": [
        {
          "output_type": "execute_result",
          "data": {
            "text/plain": [
              "array([1, 0])"
            ]
          },
          "metadata": {
            "tags": []
          },
          "execution_count": 8
        }
      ]
    },
    {
      "cell_type": "code",
      "metadata": {
        "id": "0je-FuRH05dp",
        "colab": {
          "base_uri": "https://localhost:8080/",
          "height": 333
        },
        "outputId": "f80a4e0f-f225-4aba-a67f-baaea1ac303e"
      },
      "source": [
        "sns.countplot(train_data.sentiment);"
      ],
      "execution_count": null,
      "outputs": [
        {
          "output_type": "stream",
          "text": [
            "/usr/local/lib/python3.7/dist-packages/seaborn/_decorators.py:43: FutureWarning: Pass the following variable as a keyword arg: x. From version 0.12, the only valid positional argument will be `data`, and passing other arguments without an explicit keyword will result in an error or misinterpretation.\n",
            "  FutureWarning\n"
          ],
          "name": "stderr"
        },
        {
          "output_type": "display_data",
          "data": {
            "image/png": "[encoded data removed]",
            "text/plain": [
              "<Figure size 432x288 with 1 Axes>"
            ]
          },
          "metadata": {
            "tags": [],
            "needs_background": "light"
          }
        }
      ]
    },
    {
      "cell_type": "code",
      "metadata": {
        "id": "u9DsaSa8Lgbz"
      },
      "source": [
        "test_data = pd.read_csv('/content/Test.csv',\n",
        "                        delimiter=';',\n",
        "                        #header=None,\n",
        "                        #names=cols,\n",
        "                        engine=\"python\",\n",
        "                        encoding=\"latin1\"\n",
        ") # carregando a base_teste"
      ],
      "execution_count": null,
      "outputs": []
    },
    {
      "cell_type": "code",
      "metadata": {
        "id": "iz4_kdXcNrK_",
        "colab": {
          "base_uri": "https://localhost:8080/",
          "height": 289
        },
        "outputId": "3d67ebd2-25c1-4b58-ab30-3dd580545db3"
      },
      "source": [
        "test_data.head() # lendo os primeiros registros"
      ],
      "execution_count": null,
      "outputs": [
        {
          "output_type": "execute_result",
          "data": {
            "text/html": [
              "<div>\n",
              "<style scoped>\n",
              "    .dataframe tbody tr th:only-of-type {\n",
              "        vertical-align: middle;\n",
              "    }\n",
              "\n",
              "    .dataframe tbody tr th {\n",
              "        vertical-align: top;\n",
              "    }\n",
              "\n",
              "    .dataframe thead th {\n",
              "        text-align: right;\n",
              "    }\n",
              "</style>\n",
              "<table border=\"1\" class=\"dataframe\">\n",
              "  <thead>\n",
              "    <tr style=\"text-align: right;\">\n",
              "      <th></th>\n",
              "      <th>id</th>\n",
              "      <th>tweet_text</th>\n",
              "      <th>tweet_date</th>\n",
              "      <th>sentiment</th>\n",
              "      <th>query_used</th>\n",
              "    </tr>\n",
              "  </thead>\n",
              "  <tbody>\n",
              "    <tr>\n",
              "      <th>0</th>\n",
              "      <td>1029536486021099522</td>\n",
              "      <td>@Gazo1a Nossa! Muito obrigada :)</td>\n",
              "      <td>Wed Aug 15 01:13:20 +0000 2018</td>\n",
              "      <td>1</td>\n",
              "      <td>:)</td>\n",
              "    </tr>\n",
              "    <tr>\n",
              "      <th>1</th>\n",
              "      <td>1029536496368406528</td>\n",
              "      <td>@BerzGamer vai pa puta que te pariu :)</td>\n",
              "      <td>Wed Aug 15 01:13:23 +0000 2018</td>\n",
              "      <td>1</td>\n",
              "      <td>:)</td>\n",
              "    </tr>\n",
              "    <tr>\n",
              "      <th>2</th>\n",
              "      <td>1029536531655131137</td>\n",
              "      <td>QUER MAIS DESCONTOS? (14/08) â­â­â­â­â­ ð...</td>\n",
              "      <td>Wed Aug 15 01:13:31 +0000 2018</td>\n",
              "      <td>1</td>\n",
              "      <td>:)</td>\n",
              "    </tr>\n",
              "    <tr>\n",
              "      <th>3</th>\n",
              "      <td>1029536560117678081</td>\n",
              "      <td>EU VOU PEGAR VCS, ME AJUDEM GALERA, PELO AMOR ...</td>\n",
              "      <td>Wed Aug 15 01:13:38 +0000 2018</td>\n",
              "      <td>1</td>\n",
              "      <td>:)</td>\n",
              "    </tr>\n",
              "    <tr>\n",
              "      <th>4</th>\n",
              "      <td>1029536605852377088</td>\n",
              "      <td>EstÃ¡vamos em casa do ZÃ© e eu estava a morrer...</td>\n",
              "      <td>Wed Aug 15 01:13:49 +0000 2018</td>\n",
              "      <td>1</td>\n",
              "      <td>:)</td>\n",
              "    </tr>\n",
              "  </tbody>\n",
              "</table>\n",
              "</div>"
            ],
            "text/plain": [
              "                    id  ... query_used\n",
              "0  1029536486021099522  ...         :)\n",
              "1  1029536496368406528  ...         :)\n",
              "2  1029536531655131137  ...         :)\n",
              "3  1029536560117678081  ...         :)\n",
              "4  1029536605852377088  ...         :)\n",
              "\n",
              "[5 rows x 5 columns]"
            ]
          },
          "metadata": {
            "tags": []
          },
          "execution_count": 11
        }
      ]
    },
    {
      "cell_type": "code",
      "metadata": {
        "id": "70F6_Qg9Nb20",
        "colab": {
          "base_uri": "https://localhost:8080/"
        },
        "outputId": "c61b65e3-27e8-4b7d-8005-91b686969afc"
      },
      "source": [
        "test_data.shape"
      ],
      "execution_count": null,
      "outputs": [
        {
          "output_type": "execute_result",
          "data": {
            "text/plain": [
              "(5000, 5)"
            ]
          },
          "metadata": {
            "tags": []
          },
          "execution_count": 12
        }
      ]
    },
    {
      "cell_type": "code",
      "metadata": {
        "id": "4TGNfarsNkb1",
        "colab": {
          "base_uri": "https://localhost:8080/"
        },
        "outputId": "30579f83-acf7-4d42-f42e-dd4f868b0e1a"
      },
      "source": [
        "test_data.sentiment.unique()"
      ],
      "execution_count": null,
      "outputs": [
        {
          "output_type": "execute_result",
          "data": {
            "text/plain": [
              "array([1, 0])"
            ]
          },
          "metadata": {
            "tags": []
          },
          "execution_count": 13
        }
      ]
    },
    {
      "cell_type": "code",
      "metadata": {
        "id": "Wr4JUrsPNgi1",
        "colab": {
          "base_uri": "https://localhost:8080/",
          "height": 333
        },
        "outputId": "771a2485-031c-491a-ed88-db69326f383f"
      },
      "source": [
        "sns.countplot(test_data.sentiment);"
      ],
      "execution_count": null,
      "outputs": [
        {
          "output_type": "stream",
          "text": [
            "/usr/local/lib/python3.7/dist-packages/seaborn/_decorators.py:43: FutureWarning: Pass the following variable as a keyword arg: x. From version 0.12, the only valid positional argument will be `data`, and passing other arguments without an explicit keyword will result in an error or misinterpretation.\n",
            "  FutureWarning\n"
          ],
          "name": "stderr"
        },
        {
          "output_type": "display_data",
          "data": {
            "image/png": "[encoded data removed]",
            "text/plain": [
              "<Figure size 432x288 with 1 Axes>"
            ]
          },
          "metadata": {
            "tags": [],
            "needs_background": "light"
          }
        }
      ]
    },
    {
      "cell_type": "markdown",
      "metadata": {
        "id": "6CsZKJx1-2Ep"
      },
      "source": [
        "## Pré-processamento"
      ]
    },
    {
      "cell_type": "markdown",
      "metadata": {
        "id": "FLWayJ-5-7nN"
      },
      "source": [
        "### Limpeza"
      ]
    },
    {
      "cell_type": "code",
      "metadata": {
        "id": "hgcKJ8jo2IAU"
      },
      "source": [
        "data = train_data"
      ],
      "execution_count": null,
      "outputs": []
    },
    {
      "cell_type": "code",
      "metadata": {
        "id": "RpgAD42t2VEm"
      },
      "source": [
        "data.drop(['id', 'tweet_date', 'query_used'], axis = 1, inplace=True) # removendo as colunas irrelevantes"
      ],
      "execution_count": null,
      "outputs": []
    },
    {
      "cell_type": "code",
      "metadata": {
        "id": "-rn747Zk2gwp",
        "colab": {
          "base_uri": "https://localhost:8080/",
          "height": 204
        },
        "outputId": "35c57395-ba8e-43ae-fbc3-609786e18ca8"
      },
      "source": [
        "data.head()"
      ],
      "execution_count": null,
      "outputs": [
        {
          "output_type": "execute_result",
          "data": {
            "text/html": [
              "<div>\n",
              "<style scoped>\n",
              "    .dataframe tbody tr th:only-of-type {\n",
              "        vertical-align: middle;\n",
              "    }\n",
              "\n",
              "    .dataframe tbody tr th {\n",
              "        vertical-align: top;\n",
              "    }\n",
              "\n",
              "    .dataframe thead th {\n",
              "        text-align: right;\n",
              "    }\n",
              "</style>\n",
              "<table border=\"1\" class=\"dataframe\">\n",
              "  <thead>\n",
              "    <tr style=\"text-align: right;\">\n",
              "      <th></th>\n",
              "      <th>tweet_text</th>\n",
              "      <th>sentiment</th>\n",
              "    </tr>\n",
              "  </thead>\n",
              "  <tbody>\n",
              "    <tr>\n",
              "      <th>0</th>\n",
              "      <td>@Laranjito76 A pessoa certa para isso seria o ...</td>\n",
              "      <td>1</td>\n",
              "    </tr>\n",
              "    <tr>\n",
              "      <th>1</th>\n",
              "      <td>@behin_d_curtain Para mim, Ã© precisamente o c...</td>\n",
              "      <td>1</td>\n",
              "    </tr>\n",
              "    <tr>\n",
              "      <th>2</th>\n",
              "      <td>Vou fazer um video hoje... estou pensando em f...</td>\n",
              "      <td>1</td>\n",
              "    </tr>\n",
              "    <tr>\n",
              "      <th>3</th>\n",
              "      <td>aaaaaaaa amei tanto essas polaroids, nem sei e...</td>\n",
              "      <td>1</td>\n",
              "    </tr>\n",
              "    <tr>\n",
              "      <th>4</th>\n",
              "      <td>Valoriza o coraÃ§Ã£o do menininho que vc tem. ...</td>\n",
              "      <td>1</td>\n",
              "    </tr>\n",
              "  </tbody>\n",
              "</table>\n",
              "</div>"
            ],
            "text/plain": [
              "                                          tweet_text  sentiment\n",
              "0  @Laranjito76 A pessoa certa para isso seria o ...          1\n",
              "1  @behin_d_curtain Para mim, Ã© precisamente o c...          1\n",
              "2  Vou fazer um video hoje... estou pensando em f...          1\n",
              "3  aaaaaaaa amei tanto essas polaroids, nem sei e...          1\n",
              "4  Valoriza o coraÃ§Ã£o do menininho que vc tem. ...          1"
            ]
          },
          "metadata": {
            "tags": []
          },
          "execution_count": 17
        }
      ]
    },
    {
      "cell_type": "code",
      "metadata": {
        "id": "ufHeTh612mev"
      },
      "source": [
        "X = data.iloc[:, 0].values # retona apenas os textos"
      ],
      "execution_count": null,
      "outputs": []
    },
    {
      "cell_type": "code",
      "metadata": {
        "id": "8i6-FOPH2zrS",
        "colab": {
          "base_uri": "https://localhost:8080/"
        },
        "outputId": "743c605f-c0bf-4046-a4f3-d4177a0f04dc"
      },
      "source": [
        "X  # lendo os textos"
      ],
      "execution_count": null,
      "outputs": [
        {
          "output_type": "execute_result",
          "data": {
            "text/plain": [
              "array(['@Laranjito76 A pessoa certa para isso seria o vale e azevedo :)',\n",
              "       '@behin_d_curtain Para mim, Ã© precisamente o contrÃ¡rio :) Vem a chuva e vem a boa disposiÃ§Ã£o :)',\n",
              "       'Vou fazer um video hoje... estou pensando em falar um pouco sobre o novo meta do CSGO e sobre a pagina https://t.co/5RjhKnj0oh Alguem tem uma sugestao? Queria falar sobre algo do cenario nacional :D',\n",
              "       ...,\n",
              "       'eu te amo tanto minja vidinha meu bem mais precioso me desculpa ser uma pÃ©ssima utted mas eu te amo mais que tudo nem palavras Ã© capaz de explicar o tamanho do amor que sinto por ti :(((( https://t.co/4ND7F203et',\n",
              "       '@itsLary @jessboluda Pfvor :(',\n",
              "       '@Renk_lol Passa ano Entra ano Eu nao desisto do NA :('],\n",
              "      dtype=object)"
            ]
          },
          "metadata": {
            "tags": []
          },
          "execution_count": 19
        }
      ]
    },
    {
      "cell_type": "code",
      "metadata": {
        "id": "vxb9dUzY22O7",
        "colab": {
          "base_uri": "https://localhost:8080/"
        },
        "outputId": "716d568c-cda6-4686-8637-379bd5c51fb7"
      },
      "source": [
        "X.shape"
      ],
      "execution_count": null,
      "outputs": [
        {
          "output_type": "execute_result",
          "data": {
            "text/plain": [
              "(50000,)"
            ]
          },
          "metadata": {
            "tags": []
          },
          "execution_count": 20
        }
      ]
    },
    {
      "cell_type": "code",
      "metadata": {
        "id": "G1xQNeQC253m",
        "colab": {
          "base_uri": "https://localhost:8080/"
        },
        "outputId": "3d22aeb9-d55c-45a6-d523-29ca738fa1c7"
      },
      "source": [
        "type(X)"
      ],
      "execution_count": null,
      "outputs": [
        {
          "output_type": "execute_result",
          "data": {
            "text/plain": [
              "numpy.ndarray"
            ]
          },
          "metadata": {
            "tags": []
          },
          "execution_count": 21
        }
      ]
    },
    {
      "cell_type": "code",
      "metadata": {
        "id": "AubTH1vn2_FX",
        "colab": {
          "base_uri": "https://localhost:8080/"
        },
        "outputId": "3f84ffad-f738-48b2-84b0-59d803571426"
      },
      "source": [
        "y = data.iloc[:, 1].values # retorna sentimentos\n",
        "y"
      ],
      "execution_count": null,
      "outputs": [
        {
          "output_type": "execute_result",
          "data": {
            "text/plain": [
              "array([1, 1, 1, ..., 0, 0, 0])"
            ]
          },
          "metadata": {
            "tags": []
          },
          "execution_count": 22
        }
      ]
    },
    {
      "cell_type": "code",
      "metadata": {
        "id": "w_b_QPYQ3Ep-"
      },
      "source": [
        "from sklearn.model_selection import train_test_split\n",
        "X, _, y, _ = train_test_split(X, y, test_size = 0.93, stratify = y) # vamos dividir a base de dados entre treinamento e teste, são 93% para testar"
      ],
      "execution_count": null,
      "outputs": []
    },
    {
      "cell_type": "code",
      "metadata": {
        "id": "k2f37zL63qWd",
        "colab": {
          "base_uri": "https://localhost:8080/"
        },
        "outputId": "413671e3-eaef-462a-8af6-8c6c08cfc6f1"
      },
      "source": [
        "X.shape # textos para treinar"
      ],
      "execution_count": null,
      "outputs": [
        {
          "output_type": "execute_result",
          "data": {
            "text/plain": [
              "(3500,)"
            ]
          },
          "metadata": {
            "tags": []
          },
          "execution_count": 24
        }
      ]
    },
    {
      "cell_type": "code",
      "metadata": {
        "id": "XJm3bSbL3t6M",
        "colab": {
          "base_uri": "https://localhost:8080/"
        },
        "outputId": "19602332-9ee7-435b-a0a4-2136e4029348"
      },
      "source": [
        "y.shape"
      ],
      "execution_count": null,
      "outputs": [
        {
          "output_type": "execute_result",
          "data": {
            "text/plain": [
              "(3500,)"
            ]
          },
          "metadata": {
            "tags": []
          },
          "execution_count": 25
        }
      ]
    },
    {
      "cell_type": "code",
      "metadata": {
        "id": "wt7qG0FC3xMJ",
        "colab": {
          "base_uri": "https://localhost:8080/"
        },
        "outputId": "36ae58fb-dab9-4af2-a472-f2c08197a2c9"
      },
      "source": [
        "unique, counts = np.unique(y, return_counts=True)\n",
        "unique, counts # realiza as contagens, temos 1750 palavras únicas nos textos"
      ],
      "execution_count": null,
      "outputs": [
        {
          "output_type": "execute_result",
          "data": {
            "text/plain": [
              "(array([0, 1]), array([1750, 1750]))"
            ]
          },
          "metadata": {
            "tags": []
          },
          "execution_count": 26
        }
      ]
    },
    {
      "cell_type": "code",
      "metadata": {
        "id": "H7FmwPT14sW-"
      },
      "source": [
        "def clean_tweets(tweet): # realizando pré-processamento nos dados\n",
        "  tweet = BeautifulSoup(tweet, 'lxml').get_text()\n",
        "  tweet = re.sub(r\"@[A-Za-z0-9]+\", ' ', tweet) # remoção de usuário\n",
        "  tweet = re.sub(r\"https?://[A-Za-z0-9./]+\", ' ', tweet) # remoção de links\n",
        "  tweet = re.sub(r\"[^a-zA-Z.!?]\", ' ', tweet) # remoção de espaços em ranco\n",
        "  tweet = re.sub(r\" +\", ' ', tweet)\n",
        "  return tweet"
      ],
      "execution_count": null,
      "outputs": []
    },
    {
      "cell_type": "code",
      "metadata": {
        "id": "cHmUE8DZOOUR"
      },
      "source": [
        "# realizando um teste\n",
        "text = \"@switchfoot http://twitpic.com/2y1zl - Awww, that's a bummer.  2 You shoulda got David Carr of Third Day to do it. ;D\""
      ],
      "execution_count": null,
      "outputs": []
    },
    {
      "cell_type": "code",
      "metadata": {
        "id": "MP-hnjvy5BIC",
        "colab": {
          "base_uri": "https://localhost:8080/",
          "height": 35
        },
        "outputId": "c88b11ce-f289-4aed-d039-4ef14874ae56"
      },
      "source": [
        "text = clean_tweets(text)\n",
        "text # resultado do teste"
      ],
      "execution_count": null,
      "outputs": [
        {
          "output_type": "execute_result",
          "data": {
            "application/vnd.google.colaboratory.intrinsic+json": {
              "type": "string"
            },
            "text/plain": [
              "' Awww that s a bummer. You shoulda got David Carr of Third Day to do it. D'"
            ]
          },
          "metadata": {
            "tags": []
          },
          "execution_count": 29
        }
      ]
    },
    {
      "cell_type": "code",
      "metadata": {
        "id": "hRBQX0f27WDf",
        "colab": {
          "base_uri": "https://localhost:8080/"
        },
        "outputId": "1c24d02f-1b39-4338-ef75-58b2ca95b067"
      },
      "source": [
        "nlp = sp.load('en')\n",
        "nlp # carregar um modelo do spacy em um modelo em inglês"
      ],
      "execution_count": null,
      "outputs": [
        {
          "output_type": "execute_result",
          "data": {
            "text/plain": [
              "<spacy.lang.en.English at 0x7f6355a7e710>"
            ]
          },
          "metadata": {
            "tags": []
          },
          "execution_count": 30
        }
      ]
    },
    {
      "cell_type": "code",
      "metadata": {
        "id": "as-SxDtI7sBP"
      },
      "source": [
        "stop_words = sp.lang.en.STOP_WORDS # Usaremos stop_words para realizarmos um pré-processamento nos dados"
      ],
      "execution_count": null,
      "outputs": []
    },
    {
      "cell_type": "code",
      "metadata": {
        "id": "s3O0rC3u7xyN",
        "colab": {
          "base_uri": "https://localhost:8080/"
        },
        "outputId": "d65121b0-9ef3-4fb7-b31f-6fdd8e05f2e5"
      },
      "source": [
        "print(stop_words) # identificando as palavras irrelevantes"
      ],
      "execution_count": null,
      "outputs": [
        {
          "output_type": "stream",
          "text": [
            "{'thence', 'call', 'between', 'us', 'neither', 'again', 'she', 'when', 'meanwhile', 'his', 'forty', '‘ll', 'me', 'has', 'mostly', 'around', 'enough', 'indeed', 'sixty', 'everywhere', 'once', 'than', 'ours', 'alone', 'hereafter', 'quite', 'onto', 'until', 'regarding', 'many', 'done', 'somehow', 'make', 'nevertheless', 'move', 'though', 'therefore', 'various', 'since', 'while', 'after', 'its', 'first', 'which', 'are', \"'d\", 'few', 'both', 'show', 'before', 'even', \"'re\", 'something', 'whose', 'eight', 'to', 'by', 'eleven', 'part', 'either', 'becoming', 'moreover', 'seems', 'about', 'top', 'thereupon', 'a', 'two', '‘m', 'latterly', 'in', 'go', 'an', 'beforehand', 'just', 'where', 'everyone', 'take', 'formerly', '‘re', 'one', 'why', 'himself', 'several', 'nor', 'along', 'through', 'our', 'made', 'never', 'now', 'their', 'four', 'against', 'thus', 'say', 'sometimes', 'name', 'someone', 'often', 'too', 'least', 'wherein', 'into', 'former', 'very', 'towards', 'beyond', 'we', 'if', '‘s', 'and', 'per', 'herein', 'none', \"'s\", 'put', 'they', 'whence', '’m', 'fifteen', '’ve', 'same', 'yours', 'had', 'therein', 'was', 'him', 'over', 'being', 'out', 'due', 'anything', 'beside', 'full', 'latter', 'most', 'myself', '’re', 'could', 'much', 'yourselves', 'n’t', 'who', 'am', 'those', 'did', 'without', 'because', 'up', 'yet', 'always', 'at', 'five', 'become', 'nine', 'still', 'there', 'next', 'below', 'almost', 'would', 'else', 'hereupon', 'on', 'further', '’ll', 'also', 'third', 'do', 'please', 'seeming', 'anyway', 'her', 'within', 'afterwards', 'whither', 'noone', 'off', 'nowhere', 'six', 'the', 'fifty', 'although', 'wherever', 'used', 'ourselves', 'with', 'everything', 'anywhere', 'throughout', 'well', 'mine', 'using', 'whole', 'together', 'somewhere', \"n't\", 'how', 'that', 'last', 'themselves', 'should', 'n‘t', 'seemed', 'no', 'down', 'whereby', 'must', 'will', 'whereafter', 'among', 'behind', 'of', 'already', 'hence', 'nothing', 'each', 're', 'every', 'toward', 'above', 'then', 'thereafter', 'some', 'your', 'three', 'yourself', 'twenty', 'besides', 'as', 'thru', 'anyhow', 'sometime', 'may', 'here', 'becomes', 'whatever', 'itself', 'really', 'cannot', 'however', 'them', 'been', 'all', 'ever', 'whenever', 'amount', 'give', 'so', 'can', 'amongst', 'get', 'such', 'only', 'whoever', 'back', 'he', 'have', 'via', 'ca', 'nobody', 'other', 'does', 'upon', 'this', 'what', 'for', 'see', 'side', 'i', 'seem', 'my', 'whom', 'hers', '‘d', 'serious', 'twelve', 'more', 'under', 'perhaps', 'whereas', \"'ll\", 'might', 'own', 'except', 'hereby', 'became', 'otherwise', 'during', 'others', 'namely', 'but', 'whether', 'were', 'another', 'or', 'front', 'anyone', 'empty', 'across', 'from', 'keep', 'not', 'you', 'any', 'is', 'herself', 'be', 'less', 'elsewhere', 'hundred', \"'m\", '’s', 'unless', 'these', 'rather', 'whereupon', 'bottom', '‘ve', \"'ve\", 'it', 'ten', 'doing', 'thereby', '’d'}\n"
          ],
          "name": "stdout"
        }
      ]
    },
    {
      "cell_type": "code",
      "metadata": {
        "id": "5bYoV0pD70yQ",
        "colab": {
          "base_uri": "https://localhost:8080/"
        },
        "outputId": "8fa6d28f-edf3-471c-9046-0e011263fb13"
      },
      "source": [
        "len(stop_words) # quantidade de stop_words em inglês, bem inferior a nossa base de dados em português"
      ],
      "execution_count": null,
      "outputs": [
        {
          "output_type": "execute_result",
          "data": {
            "text/plain": [
              "326"
            ]
          },
          "metadata": {
            "tags": []
          },
          "execution_count": 33
        }
      ]
    },
    {
      "cell_type": "code",
      "metadata": {
        "id": "vGHvLXiJ9qQC",
        "colab": {
          "base_uri": "https://localhost:8080/",
          "height": 35
        },
        "outputId": "bff3ce73-a261-43de-82bc-aa8e4e7adf9d"
      },
      "source": [
        "string.punctuation # visualizando as pontuações"
      ],
      "execution_count": null,
      "outputs": [
        {
          "output_type": "execute_result",
          "data": {
            "application/vnd.google.colaboratory.intrinsic+json": {
              "type": "string"
            },
            "text/plain": [
              "'!\"#$%&\\'()*+,-./:;<=>?@[\\\\]^_`{|}~'"
            ]
          },
          "metadata": {
            "tags": []
          },
          "execution_count": 34
        }
      ]
    },
    {
      "cell_type": "code",
      "metadata": {
        "id": "Zk-HcIoT7-hh"
      },
      "source": [
        "def clean_tweets2(tweet):\n",
        "  tweet = tweet.lower()\n",
        "  document = nlp(tweet)\n",
        "\n",
        "  words = []\n",
        "  for token in document:\n",
        "    words.append(token.text)\n",
        "\n",
        "  words = [word for word in words if word not in stop_words and word not in string.punctuation]\n",
        "  words = ' '.join([str(element) for element in words])\n",
        "\n",
        "  return words # função para realizar o pré-processamento"
      ],
      "execution_count": null,
      "outputs": []
    },
    {
      "cell_type": "code",
      "metadata": {
        "id": "kCereV1KRpci"
      },
      "source": [
        "# Awww that's a bummer. You shoulda got David Carr of Third Day to do it. D\""
      ],
      "execution_count": null,
      "outputs": []
    },
    {
      "cell_type": "code",
      "metadata": {
        "id": "JNvx3x408hTK",
        "colab": {
          "base_uri": "https://localhost:8080/",
          "height": 35
        },
        "outputId": "6e9ab310-e22d-4740-aa40-3d9666334c79"
      },
      "source": [
        "text2 = clean_tweets2(text)\n",
        "text2 # resultado de mais um teste em inglês"
      ],
      "execution_count": null,
      "outputs": [
        {
          "output_type": "execute_result",
          "data": {
            "application/vnd.google.colaboratory.intrinsic+json": {
              "type": "string"
            },
            "text/plain": [
              "'  awww s bummer shoulda got david carr day d'"
            ]
          },
          "metadata": {
            "tags": []
          },
          "execution_count": 37
        }
      ]
    },
    {
      "cell_type": "code",
      "metadata": {
        "id": "L6eJcZog-Ze1"
      },
      "source": [
        "data_clean = [clean_tweets2(clean_tweets(tweet)) for tweet in X] # dados limpos, demora um pouco em relação aos textos"
      ],
      "execution_count": null,
      "outputs": []
    },
    {
      "cell_type": "code",
      "metadata": {
        "id": "0NwcYJTLJ1hq",
        "colab": {
          "base_uri": "https://localhost:8080/"
        },
        "outputId": "216aa587-f782-49d8-8436-5f5230a10cdb"
      },
      "source": [
        "for _ in range(10):  # selecionando os textos aleatoricamente com o intuito de retonar textos em randons\n",
        "  print(data_clean[random.randint(0, len(data_clean) - 1)])"
      ],
      "execution_count": null,
      "outputs": [
        {
          "output_type": "stream",
          "text": [
            "  espero muito que minha m e sa hosp l pra eu ter pique de ir\n",
            "  t frio demais m hug\n",
            "  almeida isso depende de o quanto d o problema que voc est resolvendo eu j entreguei mvps que deixaram o cliente t o feliz quanto esse cara skate\n",
            "  qual eh o teu signo sou de fome com ascend ncia em sonos\n",
            "  s resta chorar\n",
            "qria conseguir tirar notif de caixa postal meu cel\n",
            "que cara escroto se t bom pra ele ok o resto f\n",
            "  n o foi manu d avila ahhhh e parab ns\n",
            "  olhe pra voc e pense se voc se encaixa nisso esteri tipos n o dizem nada sobre ningu m apenas s o esteri tipos\n",
            "  acho que gente ainda t bestializado tudo se anunciou h mt tempo mas segue sendo surreal\n"
          ],
          "name": "stdout"
        }
      ]
    },
    {
      "cell_type": "code",
      "metadata": {
        "id": "NHDdk6OyKPTF"
      },
      "source": [
        "data_labels = y"
      ],
      "execution_count": null,
      "outputs": []
    },
    {
      "cell_type": "code",
      "metadata": {
        "id": "sCwBVu_-KS6x"
      },
      "source": [
        "data_labels[data_labels == 4] = 1"
      ],
      "execution_count": null,
      "outputs": []
    },
    {
      "cell_type": "code",
      "metadata": {
        "id": "HnEu3ydNKdtW",
        "colab": {
          "base_uri": "https://localhost:8080/"
        },
        "outputId": "a7f8df53-9bc5-4c7f-f6e2-fe836050aec8"
      },
      "source": [
        "data_labels"
      ],
      "execution_count": null,
      "outputs": [
        {
          "output_type": "execute_result",
          "data": {
            "text/plain": [
              "array([0, 1, 0, ..., 0, 0, 0])"
            ]
          },
          "metadata": {
            "tags": []
          },
          "execution_count": 42
        }
      ]
    },
    {
      "cell_type": "code",
      "metadata": {
        "id": "amKqM8FjKgT-",
        "colab": {
          "base_uri": "https://localhost:8080/"
        },
        "outputId": "da60fbd1-a3d3-45fd-ff8f-ec9acbba3f39"
      },
      "source": [
        "np.unique(data_labels)"
      ],
      "execution_count": null,
      "outputs": [
        {
          "output_type": "execute_result",
          "data": {
            "text/plain": [
              "array([0, 1])"
            ]
          },
          "metadata": {
            "tags": []
          },
          "execution_count": 43
        }
      ]
    },
    {
      "cell_type": "markdown",
      "metadata": {
        "id": "GTKZ5fUh_Kxz"
      },
      "source": [
        "### Tokenização"
      ]
    },
    {
      "cell_type": "code",
      "metadata": {
        "id": "8XI8WWOFNiJ8",
        "colab": {
          "base_uri": "https://localhost:8080/"
        },
        "outputId": "0f4d3ea7-2042-494f-9d23-99f223167a51"
      },
      "source": [
        "2**16"
      ],
      "execution_count": null,
      "outputs": [
        {
          "output_type": "execute_result",
          "data": {
            "text/plain": [
              "65536"
            ]
          },
          "metadata": {
            "tags": []
          },
          "execution_count": 44
        }
      ]
    },
    {
      "cell_type": "code",
      "metadata": {
        "id": "s55Dd-UqNncW",
        "colab": {
          "base_uri": "https://localhost:8080/"
        },
        "outputId": "7c8735f3-577a-4e3a-c7ea-c831988a455e"
      },
      "source": [
        "import math\n",
        "math.pow(2, 16)"
      ],
      "execution_count": null,
      "outputs": [
        {
          "output_type": "execute_result",
          "data": {
            "text/plain": [
              "65536.0"
            ]
          },
          "metadata": {
            "tags": []
          },
          "execution_count": 45
        }
      ]
    },
    {
      "cell_type": "code",
      "metadata": {
        "id": "dwE2jYo2MkaZ"
      },
      "source": [
        "tokenizer = tfds.deprecated.text.SubwordTextEncoder.build_from_corpus(data_clean, target_vocab_size=2**16)"
      ],
      "execution_count": null,
      "outputs": []
    },
    {
      "cell_type": "code",
      "metadata": {
        "id": "CV2y2U1gOl2W",
        "colab": {
          "base_uri": "https://localhost:8080/"
        },
        "outputId": "0597c9dc-d28b-4f24-b2e9-9a33268ca74b"
      },
      "source": [
        "tokenizer.vocab_size # foi gerado 8950 palavras únicas"
      ],
      "execution_count": null,
      "outputs": [
        {
          "output_type": "execute_result",
          "data": {
            "text/plain": [
              "8691"
            ]
          },
          "metadata": {
            "tags": []
          },
          "execution_count": 47
        }
      ]
    },
    {
      "cell_type": "code",
      "metadata": {
        "id": "FG1e9KoWOvx0",
        "colab": {
          "base_uri": "https://localhost:8080/"
        },
        "outputId": "8c35a8ca-8e78-4855-8afc-a66efa7f7f5b"
      },
      "source": [
        "print(tokenizer.subwords)"
      ],
      "execution_count": null,
      "outputs": [
        {
          "output_type": "stream",
          "text": [
            "['o_', '  ', 'que_', 'de_', 'e_', 'eu_', 'n_', 's_', 'pra_', 'mas_', 'com_', 'um_', 't_', 'se_', 'meu_', 'na_', 'm_', 'da_', 'uma_', 'mais_', 'por_', 'em_', 'q_', 'minha_', 'muito_', 'voc_', 'vou_', 'tem_', 'para_', 'ser_', 'isso_', 'vai_', 'os_', 'j_', 'dia_', 'd_', 'vc_', 'ele_', ' ... ', 'te_', 'queria_', 'como_', 'bem_', 'ter_', 'gente_', 'bom_', 'pq_', 'foi_', 'p_', 'tenho_', 'nem_', 'tudo_', 'esse_', 'essa_', 'ou_', 'v_', 'mesmo_', 'est_', 'ainda_', 'aqui_', 'ver_', 'ela_', 'sim_', 'quero_', 'nao_', 'quando_', 'amo_', 'quem_', 'sou_', 'agora_', 'fazer_', 'acho_', 'triste_', 'pelo_', 'hoje_', 'estou_', 'era_', 'ta_', 'tamb_', 'sem_', 'ir_', 'pode_', 'seu_', 'ai_', 'sempre_', 'ficar_', 'boa_', 'feliz_', 'meus_', 'es_', 'tu_', 'dos_', 'ao_', 'l_', 'ent_', 'das_', ' ...', 'tava_', 'nada_', 'melhor_', 'tanto_', 'rio_', 'sei_', 'mt_', 'c_', 'b_', 'vamos_', 'todos_', 'pessoas_', 'assim_', 'todo_', 'sua_', 'ncia_', 'faz_', 'vel_', 'algu_', 'vcs_', 'nunca_', 'menos_', 'estar_', 'eles_', 'pessoa_', 'cara_', 'porque_', 'nos_', 'mundo_', 'obrigada_', 'falar_', 'espero_', 'vida_', 'tinha_', 'ciro_', 'mim_', 'h_', 'fala_', 'eh_', 'deus_', 'ria_', 'pro_', 'nossa_', 'mesmo', 'f_', 'dar_', 'coisa_', 'isso', 'come_', 'casa_', 'semana_', 'dormir_', 'ah_', 'sinto_', 'oi_', 'fico_', 'amor_', 'sobre_', 'sabe_', 'infelizmente_', 'fiquei_', 'brasil_', 'bolsonaro_', 'amiga_', 'seja_', 'medo_', 'depois_', 'dele_', 'mim', 'ia_', 'demais_', '. ', 'tica_', 'saber_', 'ningu_', 'dias_', 'coisas_', 'fui_', 'fiz_', 'anos_', 'ano_', 'tempo_', 'tbm_', 'segundo_', 'quer_', 'pt_', 'parab_', 'olha_', 'novo_', 'nas_', 'mano_', 'hora_', 'bem', ' .. ', 'votar_', 'uns_', 'toda_', 'obrigado_', 'nosso_', 'mal_', 'elei_', 'sair_', 'ruim_', 'poder_', 'pena_', 'falando_', 'cora_', 'vem_', 'saudade_', 'pr_', 'pol_', 'pela_', 'parte_', 'onde_', 'ns_', 'dizer_', 'algo_', 'achei_', 'pois_', 'pior_', 'noite_', 'nessa_', 'fica_', 'favor_', 'dio_', 'conta_', 'chamar_', 'ar_', 'vez_', 'verdade_', 'triste', 'tipo_', 'realmente_', 'problema_', 'parece_', 'nada', 'merda_', 'estava_', 'escola_', 'desse_', 'vontade_', 'vi_', 'teve_', 'quiser_', 'preciso_', 'lugar_', 'ficou_', 'dia', 'deu_', 'demais', 'certo_', 'voto_', 'turno_', 'qualquer_', 'pa_', 'obrigada', 'haddad_', 'gosto_', 'foo_', 'fa_', 'estamos_', 'dif_', 'candidato_', 'bar_', 'amigos_', 'rias_', 'outro_', 'outra_', 'fosse_', 'falta_', 'amanh_', 'tb_', 'qual_', 'oq_', 'nesse_', 'momento_', 'lindo_', 'ler_', 'hoje', 'foda_', 'deve_', 'deo_', 'contra_', 'aqui', 'amor', 'amigo_', 'alguma_', 'tirar_', 'saudades_', 'primeiro_', 'poxa_', 'outros_', 'ontem_', 'maior_', 'jeito_', 'ja_', 'comigo_', 'cil_', 'antes_', 'vezes_', 'super_', 'sonho_', 'quase_', 'porra_', 'mais', 'linda_', 'lado_', 'hist_', 'fazendo_', 'dm_', 'desde_', 'chegar_', 'causa_', 'acordei_', 'sozinha_', 'sendo_', 'rio', 'quanto_', 'puta_', 'posso_', 'pai_', 'opini_', 'mulher_', 'muita_', 'mto_', 'minhas_', 'grande_', 'fez_', 'falou_', 'esses_', 'enquanto_', 'dele', 'comer_', 'cada_', 'assim', 'anjo_', 'anivers_', 'algum_', 'adoro_', 'vota_', 'vida', 'vendo_', 'todas_', 'tentar_', 'seus_', 'precisa_', 'fora_', 'final_', 'essas_', 'dor_', 'desculpa_', 'consigo_', 'conseguir_', 'comigo', 'chama_', 'amizade_', 'almo_', 'voltar_', 'tudo', 'trabalhar_', 'temos_', 'tao_', 'tanta_', 'resultado_', 'real_', 'r_', 'outubro_', 'nenhum_', 'manda_', 'lindo', 'hj_', 'gosta_', 'ele', 'duas_', 'dessa_', 'deixa_', 'crian_', 'consegui_', 'caso_', 'caralho_', 'algumas_', 'acabou_', 'abra_', 'twt_', 'tua_', 'trabalho_', 'tiver_', 'tive_', 'sorte_', 'sim', 'sentir_', 'sentindo_', 'segunda_', 'rosa_', 'rios_', 'perdi_', 'perder_', 'odeio_', 'nica_', 'muito', 'mesma_', 'meio_', 'la_', 'foto_', 'foram_', 'fim_', 'dormi_', 'dois_', 'daqui_', 'conversar_', 'colocar_', 'aula_', 'aquele_', 'alguns_', 'x_', 'vir_', 'umas_', 'twitter_', 'tomar_', 'tbm', 'suas_', 'sica_', 'seria_', 'pouco_', 'podem_', 'pessoal_', 'pensei_', 'pensar_', 'passando_', 'parar_', 'obrigado', 'num_', 'nico_', 'ngm_', 'legal_', 'indo_', 'gostei_', 'galera_', 'forma_', 'fam_', 'eu', 'este_', 'estado_', 'esta_', 'cu_', 'cmg_', 'chorei_', 'chorando_', 'casa', 'bom', 'agr_', 'acredito_', 'acabei_', 'voc', 'primeira_', 'povo_', 'pensando_', 'merece_', 'manh_', 'logo_', 'horas_', 'gra_', 'filme_', 'fascista_', 'elas_', 'dm', 'comprar_', 'cidade_', 'chorar_', 'certeza_', 'cedo_', 'cabe_', 'bozo_', 'apenas_', 'ali_', 'agora', 'usar_', 'tou_', 'tenha_', 'tendo_', 'sono_', 'site_', 'sabem_', 'querem_', 'prova_', 'procurar_', 'ponto_', 'passou_', 'passei_', 'passar_', 'ouvir_', 'ok_', 'nenhuma_', 'mensagem_', 'melhores_', 'matar_', 'lembro_', 'irm_', 'importante_', 'ideia_', 'fotos_', 'fique_', 'feliz', 'falei_', 'esperando_', 'esperan_', 'dps_', 'diz_', 'disso_', 'disse_', 'dentro_', 'deles_', 'deixar_', 'dando_', 'conversa_', 'claro_', 'brasil', 'boas_', 'aulas_', 'app_', 'ap_', 'anjo', 'ando_', 'al_', 'ajudar_', 'ajuda_', 'acordo_', 'acordar_', 'acha_', 'volta_', 'video_', 'vergonha_', 'vejo_', 'vc', 'tr_', 'teu_', 'td_', 'tarde', 'talvez_', 'sorriso_', 'sexta_', 'sdds_', 'rua_', 'respeito_', 'provavelmente_', 'propostas_', 'presidente_', 'pouquinho_', 'poss_', 'poderia_', 'perto_', 'partido_', 'pais_', 'outras_', 'nome_', 'noite', 'nisso_', 'ne_', 'mulheres_', 'morrer_', 'mo_', 'mat_', 'marcar_', 'longe_', 'lia_', 'leva_', 'igual_', 'hj', 'gua_', 'gente', 'forte_', 'entendo_', 'entendi_', 'eleito_', 'dormir', 'dela', 'deixou_', 'cmg', 'bosta_', 'bastante_', 'ainda', 'ai', 'aconteceu_', 'acabar_', 'voce_', 'viu_', 'verdade', 'vamo_', 'u_', 'tweet_', 'timo_', 'tentando_', 'tarde_', 'ssimo_', 'sonhei_', 'sa_', 'rs_', 'ro_', 'resto_', 'quis_', 'quarta_', 'programa_', 'produtos_', 'podia_', 'podemos_', 'pelos_', 'peguei_', 'pe_', 'ol_', 'nova_', 'mudar_', 'metade_', 'meses_', 'marina_', 'mandar_', 'ltima_', 'love_', 'link_', 'levar_', 'lembrar_', 'kkkk_', 'incr_', 'imagina_', 'ganhar_', 'futuro_', 'favor', 'existe_', 'entrar_', 'eleitores_', 'dizendo_', 'dica_', 'desculpa', 'dela_', 'dei_', 'dan_', 'concordo_', 'coment_', 'choro_', 'chega_', 'cara', 'cabelo_', 'bu_', 'beb_', 'bado_', 'assistir_', 'aquela_', 'aos_', 'amar_', 'ama_', 'aguento_', 'achar_', 'achando_', ' .... ', 'votos_', 'votei_', 'valeu', 'tt_', 'trocar_', 'ti_', 'tanto', 'sp_', 'sozinha', 'simplesmente_', 'senti_', 'sei', 'saudade', 'saiu_', 'rie_', 'quest_', 'queria', 'querendo_', 'principalmente_', 'precisar_', 'pergunta_', 'pensa_', 'pegar_', 'paz_', 'passado_', 'pagar_', 'novas_', 'nen_', 'muitos_', 'msm_', 'miga_', 'menino_', 'lixo_', 'linda', 'lembra_', 'kkkkkkk_', 'kkkkk_', 'juntos_', 'jogar_', 'isto_', 'ingl_', 'inclusive_', 'gr_', 'gostava_', 'gl_', 'ganha_', 'ficando_', 'feira_', 'falo_', 'esteja_', 'esquerda_', 'entre_', 'embora_', 'domingo_', 'doar_', 'dispon_', 'direito_', 'deus', 'deos_', 'cr_', 'compra_', 'canal_', 'bonito_', 'bh_', 'aten_', 'assunto_', 'apesar_', 'amo', 'amizades_', 'af_', 'acontecer_', 'aaaa_', ' ..', 'z_', 'votem_', 'vivo_', 'viver_', 'viva_', 'vez', 'veis_', 'vcs', 'usando_', 'tv_', 'turno', 'troca_', 'tranquilo_', 'tomara_', 'tivesse_', 'tirei_', 'tb', 'tamo_', 'sono', 'somos_', 'situa_', 'si_', 'sente_', 'senador_', 'semana', 'seguir_', 'salvar_', 'sala_', 'sabia_', 'ruim', 'roupa_', 'redes_', 'reclamar_', 'receber_', 'quiserem_', 'querer_', 'qu_', 'precisava_', 'postar_', 'posi_', 'pobre_', 'personagem_', 'perdeu_', 'pense_', 'pedir_', 'passa_', 'olhando_', 'numa_', 'nordeste_', 'ncia', 'namorado_', 'mundo', 'muda_', 'minutos_', 'miga', 'melhor', 'mds_', 'maravilhoso_', 'maravilhosa_', 'lucas_', 'live_', 'kkkkkk_', 'homem_', 'hahaha_', 'haha_', 'governo_', 'gata_', 'ganhou_', 'ganhar', 'fome_', 'foda', 'festa_', 'federal_', 'fds_', 'explica_', 'exist_', 'estudar_', 'esqueci_', 'esquecer_', 'esperar_', 'espera_', 'escola', 'es', 'em', 'discutir_', 'desculpe_', 'der_', 'deixe_', 'continua_', 'contar_', 'conhe_', 'completamente_', 'cio_', 'cima_', 'chuva_', 'chegou_', 'chance_', 'certa_', 'casal_', 'capa_', 'br_', 'bancada_', 'atr_', 'ate_', 'assisti_', 'arte_', 'ansiedade_', 'anos', 'amores_', 'amoedo_', 'agrade_', 'acontecendo_', 'abrir_', ' ....', 'voz_', 'votou_', 'votado_', 'vos_', 'vo_', 'vit_', 'visto_', 'visita_', 'viol_', 'venho_', 'vel', 'vdd_', 'vale_', 'uso_', 'twitter', 'tristeza_', 'trabalhando_', 'tio_', 'terem_', 'tento_', 'tenta_', 'tenho', 'tempos_', 'suficiente_', 'ssima_', 'social_', 'serio_', 'ser', 'senhor_', 'selca_', 'sdds', 'sdd_', 'sao_', 'salva_', 'sai_', 'reais_', 'raiva_', 'qualidade_', 'quais_', 'pudesse_', 'pt', 'projetos_', 'professor_', 'poxa', 'poca_', 'po_', 'pizza_', 'pessoas', 'pedindo_', 'ouvi_', 'ontem', 'okay_', 'oh_', 'objetivos_', 'novos_', 'novidades_', 'nossas_', 'nn_', 'nibus_', 'nessas_', 'nele_', 'nd_', 'nadja_', 'mundial_', 'morrendo_', 'moral_', 'monte_', 'momentos_', 'min_', 'mil_', 'meu', 'merda', 'menina_', 'mau_', 'massa_', 'mano', 'mandei_', 'mana_', 'mal', 'maioria_', 'mail_', 'ltimo_', 'loja_', 'lo_', 'lista_', 'lido_', 'li_', 'kkkkkkkk_', 'kkkkk', 'kkk_', 'jovemdoano_', 'jogo_', 'ir', 'interior_', 'instagram_', 'insta_', 'inktober_', 'ingresso_', 'infelizmente', 'ideias_', 'humano_', 'hoseok_', 'haddad', 'guria_', 'gostar_', 'g_', 'fundo_', 'frente_', 'fora', 'fofo_', 'feriado_', 'feio_', 'fazem_', 'fav_', 'faltam_', 'falam_', 'facebook_', 'face_', 'ex_', 'esfor_', 'entendendo_', 'enfim_', 'emprego_', 'eles', 'eleitor_', 'educa_', 'durante_', 'dormindo_', 'dios_', 'dinheiro_', 'dilma_', 'diferente_', 'df_', 'devia_', 'deveria_', 'desses_', 'deputados_', 'depois', 'depende_', 'deo', 'deixaram_', 'deixando_', 'de', 'crush_', 'crise_', 'criar_', 'crian', 'contr_', 'continuar_', 'contigo_', 'conseguiu_', 'conseguiste_', 'condi_', 'concretizar_', 'coiso_', 'ciro', 'cil', 'cia_', 'chegando_', 'chamar', 'celular_', 'ce_', 'camisa_', 'brasileiro_', 'bora_', 'bonoro_', 'blico_', 'bebe_', 'aprender_', 'apoio_', 'anima_', 'andar_', 'amiga', 'amea_', 'ae_', 'acompanhar_', 'aaa_', ' .', 'zap_', 'ximo_', 'viu', 'vim_', 'vezes', 'venezuela_', 'vender_', 'vem', 'veio_', 've_', 'valeu_', 'uma', 'twt', 'tweets_', 'tristeza', 'transar_', 'trampo_', 'totalmente_', 'toma_', 'time_', 'ticos_', 'tico_', 'thread_', 'texto_', 'teste_', 'terminei_', 'terminar_', 'ter', 'tal_', 'tadinha_', 'som_', 'sofrendo_', 'sobra', 'sinceramente_', 'simm_', 'sicas_', 'sexy_', 'sentimento_', 'sentido_', 'sensa_', 'sempre', 'seguidores_', 'segue_', 'saindo_', 'sad_', 'rindo_', 'ria', 'ri_', 'responder_', 'resolver_', 'resist_', 'representa_', 'rea_', 'racismo_', 'quinta_', 'querido_', 'queremos_', 'quarto_', 'quartas_', 'qnd_', 'puder_', 'psol_', 'ps_', 'pros_', 'prima_', 'presidente', 'pregui_', 'preconceito_', 'precisando_', 'precisamos_', 'praia_', 'possa_', 'plena_', 'pido_', 'pesado_', 'perguntas_', 'perfeito_', 'perdido_', 'perde_', 'percebi_', 'pensem_', 'pega_', 'pede_', 'paulo_', 'partir_', 'par_', 'palavras_', 'ouvindo_', 'orgulho_', 'opa_', 'op_', 'ok', 'ns', 'novo', 'nota_', 'nois_', 'namoral_', 'musica_', 'museu_', 'muitas_', 'mp_', 'morro_', 'morar_', 'mora_', 'mio_', 'minoria_', 'mes_', 'mero_', 'merecem_', 'mere_', 'mentira_', 'meninas_', 'matem_', 'mandou_', 'mando_', 'mam_', 'luta_', 'logo', 'limpa_', 'like_', 'ligado_', 'levantar_', 'legal', 'legais_', 'lbum_', 'lar_', 'kk', 'juro_', 'junto_', 'julgado_', 'jogo', 'jimin_', 'internet_', 'interessar_', 'inten_', 'inscreva_', 'informa_', 'indica_', 'imagino_', 'horr_', 'hor_', 'hey_', 'hein', 'hehe_', 'hahahaha_', 'gostou_', 'gosto', 'gostando_', 'gostam_', 'gnt_', 'gico_', 'geral_', 'futebol_', 'foder_', 'finalmente_', 'final', 'filhos_', 'filho_', 'filha_', 'ficaria_', 'ficam_', 'ff_', 'fazia_', 'favorita_', 'farta_', 'falaram_', 'fada_', 'faculdade_', 'excluir_', 'evento_', 'etc_', 'estivesse_', 'esteve_', 'estaria_', 'estaremos_', 'estados_', 'esquece_', 'especial_', 'espec_', 'escrever_', 'escolher_', 'entender_', 'entende_', 'engra_', 'elen_', 'eleitos_', 'dou_', 'dormiu_', 'doeu_', 'doce_', 'dms_', 'dizem_', 'dito_', 'ditadura_', 'discurso_', 'direita_', 'dio', 'diferen_', 'dias', 'di_', 'desta_', 'dessas_', 'descobri_', 'deputado_', 'deles', 'deixei_', 'defender_', 'day_', 'dado_', 'curto_', 'culpa_', 'cuidado_', 'cu', 'continuo_', 'conseguindo_', 'consegue_', 'conheci_', 'confuso_', 'companhia_', 'comida_', 'comecei_', 'coloca_', 'cm_', 'ci_', 'cheio_', 'chega', 'chamou_', 'certo', 'cena_', 'cd_', 'caseira_', 'cart_', 'caro_', 'carinho_', 'carinha_', 'caralho', 'car_', 'cap_', 'caos_', 'cansada_', 'canais_', 'cama_', 'calma_', 'caiu_', 'caf_', 'cabello_', 'bts_', 'bruno_', 'bra_', 'bozo', 'boulos_', 'bons_', 'bolsonaro', 'boa', 'bio_', 'beleza_', 'beijo_', 'beb', 'bb_', 'bateu_', 'bado', 'ba_', 'av_', 'autocarro_', 'assistir', 'arma_', 'apaixonada_', 'ano', 'anjinho_', 'anda_', 'ana_', 'amigas_', 'amas_', 'alguem_', 'ajudar', 'ahhh_', 'aguentar_', 'afinal_', 'ado_', 'admiro_', 'ada_', 'acreditar_', 'acredita_', 'acabo_', 'acaba_', 'aafazenda', 'aaaaaaaaaaaaaaaaaaaa', 'youtuber_', 'vista_', 'visitar_', 'vindo_', 'ver', 'veja_', 'vasco_', 'vamos', 'vai', 'usamos_', 'usa_', 'unico_', 'udio_', 'tupperware_', 'tulo_', 'treinar_', 'trazer_', 'tratamento_', 'trata_', 'trabalhou_', 'trabalho', 'trabalha_', 'tomou_', 'tirem_', 'tira_', 'timo', 'times_', 'tima_', 'ticas_', 'ti', 'theus_', 'teus_', 'teria_', 'tentei_', 'tens_', 'temporada_', 'tempo', 'temp_', 'televis_', 'tds_', 'talitayounan', 'tadinho_', 'tadinho', 'surpresa_', 'surpreender_', 'suplicy_', 'stream_', 'sorte', 'sonho', 'socorro_', 'sociais_', 'smp_', 'simples_', 'siga_', 'shopping_', 'servi_', 'serasi_', 'sera', 'sentimentos_', 'senado_', 'semanas_', 'seguindo_', 'sdd', 'sames', 'saiba_', 'saco_', 'sabia', 'sabendo_', 'sabe', 'rua', 'rosto_', 'rola_', 'rock_', 'ries_', 'rid_', 'rico_', 'resumo_', 'resto', 'resta_', 'resposta_', 'respondi_', 'respondeu_', 'representando_', 'recomendo_', 'recebeu_', 'realidade_', 'rapaz_', 'ran_', 'quiser', 'queridas_', 'querida_', 'quer', 'quebra_', 'que', 'qria_', 'qm_', 'puxar_', 'psicol_', 'prova', 'pronto_', 'promo_', 'projeto_', 'procura_', 'problemas_', 'prio_', 'previs_', 'presid_', 'presente_', 'preparado_', 'preparada_', 'preocupar_', 'preocupada_', 'preocupa_', 'prefiro_', 'prazer_', 'praticamente_', 'pqp_', 'pqp', 'pq', 'poucos_', 'pouco', 'postando_', 'post', 'portugu_', 'porra', 'pontos_', 'po', 'playlist_', 'planos_', 'plano_', 'planejando_', 'pior', 'pesquisa_', 'pesadelo_', 'perguntar_', 'pequeno_', 'pequena_', 'penso_', 'pensamento_', 'pele_', 'pegando_', 'pediu_', 'pedi_', 'pd_', 'passo_', 'passar', 'participar_', 'pariu_', 'parem_', 'parecia_', 'paran_', 'papel_', 'paint_', 'pago_', 'ouviu_', 'ou', 'os', 'orgulhosa_', 'olhem_', 'olhei_', 'olhar_', 'oficial_', 'obg_', 'numero_', 'novamente_', 'nossos_', 'normal_', 'noites_', 'nisso', 'nima_', 'nibus', 'ngm', 'news_', 'nenhum', 'nenem_', 'nen', 'nele', 'negro_', 'nego_', 'neg_', 'necesito_', 'ndole_', 'nazista_', 'natal_', 'nata_', 'namoro_', 'namorada_', 'namorada', 'nacional_', 'mtt_', 'mpn_', 'mostrou_', 'mostrar_', 'mostrando_', 'morri_', 'morreu_', 'morrer', 'morre_', 'morena_', 'montalegre_', 'modo_', 'minutos', 'minorias_', 'minha', 'milh_', 'michael_', 'mesmas_', 'menor_', 'meninos_', 'medo', 'matou_', 'matar', 'marca_', 'mala', 'madrugada_', 'ma', 'luz_', 'lula_', 'lugar', 'ltimos_', 'louca_', 'lol_', 'livros_', 'linha_', 'lidar_', 'lias_', 'lhe_', 'lgbt_', 'levou_', 'leiam_', 'leia_', 'lei_', 'legenda_', 'lady_', 'ladr_', 'la', 'kkkkkkkkk_', 'kk_', 'justo_', 'jogos_', 'jogando_', 'joao_', 'jk_', 'jesus_', 'jeitinho_', 'jean_', 'iria_', 'intoler_', 'interessante_', 'inteiro_', 'integral_', 'inferno_', 'independente_', 'imposs_', 'importa_', 'impacto_', 'imaginar_', 'imagem_', 'ignorar_', 'ignor_', 'idiota_', 'icon_', 'honra_', 'homof_', 'hein_', 'guri_', 'grupo_', 'grandes_', 'got_', 'gostas_', 'gostaria_', 'gomes_', 'gocv_', 'globo_', 'girl_', 'gina_', 'gif_', 'gica_', 'geral', 'gb_', 'gato_', 'gastar_', 'garota_', 'gaga_', 'fugir_', 'fuder_', 'frio_', 'fones_', 'fone_', 'fizeram_', 'filmes_', 'fila_', 'fica', 'felizes_', 'felicidades', 'felicidade_', 'feito', 'fecha_', 'fd', 'fc_', 'fazer', 'faz', 'fato_', 'fascismo_', 'fanfic_', 'faltou_', 'faltar_', 'falava_', 'fake_', 'facilitar_', 'extremamente_', 'extrema_', 'experi_', 'exo_', 'evitar_', 'etc', 'estrela_', 'estranho_', 'estes_', 'estarei_', 'esse', 'esque_', 'espa_', 'errado_', 'eram_', 'epis_', 'ep_', 'entrega_', 'entenda_', 'entanto_', 'enorme_', 'empatia_', 'embora', 'elegeu_', 'ei_', 'eduardo_', 'edi_', 'dor', 'dom_', 'dois', 'doido_', 'doi_', 'divulgar_', 'disso', 'disposto_', 'digo_', 'dicas_', 'devo_', 'deviam_', 'deveriam_', 'destruir_', 'design_', 'desgra_', 'desculpas_', 'dera_', 'depress_', 'democracia_', 'deletar_', 'delas_', 'del_', 'decepcionada_', 'debates_', 'day', 'dava_', 'dados_', 'da', 'curte_', 'culo_', 'cuba_', 'crl_', 'crist_', 'criancinha_', 'crescer_', 'corrup_', 'corpo_', 'cor_', 'conversas_', 'conto_', 'consigo', 'conseguir', 'conhecia_', 'conhecer_', 'conferir_', 'concorda_', 'conclus_', 'compro_', 'comprei_', 'comprado_', 'complicado', 'completo_', 'comi_', 'comendo_', 'comeback_', 'com', 'coisas', 'clientes_', 'claramente_', 'cl_', 'cidad_', 'chorar', 'cheguei_', 'chefe_', 'chato_', 'chateada_', 'chamei_', 'cerveja_', 'certinho', 'certas_', 'cenas_', 'celular', 'cb_', 'casulo_', 'casos_', 'capitalista_', 'candidatos_', 'campanha_', 'caminho_', 'camila_', 'cama', 'caio_', 'buscar_', 'bue_', 'btsarmy_', 'bruna_', 'brincando_', 'briga_', 'brasileiros_', 'branco_', 'br', 'boys_', 'bonita_', 'bolsa_', 'bolo_', 'boca_', 'bo_', 'black_', 'bichinhos_', 'bb', 'bastante', 'basta_', 'base_', 'barbara_', 'banho_', 'baixo_', 'bad_', 'baby_', 'aumentar_', 'aula', 'au_', 'atual_', 'atividade_', 'arrumar_', 'army_', 'aproveitem_', 'aproveitar_', 'apresentou_', 'apresenta_', 'apoia_', 'apartamento_', 'apareceu_', 'apanhar_', 'apaixonado_', 'apagar_', 'ansiosa_', 'amorzinho', 'amiguinhos_', 'america_', 'amei_', 'amanha_', 'amanh', 'alem_', 'alegria_', 'album_', 'ajuda', 'ain_', 'agradecer_', 'aff_', 'afazenda_', 'acredito', 'acreditando_', 'acordado_', 'aconteceu', 'aconte_', 'acha', 'acertar_', 'aceito_', 'acaso_', 'acabado_', 'abri_', 'ab_', 'aaaaaa', 'aaaaa', 'zoando_', 'zero_', 'yoongi_', 'yay_', 'ya_', 'xingar_', 'xima_', 'xico_', 'wish_', 'wi_', 'w_', 'vsf_', 'vov_', 'vou', 'votarem_', 'votaram_', 'votando_', 'vota', 'vontade', 'voltou_', 'volto_', 'voltei_', 'volte_', 'voltaram_', 'voces_', 'vizinhos_', 'vizinhos', 'viver', 'viva', 'visite_', 'vis_', 'virou_', 'vires_', 'viraviraciro_', 'virar_', 'virando_', 'virada_', 'vira_', 'vir', 'vinil_', 'vidinha_', 'vice_', 'viajando_', 'viagem_', 'vestido_', 'vermelho_', 'vereadora_', 'vento_', 'venham_', 'venha_', 'vendas', 'vemos_', 'velho', 'vei_', 'vdd', 'varios_', 'vao_', 'valorizada_', 'valor_', 'vais_', 'vagabundo_', 'usar', 'urna_', 'universit_', 'unfollow_', 'udios_', 'uai_', 'turma_', 'tulos_', 'tua', 'ts_', 'trovoada_', 'trov_', 'tristinha_', 'trevas_', 'treinos_', 'treco_', 'trechos_', 'travando_', 'trampo', 'tpm_', 'total_', 'tortura_', 'torto_', 'torcer_', 'torcendo_', 'tomei_', 'tom_', 'todos', 'todo', 'toda', 'tocando_', 'toa_', 'tmb_', 'tl_', 'tire_', 'tirando_', 'tipos_', 'tios_', 'tinham_', 'time', 'tim_', 'tica', 'tiago_', 'testando_', 'terra_', 'terra', 'termina_', 'tentando', 'tende_', 'tema_', 'tem', 'telem_', 'telefone_', 'tar_', 'tapa_', 'tantas_', 'tambem_', 'tambem', 'talento_', 'surreal', 'surgir_', 'sunny_', 'sul_', 'sugest_', 'subiu_', 'stress_', 'stray_', 'storie_', 'stica_', 'stand_', 'ssimo', 'sp', 'sozinho_', 'sozinho', 'souza_', 'soucis', 'soubesse_', 'sortear_', 'soninho_', 'sonhos_', 'sonhar_', 'solteira_', 'solta_', 'solicita_', 'sol_', 'sol', 'soft_', 'soft', 'sofro_', 'soco', 'socar_', 'sobreviver_', 'sobrar_', 'sobrancelha_', 'snap_', 'sito_', 'sistema_', 'sinta_', 'sincera_', 'sinal_', 'simp_', 'simone_', 'simaria', 'siim_', 'sigo_', 'significa_', 'sido_', 'si', 'shawn_', 'sexual_', 'sexta', 'set_', 'sess_', 'ses_', 'serio', 'serem_', 'sera_', 'sentido', 'sentia_', 'sente', 'sensata', 'senhora_', 'senha_', 'sen_', 'seja', 'segundo', 'sc_', 'saudades', 'sasha_', 'sapatao_', 'sangue_', 'san_', 'salvou_', 'salnorabo_', 'sala', 'saio_', 'sai', 'sabes_', 'sabado_', 'ruralista_', 'rui_', 'rt_', 'rt', 'rsrs_', 'rs', 'roubou_', 'roubar_', 'rosa', 'romance_', 'rolar_', 'rol_', 'rm_', 'rj_', 'riverdale_', 'risco_', 'rick_', 'rica_', 'restaurante_', 'respostas_', 'responder', 'respirar_', 'respira_', 'respeito', 'resolveu_', 'resolvendo_', 'renovar_', 'rem_', 'relatar_', 'rela_', 'reforma_', 'reflete_', 'refer_', 'redor_', 'rede_', 'recuperar_', 'reconectar_', 'recomendo', 'recebo_', 'recebi_', 'realidade', 'real', 'rea', 'raz_', 'rancor_', 'ramo_', 'ram_', 'rafael_', 'rafa_', 'radicais_', 'racista_', 'rabo_', 'quitar_', 'quil_', 'quieta_', 'quero', 'queres_', 'quente_', 'quem', 'queira_', 'queijo_', 'quebrei_', 'quebrar_', 'quatro_', 'quartadetremurasdv', 'quarta', 'quantidade_', 'qlqr_', 'puts_', 'puto_', 'pura_', 'pude_', 'publica_', 'provar_', 'proteger_', 'proposta_', 'prometo_', 'profiss_', 'professores_', 'prof_', 'procure_', 'processo_', 'problema', 'problem_', 'prints_', 'print_', 'princesa_', 'primo_', 'primeiros_', 'primeiras_', 'prias_', 'pria_', 'pretende_', 'preso_', 'preocupe_', 'prender_', 'prejudicar_', 'preferidos_', 'preferido_', 'prefere_', 'precisei_', 'precisar', 'precisam_', 'pre_', 'prazo_', 'pracinha_', 'posta_', 'post_', 'possamos_', 'portugueses_', 'portugal_', 'porto_', 'porto', 'portanto_', 'portal_', 'porrada_', 'porqu_', 'porno', 'por', 'ponto', 'polu_', 'pois', 'pode', 'podcasts_', 'podcast_', 'planeta_', 'pipoca_', 'piorar', 'pinto_', 'piercing', 'pido', 'picadas_', 'pfv', 'petista_', 'pessoal', 'pessoa', 'pesco_', 'pesada_', 'pertinho_', 'perfil_', 'perdoa_', 'perdoa', 'perdido', 'perder', 'perd_', 'percebe_', 'pensam_', 'pelas_', 'pegou_', 'pedem_', 'pedacinhos_', 'pedacinho_', 'peda_', 'pc_', 'pau_', 'patr_', 'passou', 'passe_', 'passaram_', 'passagens_', 'passagem_', 'pasa_', 'pas_', 'particularmente_', 'participe_', 'participantes_', 'participando_', 'parque_', 'parou_', 'park_', 'parentes_', 'parei_', 'parecendo_', 'parada_', 'para', 'papo_', 'papai_', 'panela_', 'palavra_', 'paguei_', 'paga_', 'padr_', 'paci_', 'ouvir', 'ouvido', 'ouve_', 'outro', 'organizado_', 'ora_', 'oque_', 'optar_', 'oportunidade_', 'omg_', 'olho_', 'olhe_', 'olhada_', 'olhada', 'oie_', 'oi', 'oferta_', 'odo_', 'odeio', 'odeia_', 'ocorrido_', 'nunca', 'nulo_', 'ntico_', 'nsito_', 'novidade_', 'novembro_', 'novamente', 'nordestinos_', 'nordeste', 'non_', 'nojento_', 'nodo_', 'nobel_', 'niver_', 'nio_', 'nimo_', 'nimo', 'nicos_', 'nicolas_', 'nia_', 'ni_', 'nf_', 'neste_', 'nessa', 'nervoso_', 'nervosa_', 'nene', 'neles', 'nela', 'neh_', 'negar_', 'nega_', 'necess_', 'ne', 'ncias_', 'nasce_', 'naquele_', 'nana', 'namorando_', 'namo_', 'mx_', 'musica', 'mudou_', 'mudando_', 'mudan_', 'mta_', 'moz_', 'moto_', 'motivo_', 'motiva_', 'mostro_', 'mostra_', 'mosquito_', 'morto', 'morte_', 'morreu', 'morrem_', 'moro_', 'morais_', 'moon_', 'montes_', 'moment_', 'moletom_', 'mole_', 'moda_', 'milit_', 'milhoes_', 'milhares_', 'mil', 'migs_', 'migos_', 'michel_', 'mia_', 'mi_', 'mexendo_', 'metros_', 'metadinha', 'meta_', 'mesma', 'mercado_', 'mentiu_', 'mentira', 'mente_', 'mental', 'mensal_', 'mensagens_', 'melhorar_', 'melhorando', 'meia_', 'mega_', 'mean_', 'mds', 'mc_', 'matando_', 'mata_', 'mas', 'maria_', 'marco_', 'marcado_', 'maravilhoso', 'maravilhosa', 'maravilha_', 'mar_', 'manu_', 'manifesta_', 'maneiro_', 'maneira_', 'mandem_', 'mande_', 'mandando_', 'maisa_', 'mainha_', 'magoar_', 'magali_', 'mae_', 'madrugada', 'machismo_', 'luz', 'lutar_', 'luiza_', 'lugares_', 'loucos_', 'louco', 'lou_', 'longe', 'lojas_', 'login_', 'local_', 'livros', 'lives_', 'liked_', 'ligou_', 'ligar_', 'lida_', 'lica_', 'liberdade_', 'liberar_', 'liberal_', 'libera_', 'lia', 'lgbts_', 'leve_', 'leu_', 'letras_', 'lembro', 'lembre_', 'lembrar', 'lava_', 'laura_', 'larry_', 'lari_', 'largar_', 'lamento_', 'lado', 'lacrou_', 'ksksksksks', 'kkkkkkkkkkkkkkkkkkkk', 'kkkkkkkkkkkk_', 'kkkkkkkkkkk_', 'kkkkkkkk', 'kit_', 'kard_', 'kabum_', 'k_', 'juventude_', 'juntas_', 'julgar_', 'ju_', 'jovens_', 'jornalistas_', 'jornalista_', 'joguei_', 'jogar', 'joga_', 'jobs_', 'jin_', 'jeito', 'jato_', 'jardim_', 'jar_', 'janeiro_', 'iti_', 'isent_', 'isa', 'irrita_', 'irei_', 'investiga_', 'interven_', 'internet', 'interessado_', 'inteligente_', 'intelecto_', 'inteiro', 'inteirinha_', 'inteira_', 'inspira_', 'inscrevi_', 'injusti_', 'informar_', 'inferno', 'inf_', 'indireta_', 'inc_', 'inbox_', 'import_', 'imenso_', 'imaginem_', 'imaginei_', 'imaginava_', 'imagens_', 'iludida_', 'ilha_', 'ih_', 'ignoro_', 'ides_', 'idade_', 'ibope_', 'humor_', 'humildade_', 'humano', 'hum_', 'hrs_', 'hr', 'hospital', 'horrivel_', 'horas', 'homens_', 'hobi_', 'helena_', 'haver_', 'hard_', 'hahahahah_', 'hahahaha', 'hahaha', 'ha_', 'guardo_', 'guarda_', 'grupinho_', 'greve', 'grata', 'gram_', 'grafo_', 'governador_', 'governa_', 'gostoso_', 'gostosa_', 'gostem_', 'gostei', 'goste_', 'gostar', 'glad_', 'gio_', 'gio', 'gera_', 'gen_', 'gemas', 'gcf_', 'gatinho', 'garantia_', 'gara_', 'ganhei_', 'ganhe_', 'gaja_', 'gado_', 'furou_', 'furo_', 'funcionar_', 'fun_', 'fumar_', 'fulano_', 'frio', 'friends_', 'freeze_', 'freddie_', 'fred_', 'frases_', 'frase_', 'fracasso_', 'fossem_', 'formatura_', 'forem_', 'fonte_', 'followfriday_', 'foi', 'fogo_', 'fofos', 'fofo', 'fofinha', 'fofa_', 'foca_', 'fizer_', 'fisica_', 'firme_', 'fiquem_', 'fingir_', 'fim', 'filhotes_', 'ficos_', 'ficha_', 'ficava_', 'ficas_', 'ficamos_', 'fi_', 'ferro_', 'fernando_', 'feriado', 'feriad_', 'felizmente_', 'feito_', 'feio', 'feia', 'feea_', 'federal', 'fedendo_', 'fechar_', 'fe_', 'fc', 'fazemos_', 'fascismo', 'faria_', 'far_', 'fantasias_', 'fansub_', 'fanfics_', 'fandom_', 'fanbase_', 'fan_', 'familiares_', 'faltava_', 'faltando_', 'falhei', 'falhar_', 'falem_', 'fale_', 'falar', 'fala', 'fahur_', 'fada', 'faculdade', 'fact_', 'facebook', 'faca_', 'extremo_', 'expressar_', 'explodir_', 'exploda', 'explicar_', 'existo_', 'exerc_', 'exclui_', 'exatamente_', 'exalta_', 'estudo_', 'estudando_', 'estresse_', 'estreia_', 'estrat_', 'estragar_', 'estiver_', 'estilo_', 'esteri_', 'estarem_', 'estamos', 'estagi_', 'estadual_', 'estado', 'esquina_', 'esquerda', 'esquecer', 'esperando', 'eso_', 'escutar_', 'escutando_', 'escuta_', 'escrita_', 'escrevi_', 'escondendo_', 'escolhi_', 'escolheu_', 'escolha_', 'escadas_', 'erro_', 'errada_', 'errada', 'er_', 'eps_', 'episodio_', 'ep', 'enzo_', 'envolvidos', 'entrou_', 'entro_', 'entreguei_', 'entra_', 'entidade_', 'enjoo_', 'energia_', 'endere_', 'encontrei_', 'encomendas_', 'encher_', 'encaixa_', 'en_', 'empresa_', 'empres_', 'empreendedorismo_', 'emotiva', 'elogio_', 'elenao_', 'elenao', 'eleita_', 'eleger_', 'elas', 'ela', 'el_', 'eguage_', 'edb_', 'economia_', 'ece_', 'ec_', 'duvido_', 'durmam_', 'duma_', 'droga_', 'dps', 'dona_', 'doentes_', 'doctorwho_', 'doces_', 'dnv', 'dms', 'dividir_', 'discord_', 'direita', 'dinheiro', 'digas_', 'digam_', 'dificil_', 'diferentes_', 'diferentes', 'diego_', 'diaa_', 'devido_', 'devfest_', 'deves_', 'devemos_', 'devem_', 'destruiu_', 'destruindo_', 'deste_', 'desrespeito_', 'despedidas', 'desnecess_', 'desmentida_', 'desiste_', 'desgra', 'desenhos_', 'desenho_', 'desejo_', 'descobriu_', 'descobrir_', 'desabafar_', 'derrota_', 'dentista_', 'democracia', 'demi_', 'demasiado_', 'delegado_', 'deixas_', 'deixam_', 'deixado_', 'deixa', 'deitada_', 'defendo_', 'defende_', 'defeitos_', 'deem_', 'dedo_', 'decis_', 'decepciona_', 'db_', 'daqui', 'daqueles_', 'dai_', 'custa_', 'curta_', 'curso_', 'cuidar_', 'cuida_', 'cuida', 'ctza_', 'ctg_', 'cs_', 'crl', 'crimes_', 'criei_', 'criada_', 'credo', 'costa_', 'corrupto_', 'correta_', 'correr_', 'correndo_', 'cores_', 'coreografias_', 'conversando_', 'conversamos_', 'conversa', 'continuou_', 'continue_', 'contato_', 'conta', 'constru_', 'consolar_', 'conselho_', 'conseguindo', 'conseguimos_', 'consci_', 'conhecido_', 'conhecer', 'confundi_', 'confort_', 'confira_', 'confio_', 'confian_', 'con_', 'comunista_', 'comunidade_', 'complicado_', 'completar_', 'completa_', 'compensa_', 'compat_', 'companhia', 'comer', 'coloquei_', 'coloco_', 'colocando_', 'colegas_', 'cole_', 'colch_', 'col_', 'coitada_', 'coisa', 'cof_', 'coco', 'cliente_', 'citado_', 'cir_', 'cios_', 'cinco_', 'cias_', 'cia', 'chovendo_', 'chorando', 'choque_', 'chocolate_', 'chocolate', 'chocada_', 'cheirinho_', 'cheia_', 'chego_', 'chegarem_', 'chegam_', 'chaves_', 'chave_', 'chata_', 'chances_', 'chamado_', 'ch_', 'cf_', 'cf', 'ces_', 'cercada_', 'centro_', 'cen_', 'ceg_', 'cebola_', 'cce', 'ccb_', 'cc_', 'cat_', 'carros_', 'carro_', 'carinho', 'carente_', 'caras_', 'carai_', 'caracter_', 'caos', 'cantando_', 'cansada', 'candidato', 'candidata_', 'canal', 'camisolas_', 'camisetas_', 'camila', 'camargo_', 'cam_', 'calar', 'cal_', 'cair_', 'caindo_', 'cai_', 'caderno_', 'cachorro_', 'cachorrinha_', 'cabra_', 'cabelos_', 'bvio_', 'burro_', 'burra_', 'buraco_', 'brs_', 'brincando', 'brincadeira_', 'brigando_', 'brigadeiro_', 'breve_', 'bosta', 'bora', 'bonitinha_', 'bolsominion_', 'bolsominion', 'bolha_', 'bola', 'boaaa_', 'blz_', 'blusa_', 'bloodborne_', 'blog_', 'bl_', 'bjs_', 'bito_', 'biologia', 'bilh_', 'bico_', 'bicho_', 'biblioteca_', 'bia_', 'bgs_', 'bfr_', 'belo_', 'bella_', 'belchior_', 'beber_', 'bea_', 'bc_', 'bater_', 'batem_', 'bate_', 'barra_', 'barco_', 'bangtan_', 'bando_', 'bandas_', 'banda_', 'baixei_', 'bah', 'bagun_', 'baco_', 'aviso_', 'autoestima_', 'aumentou_', 'aulas', 'atualizei_', 'atualizar_', 'atualiza_', 'atras_', 'atra_', 'ato_', 'atendimento_', 'assustador_', 'assistido_', 'assiste_', 'ashley_', 'artigo_', 'arte', 'arrumando_', 'arriscar_', 'arrependo_', 'arrasou_', 'arrasa_', 'armas_', 'argumento_', 'aquilo_', 'aqueles_', 'aquelas_', 'aq_', 'aproveite_', 'aproveitando_', 'apresentadora_', 'apostar_', 'apoiar_', 'apoiando_', 'apoiam_', 'apelar_', 'aparentemente_', 'aparece_', 'apaixonar_', 'apagou_', 'aonde_', 'ao', 'anular_', 'antipetismo_', 'antigas_', 'antiga_', 'antes', 'anjooooo', 'anjinho', 'aniversario_', 'anime', 'animar_', 'angel', 'anarquismo_', 'amooo_', 'amiguinho_', 'amigos', 'amigo', 'ambos_', 'amam_', 'altura_', 'alta_', 'alice_', 'alho_', 'algo', 'alemanha_', 'aleat_', 'alcance_', 'ajudou_', 'ajudem_', 'ajude_', 'ajudaram_', 'ahhhh_', 'ahh_', 'ahahah_', 'ahaha_', 'ah', 'aguenta_', 'afta_', 'aff', 'adormecer_', 'adorando_', 'adoramos_', 'adivinhem_', 'adivinha_', 'adianta_', 'ada', 'acordou_', 'acontecem_', 'acontece_', 'acompanhar', 'acho', 'acesso_', 'academia_', 'absurdo_', 'abstin_', 'aberto_', 'aben_', 'abaixo', 'aafazenda_', 'aaaaaaaaa_', 'aaaaaaaa_', 'aaaaaa_', 'aaaa', 'aaa', 'aa_', '... ', ' ....... ', ' ...... ', ' .....', 'zz_', 'zool_', 'zoar_', 'zoado_', 'zoa_', 'zix_', 'zipezaperson_', 'zinho_', 'zinha', 'zinedine_', 'zero', 'zerei_', 'ze_', 'zayn_', 'youtube_', 'yotube_', 'yorkshire_', 'yoran_', 'yoon_', 'yolo_', 'yogananda_', 'yo', 'yh', 'yerim_', 'yeontan', 'yass_', 'yasemiin_', 'yan_', 'ya', 'y_', 'xyan_', 'xuxu_', 'xuxu', 'xuxa', 'xs_', 'xpto_', 'xonei_', 'xixi_', 'xis', 'xinguem_', 'xingou_', 'xingo_', 'xingando_', 'xingamento_', 'xinga_', 'ximos_', 'ximo', 'ximas_', 'ximas', 'xica_', 'xica', 'xd', 'xcom_', 'xbox_', 'xam_', 'wyolo_', 'wtfffff_', 'ws_', 'wpp', 'wowiowio', 'workshop_', 'work_', 'wolf_', 'wings_', 'winck_', 'wifi_', 'whittaker', 'wheein_', 'whatsapp_', 'wesley_', 'wengdr_', 'welofi_', 'weird_', 'weeknd_', 'webticas_', 'way', 'wattpad_', 'wannable_', 'wanna', 'vtnc_', 'vtc', 'vs_', 'vrcity', 'vral_', 'vouuuuu', 'vouu_', 'votos', 'voto', 'votinho_', 'votava_', 'votaria_', 'votamos_', 'votam_', 'votam', 'votado', 'vos', 'voos', 'volto', 'voltio_', 'voltes', 'voltei', 'voltas_', 'voltaria_', 'voltando_', 'volta', 'vol_', 'voil_', 'voces', 'voce', 'vo', 'vms_', 'vlog_', 'vivi', 'viveu_', 'vives_', 'vivendo_', 'vivendo', 'viveiro_', 'vitors_', 'vitoria_', 'vitoria', 'vitor_', 'vistos', 'visto', 'vistas_', 'vistas', 'vista', 'visar_', 'virtuoso_', 'viro_', 'vire_', 'virar', 'viram_', 'violento_', 'violenta_', 'vio_', 'vio', 'vinte_', 'vinicius_', 'vingan_', 'vindo', 'vinde_', 'vin_', 'vimos_', 'vila_', 'vihzz_', 'viena', 'videos_', 'vidas_', 'victor_', 'vicio', 'viciada_', 'vic_', 'viajar_', 'viajante_', 'viaja_', 'viagens_', 'viagem', 'viado_', 'viado', 'vfx_', 'vet', 'vestir', 'vestidos_', 'versoes_', 'vers_', 'verrrrr_', 'verme_', 'verificar_', 'verificando_', 'vergonhas', 'vergonha', 'verem_', 'verde_', 'verdadeiro_', 'verdadeirafuncao_', 'verbal', 'veraholtz_', 'venutti_', 'venturelli_', 'ventos_', 'venom_', 'venenoso_', 'venenosa_', 'vendo', 'venderam_', 'vendendo_', 'vendem_', 'vendedores_', 'vendedor_', 'venda_', 'venda', 'vencimento_', 'venceu_', 'vencer_', 'vence_', 'ven_', 'vemos', 'vemk_', 'velhos_', 'velho_', 'velhinha', 'vela_', 'vejo', 'vejafakenews_', 'vei', 'vegetariana_', 'veem_', 'veeei_', 've', 'vcss_', 'vazia', 'vas_', 'varoa_', 'varias_', 'vargas_', 'varchie_', 'varandas', 'vara_', 'vaporwave_', 'van_', 'valorizadas_', 'valendo_', 'vale', 'valdete_', 'vagas_', 'vagamente', 'vagabundos_', 'vaga_', 'vacilo_', 'vacilo', 'utilize_', 'usou_', 'usinas_', 'user_', 'user', 'usei_', 'usava_', 'usarmos_', 'usaremos_', 'usarei_', 'usam_', 'urnas_', 'urgente', 'urbano_', 'urach_', 'ura_', 'uq_', 'uol_', 'uns', 'universo_', 'universidades_', 'universidade_', 'universal_', 'uniforme_', 'unificou_', 'unidade_', 'unhas', 'unha_', 'unfollow', 'unf_', 'unesp', 'ummm_', 'umdiaeuaindavou_', 'umathumbumdesenho_', 'um', 'ultimo_', 'ultimamente_', 'uhum_', 'ufsm_', 'ufma_', 'ufam', 'ue_', 'ublue_', 'ubispo_', 'ubinq', 'uber_', 'uau_', 'uab', 'uaaaaaaau_', 'twitch_', 'twitch', 'twintters_', 'twetto_', 'tweetar_', 'tweet', 'tw_', 'tvtime_', 'tvd_', 'tutorial_', 'tutelar_', 'tus_', 'turnos_', 'turn_', 'turmafeiracosplay_', 'tuo', 'tumblrs_', 'tumblr_', 'tumblr', 'tulo', 'tuita_', 'tufo_', 'tuf_', 'tudinho', 'tu', 'tt', 'tse_', 'truco_', 'trt_', 'troxa_', 'trouxe_', 'trouxa_', 'trolo_', 'trocou_', 'troco_', 'trocentos_', 'trocados_', 'trocado_', 'triztesa_', 'tristes_', 'tristeeeeeee_', 'tristee', 'tristao_', 'trintar_', 'trincado', 'trilhos', 'trilhas_', 'triggering_', 'trica_', 'trica', 'tric_', 'tri_', 'treta_', 'trem_', 'treino_', 'treino', 'treinando_', 'treinador_', 'tree_', 'tre_', 'trazem_', 'traz_', 'travesseiro_', 'trave_', 'trato_', 'tratei_', 'trate_', 'tratado_', 'trat_', 'transparente_', 'transmitida_', 'transmita_', 'transmiss_', 'transbordar_', 'tranquilo', 'tranquilidade_', 'tranquilidade', 'tranquila', 'tranquei_', 'trancada_', 'tran_', 'trampar_', 'tralhas_', 'trajet_', 'trailer_', 'traida_', 'trai_', 'tragedia', 'traduzir_', 'tradutor_', 'tradicionais', 'track_', 'trabalhosas', 'trabalhosa_', 'trabalhos_', 'trabalhos', 'trabalhista_', 'trabalhei_', 'trabalhar', 'trabalhando', 'tra_', 'tposey_', 'tp_', 'tov_', 'tour_', 'tottenham_', 'totaliza_', 'total', 'tot_', 'torturar_', 'tortinha_', 'torre_', 'toro', 'tornou_', 'torneios_', 'torneio_', 'tornei_', 'tornassem_', 'tornar_', 'torna_', 'torcida_', 'torcedora_', 'toque_', 'topzinho', 'tops_', 'topou', 'topo_', 'tomo_', 'tomem_', 'tomava_', 'tomare_', 'tomar', 'tomando_', 'tomalo_', 'tomado_', 'tomada', 'today_', 'todas', 'tocar_', 'tocar', 'tocante_', 'toc_', 'tnt_', 'tnh_', 'tnc_', 'tmp', 'tml_', 'tmb', 'tlmv_', 'tl', 'tjoba', 'tixinha_', 'tiveste_', 'tivessem_', 'tiveres_', 'tiverem_', 'tiveram_', 'tivemos_', 'titulo_', 'titi_', 'tisti_', 'tisti', 'tis_', 'tis', 'tirou_', 'tiro_', 'tiririca_', 'tireiiii_', 'tirarem_', 'tiraram', 'tiramos_', 'tirado_', 'tipos', 'tipocracia_', 'tinha', 'tinder_', 'timas_', 'tima', 'til_', 'til', 'tijuca_', 'tico', 'ticar_', 'tia_', 'thumbnail_', 'threads_', 'tho', 'thesungoddess_', 'theo', 'theholder_', 'thay_', 'thanks_', 'thali_', 'textos', 'textinho_', 'text_', 'teve', 'testes', 'testar_', 'teseu_', 'tesaoooooooooo_', 'tes_', 'terrorismos_', 'terrorismo_', 'terr_', 'ternos_', 'termos_', 'terminamos_', 'teresa_', 'teres_', 'terceiro_', 'terceira_', 'terapia_', 'terapia', 'teoria_', 'teo_', 'tentou_', 'tento', 'tentes', 'tente_', 'tentava_', 'tentativa_', 'tentaram_', 'tentar', 'tentamos', 'tenta', 'tenso_', 'tenis_', 'tenhoooo', 'tenham_', 'tengo_', 'tenga_', 'tenemos_', 'tenebrosa_', 'tendinite_', 'tendenciosas_', 'tendem_', 'tend_', 'temprano', 'temporizador_', 'temporariamente_', 'tempor_', 'tempestade_', 'temperamento_', 'temin_', 'temia', 'temer_', 'temer', 'tell_', 'telegram_', 'telefone', 'teixeira_', 'teen_', 'teclas_', 'teclado_', 'teclado', 'tecidos_', 'teatro_', 'teatro', 'teasers_', 'teamtini', 'teamgabiprado_', 'teal_', 'tdos_', 'tddddd', 'td', 'tche_', 'tchau_', 'tcc_', 'tcc', 'tbn', 'taylor_', 'taves_', 'tavam_', 'tatengue', 'tasuku_', 'tarefas', 'tardou_', 'tardes', 'tarcisioacioli', 'tarc_', 'tap_', 'tantos_', 'tantooooo', 'tantinho_', 'tant_', 'tamos_', 'tame', 'tambeemm', 'tamaravilhosa_', 'tamanho_', 'tamam', 'tals', 'talento', 'tal', 'tah', 'tag_', 'taeyeollie_', 'taetae_', 'taekookas_', 'tae_', 'tadinha', 'tackle_', 'tabacarias_', 'taaarado_', 'taaaaanto_', 'szszsz_', 'sz_', 'sweet', 'swan_', 'sutilmente_', 'susto_', 'suspensa', 'suspeito_', 'suso_', 'sus_', 'surtar_', 'surpresa', 'surpreendendo_', 'surpreende_', 'surgindo', 'surge_', 'suposto_', 'supostamente_', 'suporte_', 'suport_', 'supl_', 'supernatural_', 'superlegal_', 'superiores_', 'superior_', 'superior', 'superficial', 'superf_', 'superei_', 'superando_', 'super', 'sup_', 'sunshine_', 'sumida_', 'sumam_', 'sujeita_', 'sujando_', 'suic_', 'sugw_', 'sugiro_', 'sugar_', 'sufriendo_', 'sufoco_', 'sucesso', 'sucedeu_', 'substitu_', 'sublimes_', 'subjetivo_', 'subirem_', 'subindo', 'subconsciente_', 'sub_', 'suave_', 'stuff_', 'studio_', 'stressada', 'streamcraft_', 'strangers_', 'strange_', 'stories_', 'store_', 'storas_', 'stora_', 'stoltz_', 'sto_', 'stico_', 'stickers_', 'sticas_', 'stia_', 'stefano_', 'start_', 'starship_', 'stanear_', 'stan_', 'sta_', 'ssimos', 'ssimas_', 'ssimas', 'ssima', 'ssicos_', 'ssicos', 'ssd_', 'squad_', 'sprite_', 'spring_', 'spotify_', 'sporting_', 'sport_', 'spirit_', 'spfc_', 'spdk_', 'sozinhos_', 'sozinhos', 'sovre_', 'south_', 'sounds', 'soundcloud_', 'souber_', 'soube_', 'soube', 'sou', 'soterrada_', 'sortudo_', 'sortuda_', 'sorry', 'sorriso', 'sorrisinho_', 'sorrisin_', 'sorrir_', 'sorrindo', 'sorocaba_', 'sopra_', 'sophiaabrah_', 'sophia_', 'sope', 'sooyoung_', 'sonsa', 'sons_', 'sonos', 'sonoras_', 'sonora_', 'sonn_', 'sonhos', 'sonhoooooooo', 'sonhei', 'sonhe_', 'sonham_', 'somente_', 'sombrios', 'sombrio_', 'solveira_', 'solu_', 'soltou_', 'solto_', 'solteiro', 'soltar_', 'solid_', 'solicitei_', 'solar_', 'software_', 'softboy_', 'softboy', 'sofrimento_', 'sofri_', 'sofreu_', 'sofrer_', 'sofrencia_', 'sofrem_', 'sofazinhonasradios', 'sofa', 'soco_', 'sociol_', 'sociedade', 'sociais', 'soc_', 'sobrinha_', 'sobrevivido', 'sobreviv_', 'sobras_', 'sobrancelhas_', 'sobra_', 'soberba_', 'soare_', 'snowexpress_', 'snow_', 'snk_', 'sn_', 'smpr_', 'smp', 'smartphones_', 'smart_', 'sla_', 'sl_', 'skt_', 'skate', 'situacao_', 'site', 'siso_', 'sisa_', 'sis', 'sio_', 'sinto', 'sinistro', 'sindicato_', 'sincero_', 'sincera', 'sinais_', 'sina', 'simsim', 'sims_', 'simples', 'simpaticas', 'simmmmmmmmmm_', 'simmmmmmm_', 'simmmmm_', 'simmm', 'silvio_', 'silinder', 'silfer_', 'silencia_', 'signo_', 'significante_', 'sigam_', 'sidds_', 'sico_', 'sica', 'shudhsudhhuds_', 'showzinho', 'shows_', 'shoujo_', 'shocker_', 'shksbddkb_', 'shippando_', 'shippam_', 'shingeki_', 'sheila_', 'sgt_', 'sfv', 'sexualidade_', 'sexo', 'seven_', 'seuu_', 'seungmin_', 'setor_', 'setembro_', 'sete_', 'sesta', 'servir_', 'servidor_', 'servem_', 'serve_', 'serve', 'serto_', 'seriaoooo', 'seriam_', 'sergi_', 'seremos_', 'serei_', 'sequer_', 'sequencia_', 'septo_', 'seok_', 'seny_', 'sentiu_', 'sentindo', 'sensato', 'sensacional', 'sens_', 'senhoritaa_', 'senhorita_', 'senhorinhas_', 'senhas_', 'senadores_', 'senado', 'sempreee_', 'semi_', 'semestre_', 'semelhantes_', 'semelhan_', 'semaninha_', 'semanalmente_', 'sem', 'selvagem_', 'selo_', 'selfie_', 'selena', 'selecionei_', 'sele_', 'selbstundst_', 'seith_', 'seis_', 'seio_', 'seiiiiii_', 'seiiii', 'sehun_', 'seguro_', 'segurar_', 'segurando_', 'seguran_', 'seguran', 'seguramente', 'segundos_', 'segunda', 'seguiu_', 'seguiu', 'seguirmos_', 'seguir', 'seguinte', 'seguindo', 'seguimos_', 'seguidora', 'seguidas_', 'seguida_', 'segui', 'segue', 'segu_', 'secundario_', 'secund_', 'secreto_', 'secret_', 'secar_', 'secar', 'seca_', 'season_', 'se', 'sds_', 'scrr', 'screens_', 'scp_', 'schmidt_', 'sce_', 'sccp_', 'scara_', 'scalabrin_', 'sbicas_', 'sayuri_', 'saudadezinha_', 'saud_', 'saturn', 'saturam_', 'satisfa_', 'satan_', 'sartori_', 'sarro_', 'sarmento_', 'sargento_', 'sarau_', 'saraiva_', 'saquinhos_', 'sapatilhas', 'santo_', 'santa_', 'samurai_', 'samsung_', 'samo_', 'samira_', 'samir_', 'samduba_', 'sama_', 'salvos_', 'salve_', 'salvador_', 'salva', 'saltos_', 'salnorabo', 'salinha', 'salgadinho_', 'saiu', 'sais_', 'sair', 'saibas_', 'saiam_', 'saia_', 'saga_', 'safetylab_', 'safado_', 'saem_', 'sada', 'sacr_', 'sacou', 'sabrina_', 'sabiam_', 'saber', 'sabemos_', 'sabedoria_', 'sabar', 'saales_', 'saaaaad', 'rvore', 'ruth_', 'runeterra_', 'rumos_', 'rumores_', 'rum_', 'ruivo', 'ruina', 'rui', 'rubius', 'rtttt', 'rtp_', 'rsrsr', 'rpz_', 'royals_', 'roy_', 'roupas_', 'round_', 'round', 'roube_', 'rotinas_', 'rotina_', 'roteador_', 'rostinho_', 'rosinha_', 'rosh', 'rosav_', 'rosas_', 'ronronando_', 'roncando_', 'ronaldo_', 'romero_', 'romanha_', 'romances_', 'rom_', 'rolou_', 'role', 'rolar', 'rolando_', 'rodeia', 'rockeira_', 'rocha_', 'rocha', 'roca', 'roberto_', 'rmino_', 'rlx_', 'rj', 'riyuu', 'river_', 'rival_', 'ritualzinho', 'ritmo_', 'risadas_', 'risa_', 'rir_', 'rios', 'rina_', 'rim_', 'rifa_', 'riezinha', 'ridiculo_', 'ricos_', 'rickon_', 'rick', 'richa_', 'ricas_', 'ribeiro_', 'rias', 'riaan_', 'rhanna_', 'rg_', 'rezar_', 'rewind_', 'revolution_', 'revoltante', 'revistos_', 'revista_', 'revisar', 'review_', 'reverter_', 'rev_', 'retrato_', 'retoweeta_', 'retorno_', 'retornamos', 'reto_', 'reto', 'retirar_', 'retardo_', 'retardados_', 'resumindo_', 'ressaca_', 'respons_', 'respondo_', 'respondo', 'respondi', 'responderes_', 'respondemos_', 'responde_', 'responde', 'respoderam_', 'respeitem_', 'respeite_', 'respeitar', 'respeitado', 'resolvi_', 'resolvera', 'resolver', 'resolve_', 'resolve', 'resistir_', 'resistir', 'resident_', 'resguardo_', 'resgatado', 'reservas_', 'reprodu_', 'repress_', 'representar_', 'representam_', 'representada', 'reportagens_', 'reportagem_', 'replies_', 'replica_', 'repleta_', 'repito_', 'repetir_', 'repetidos', 'repensei_', 'repassar', 'reparou_', 'repare_', 'reparado_', 'renuncie_', 'renovando_', 'rendi_', 'renda_', 'renda', 'renault_', 'renato', 'renata', 'remake_', 'relogio_', 'relles_', 'relincham_', 'religiosos_', 'religiosa', 'relaxante_', 'relaxa', 'relativizar_', 'rel_', 'rejei_', 'reinstala_', 'reinicio_', 'reguladinha_', 'regresso_', 'regredindo_', 'regionais_', 'regi_', 'reger_', 'regadas_', 'refrigera_', 'reformas_', 'refiro_', 'reeleito', 'reedi_', 'recusaram_', 'recuperando_', 'recordos_', 'record_', 'reconstru_', 'reconsiderar_', 'reconhecimento', 'reconhecido_', 'reconhece', 'reconhe_', 'recome_', 'reclamem_', 'reclame_', 'reclamando_', 'reclamam_', 'reckel_', 'recife_', 'recheada', 'recentemente_', 'recebido_', 'recebendo_', 'recebemos_', 'receb_', 'recalcularam_', 'recado_', 'rebotin', 'rebooting_', 'rebaixar_', 'realizamos_', 'realizado_', 'realiza_', 'reality_', 'reais', 'read_', 're', 'rcito', 'raven_', 'rave_', 'rava_', 'rastreios_', 'rasteira_', 'rasengandaddy_', 'raro_', 'rapido_', 'rapido', 'rapidamente_', 'rapid_', 'raphael_', 'rapha_', 'ranked', 'ranieri_', 'ranger_', 'rame_', 'raissa_', 'rain_', 'racistas_', 'racist', 'racial_', 'rabiscar_', 'raaaaquel_', 'ra_', 'ra', 'quiz', 'quites', 'quisesses_', 'quiseres_', 'quiseram_', 'quis', 'quinzenal_', 'quieta', 'questionar_', 'questao_', 'queridos_', 'querido', 'queridinho_', 'queridinha', 'querida', 'querias_', 'queriam_', 'queriaaa', 'queri_', 'querendo', 'queremos', 'quemm_', 'quele_', 'queixar_', 'queimar_', 'queimado_', 'queima_', 'quebrado_', 'quarteto_', 'quarteir_', 'quartas', 'quartafeira_', 'quaro_', 'quantos_', 'quantas_', 'quanta_', 'quadro_', 'quadrinhos', 'quadriculada_', 'quadras', 'quadrado_', 'qse_', 'qro_', 'qq_', 'qnt_', 'pvt', 'pvp_', 'pv_', 'putz', 'puskas_', 'puro_', 'puppets_', 'pupi_', 'punch', 'pulos_', 'pull', 'puff_', 'pudim_', 'pudesse', 'puderam_', 'pudemos_', 'publiquei_', 'publico_', 'publicar_', 'ptralhasnunca_', 'ptralha_', 'ptm_', 'ptimo_', 'ptima_', 'pta_', 'pssoas_', 'psl_', 'psk_', 'psicologicamente_', 'psicologia_', 'psg_', 'psdb_', 'ps', 'proximo', 'proxima_', 'prox_', 'provou_', 'provocar', 'providencia_', 'proveito_', 'provas_', 'provar', 'proud_', 'proteja', 'protegida_', 'protege_', 'prote_', 'pros', 'propositado', 'proporem_', 'proporciona_', 'propina_', 'propheta_', 'propagandas_', 'prop_', 'pronuncie_', 'prontoahabitar', 'prontinho', 'pronta_', 'prometi_', 'promete_', 'project_', 'profundas_', 'profundamente_', 'profissional', 'profissionais_', 'professora_', 'professor', 'professional', 'profes_', 'profecia_', 'produzindo_', 'produzimos_', 'produz_', 'produto_', 'produtivos_', 'produtivo_', 'produtivo', 'produtiva_', 'produ_', 'procurem_', 'procuramos_', 'processador_', 'problemas', 'probar_', 'probabilidade_', 'pro', 'privil_', 'privado_', 'privada', 'prios_', 'principe', 'principais_', 'princeso', 'prince_', 'primeiro', 'prime', 'primaaaa_', 'prima', 'prev_', 'presto_', 'prestar_', 'prestam_', 'presta_', 'prest_', 'pressa_', 'press_', 'presidi_', 'presidential_', 'presidenciais_', 'presidencia_', 'presentinho_', 'presentinho', 'presentih', 'presentear_', 'presen', 'presa_', 'preparar', 'preparando_', 'preparamos_', 'preparad_', 'preocupou_', 'preocupes_', 'preocupados', 'preocupada', 'preocupad_', 'prendem_', 'prenda', 'premium_', 'premionobel_', 'premiere_', 'pregui', 'pregaram', 'pregar_', 'pregando_', 'pregada_', 'preferido', 'preferi_', 'preferencia_', 'preferem_', 'prefeito_', 'predadores_', 'preconceituosa_', 'precises_', 'precise', 'precisava', 'precisasse_', 'precious_', 'precioso_', 'preciosidade', 'preceito_', 'precedentes_', 'prazos_', 'pray_', 'praticar_', 'praticam_', 'pras_', 'pqqqqqq_', 'ppm_', 'poxxa', 'poxaaaa_', 'poxaa', 'power_', 'pousada_', 'poupe_', 'poupe', 'poupava', 'poupando_', 'poupan', 'poupa_', 'poucos', 'poucas_', 'pouca_', 'potenciais_', 'postou_', 'poster_', 'postei_', 'postava_', 'postar', 'postal_', 'postagem', 'possuem_', 'posso', 'possivelmente_', 'positivo_', 'positivo', 'positiva', 'posicionando_', 'posicionamento_', 'posicionamento', 'posiciona_', 'pos_', 'portuguesas_', 'portif_', 'porteiros_', 'porteiro_', 'porte_', 'portador_', 'porta_', 'porem_', 'porco', 'porcaria', 'poquinho', 'popula_', 'pop_', 'pooxa', 'pontuais_', 'pontua_', 'pontos', 'ponta_', 'ponha_', 'poneyboy_', 'pombal_', 'poltronas_', 'polo_', 'politica_', 'politica', 'polis_', 'policiais_', 'policia_', 'polariza_', 'poha_', 'poema', 'podias_', 'podes_', 'poderiam_', 'poderes', 'poderei_', 'poderei', 'poder', 'podendo_', 'podemos', 'podcast', 'poczinha_', 'pocs', 'poche_', 'pobreza_', 'pobres_', 'pobre', 'pluft_', 'pls', 'plena', 'playplus', 'playoffs', 'play_', 'planilha_', 'planejar_', 'planejamento_', 'placam_', 'pl_', 'pk', 'pj_', 'pj', 'pizzaria_', 'pixel', 'piva_', 'pitico_', 'pites_', 'pitbull_', 'pitanga_', 'pita', 'pisou_', 'pisadakkkkkkkk', 'pisa_', 'pirro', 'pirobo', 'pirar_', 'piqueira_', 'pique_', 'pintinhas_', 'pintinha_', 'pintei_', 'pintar_', 'pintando', 'pinta_', 'pingado_', 'pilotos_', 'pilhada_', 'pilha_', 'piha_', 'piedade', 'picole_', 'picciani_', 'picado', 'pica_', 'piada_', 'piada', 'pia_', 'phpeeeeeeeeeeee_', 'photos_', 'pfvzinha', 'pff_', 'pff', 'peyton_', 'petralha_', 'petit_', 'petistas_', 'petista', 'pet_', 'pester', 'pessima_', 'pesquisas', 'pesquisar_', 'peso_', 'pesinho_', 'pescado', 'pesca', 'pesar_', 'pesadinha_', 'pesadelos_', 'pesada', 'pes_', 'pertencesse_', 'personagem', 'perros_', 'perroooos_', 'pero_', 'pernas_', 'perna_', 'pern_', 'permitido_', 'permane_', 'perlla_', 'periodicidade_', 'perillo', 'perigoso_', 'perguntou_', 'pergunto', 'perguntem_', 'perguntei_', 'pergunte_', 'perguntas', 'perguntaram_', 'perguntando_', 'pergunta', 'performance_', 'perfomances', 'perfeitas_', 'perfeitamente_', 'perfeita_', 'pereza_', 'perdoem_', 'perdoe_', 'perdoar_', 'perdidos_', 'perdi', 'perderem_', 'perderam_', 'perdemos_', 'perda_', 'perda', 'percurso_', 'perco_', 'percebo_', 'percebesse_', 'perceberam_', 'pera_', 'peques_', 'pequenos_', 'pequenas_', 'peq_', 'pepsi_', 'pensava_', 'pensamentos_', 'pensado_', 'penquinha_', 'peninha', 'penha_', 'pendotiba_', 'penalte_', 'penalte', 'pena', 'pelotuda', 'pelamor_', 'peito_', 'peito', 'pego_', 'pegamos_', 'pedro_', 'pedrinho_', 'pedras_', 'pedras', 'pedr_', 'pedo', 'pedir', 'pedimos_', 'pedidos_', 'pedia_', 'pecado_', 'pdl', 'pcdob_', 'pcausa_', 'pc', 'paz', 'pavilh_', 'pausa_', 'paulista_', 'paula_', 'patrone_', 'patrocinar_', 'patroc_', 'patria', 'pastor_', 'pastel_', 'passear_', 'passares_', 'passarem', 'passaporte_', 'passando', 'passam_', 'passa', 'pasivo_', 'pasa', 'partiu_', 'partindo_', 'partilhe_', 'partilhar_', 'partilhamos_', 'partidos_', 'partidas_', 'partida_', 'particular_', 'participou_', 'participem_', 'participei_', 'participarei_', 'participa_', 'particip_', 'parti_', 'partes_', 'parte', 'parsa', 'parou', 'paroquial_', 'pariu', 'parei', 'parecidos_', 'parecido_', 'parecer_', 'pare_', 'parava_', 'pararem_', 'parar', 'paramahansa_', 'paraguaio_', 'paradoxo_', 'paradas_', 'parada', 'parace_', 'parabens_', 'parabens', 'parabeinx_', 'parabeeeens_', 'parabains_', 'papos', 'pap', 'paola_', 'pao_', 'paniraaa_', 'panfletando_', 'panfletagem_', 'panelas_', 'panel_', 'pandinha', 'palminhas', 'palmeiras', 'palha_', 'palco_', 'palanque_', 'paladinos_', 'pairam_', 'paiero_', 'paia', 'pai', 'pago', 'pagina_', 'pages_', 'page_', 'pagando_', 'pagamento_', 'pagam_', 'pafece_', 'padrinho_', 'padrim_', 'padrasto_', 'padaria_', 'pada_', 'pacote_', 'package_', 'pack_', 'pack', 'paciente_', 'paciente', 'pabblo_', 'ozinhas', 'ozinha_', 'oxidaksi', 'oxe_', 'ovos_', 'ovelhas_', 'ove', 'ouvido_', 'ouvem', 'outros', 'outras', 'outfits', 'outfit_', 'ousem_', 'ousar_', 'ousadia_', 'ouro_', 'ouro', 'oura_', 'ot', 'osso_', 'osso', 'osh_', 'ortogr_', 'orosa_', 'original_', 'origem_', 'orificio_', 'oriente_', 'orienta_', 'orgulhoso_', 'organizar_', 'organizadinho_', 'org', 'oreo', 'orelha', 'ordem_', 'orar_', 'orais_', 'oqe_', 'opressor_', 'oportunidades_', 'opo_', 'opinioes_', 'opinei_', 'op', 'ooooo_', 'oooo_', 'ooo_', 'onu_', 'online_', 'onemoretime', 'ondulado', 'onda_', 'onco_', 'ona_', 'ombro_', 'oliveira_', 'olhos_', 'olho', 'olhinhos_', 'olhinho', 'olheiras_', 'olhai_', 'olhadinha_', 'olhadinha', 'olhaaaa_', 'olha', 'old_', 'ol', 'okk_', 'oin_', 'oii_', 'oida', 'ogier_', 'oftalmologista_', 'oficina', 'oficialmente_', 'official_', 'ofertas_', 'oferecer_', 'oferece', 'ofensivo', 'ofensiva_', 'ofendida_', 'oe_', 'oe', 'odos_', 'odiooooo', 'odio', 'odiar_', 'ocupam_', 'ocupado_', 'ocupadas', 'oclonenoviva', 'oclock_', 'oca_', 'oc_', 'observar_', 'observando_', 'obs_', 'obrigat_', 'obrigam_', 'obrigados_', 'obrigadinho', 'obrigadaa', 'obriga_', 'obreigadahh', 'obras_', 'obra_', 'obligado_', 'objetos_', 'obgda_', 'obg', 'oab_', 'oa_', 'nyah_', 'nuvens_', 'nuns_', 'nunquinha_', 'nunes_', 'nuncaaaaa_', 'numas_', 'nude_', 'nub_', 'nu_', 'ntmt_', 'ntimo', 'nteses_', 'ntegra_', 'nss_', 'nspramim', 'nscios_', 'novinho_', 'novidades', 'nove_', 'novas', 'novafotodoperfil', 'nova', 'nov_', 'nov', 'notlikethis_', 'notis_', 'notificou', 'notifica_', 'notif_', 'noticia_', 'notei_', 'notebook_', 'notava', 'notasse_', 'notas_', 'nostalgia', 'nosss_', 'nossa', 'nosegundoturno', 'nosdeste_', 'nortenho_', 'normalmente_', 'nordestinos', 'noooovaaaa', 'noooite_', 'nomes_', 'nomees_', 'nomeado_', 'nome', 'nojo_', 'nojo', 'nojenta_', 'nojenta', 'noiss', 'nois', 'noexpectationspremie', 'noemi_', 'nobre_', 'nobelprize_', 'noa_', 'nmrll_', 'nmonteiro_', 'niter_', 'nis_', 'ninguem_', 'nil_', 'nicole_', 'nico', 'nickalves_', 'nicholas_', 'nicho_', 'nice_', 'nhaaaa_', 'ngelo', 'nflnaespn_', 'nflbrasil', 'nfimos_', 'neymar_', 'nex_', 'newton_', 'news', 'newark', 'neutro_', 'netflix_', 'netflix', 'nestes_', 'nesses_', 'nessas', 'nessaa_', 'nervosa', 'nervos_', 'neros_', 'nereida_', 'neojanguinho_', 'neo_', 'nenn_', 'neni_', 'nenhumas_', 'nenhuma', 'nenem', 'nenekk', 'nene_', 'nem', 'nelas', 'nela_', 'nel', 'nei_', 'negrensebloggers', 'negras_', 'negra_', 'negocio_', 'negocio', 'nego', 'negativos_', 'negativa_', 'negativa', 'necessitooooo', 'necessitando_', 'necessidade_', 'necessario', 'necessarias_', 'ndio', 'ndig_', 'ncipe_', 'ncer_', 'nazistas_', 'nazismo_', 'navio_', 'navegador_', 'navarro_', 'naum_', 'naum', 'nathaliaduclos_', 'nath', 'nates_', 'nascia_', 'nasci_', 'nascendo_', 'narizinhos_', 'nariz_', 'nar_', 'naquela_', 'napoli', 'naosei_', 'naoooo_', 'naooo_', 'naon_', 'naoeconomizenadivers', 'nao', 'nanowrimo_', 'nanjoon', 'naninha_', 'nando', 'nanda_', 'namoro', 'namorar', 'namoramos_', 'namorados', 'namorado', 'namora', 'namjoon_', 'nam_', 'nah_', 'nadja', 'nadinha_', 'nadie_', 'nadas_', 'nadar_', 'nacionalizar_', 'nacionalista_', 'na', 'mvps_', 'mv', 'muuuuuuuito_', 'muuuuuuuita_', 'muuuuita_', 'mutuals_', 'mutigissh_', 'mutcho_', 'musical_', 'musicais_', 'museus', 'museos_', 'muscula_', 'murrao', 'murr_', 'munik_', 'multishow', 'mulher', 'mulheeeeeerrrrrr', 'muitoooo_', 'muitao_', 'muiro_', 'mudei_', 'mude_', 'mude', 'mudar', 'mudan', 'mudado', 'mts_', 'mtos_', 'mtmtmt_', 'mt', 'msm', 'msgs_', 'msg_', 'ms_', 'mr_', 'movimento_', 'mour_', 'motorista_', 'motivos_', 'mother_', 'mostrei_', 'mostraram_', 'moss_', 'mos_', 'mortos', 'morta', 'morri', 'morre', 'morra_', 'morninho_', 'mores_', 'morei_', 'mordi_', 'morava_', 'morando_', 'moral', 'moradia_', 'mor_', 'moore_', 'moorcock_', 'month_', 'monte', 'montar_', 'monstro', 'momoa', 'moleza', 'moldava_', 'moito_', 'moedinha_', 'mods_', 'modos_', 'modelos_', 'modelo_', 'modelo', 'mobilizaram_', 'moa_', 'mmo_', 'mm_', 'mm', 'mlres_', 'mlk_', 'mlb_', 'mito_', 'mistyeye_', 'misturadas_', 'misturada_', 'mistura_', 'misseu', 'mis_', 'mireika', 'mira_', 'mio', 'minta_', 'minoria', 'minjoo', 'minja_', 'ministerios_', 'minist_', 'mini_', 'minecraft_', 'minas_', 'mina_', 'mimos_', 'miminhos_', 'mimada_', 'mima_', 'milca_', 'milan_', 'milagre', 'mika_', 'miguelito_', 'miguel_', 'migra_', 'mifernandes_', 'microsoft', 'michelly_', 'mica_', 'mica', 'mi', 'mg_', 'mg', 'mexico_', 'mexeu_', 'mexer_', 'meuuuuu', 'meuracistasecreto_', 'meunier_', 'meubolsominionsecret', 'metro_', 'meto_', 'meti_', 'meter_', 'metal_', 'metal', 'met_', 'mestre_', 'mestra', 'mesmoooo_', 'mesmoooo', 'mesmokjjjj_', 'mesmice_', 'mesa_', 'meros_', 'mero', 'merman_', 'merlin_', 'meritocrata_', 'merecia_', 'merecer', 'merecemos_', 'merch_', 'meras_', 'mentiu', 'mentiroso_', 'mentirosa_', 'mentirosa', 'mentiraaa_', 'mentir_', 'mentir', 'mentindo_', 'mental_', 'mentais_', 'mentais', 'menstrua_', 'menjna', 'meninaaaaa_', 'menina', 'menezes_', 'mendes', 'men_', 'meme_', 'meme', 'membros_', 'membros', 'membro_', 'mem_', 'melnibon_', 'melissa_', 'melhorem', 'melhorei_', 'melhore_', 'melhoras', 'melhora_', 'melhora', 'melchiona_', 'mel_', 'mel', 'mej_', 'meios_', 'mediana_', 'mec_', 'mec', 'meangirlsday_', 'meangirlsday', 'mdepner_', 'mdb_', 'mcpe_', 'mbl_', 'mbbs', 'maygo_', 'max_', 'maus_', 'maturidade_', 'mato_', 'matinal_', 'math_', 'mateus_', 'mateus', 'material_', 'materiais_', 'mate_', 'matarem_', 'master_', 'masp_', 'mask_', 'mascarada_', 'mary_', 'marvel_', 'marvel', 'martins_', 'marrar_', 'marquinhas_', 'marque_', 'marqu_', 'marley_', 'marisco', 'marionetas_', 'marionetas', 'mario_', 'maring', 'mariners_', 'marina', 'marielle', 'marido_', 'mariana_', 'mariana', 'margozinha_', 'marg', 'marfofa', 'maresia', 'marcou_', 'marcha_', 'marcella', 'marcas_', 'marcar', 'maravilhosas_', 'maravilha', 'maracan_', 'marabulgosa_', 'mara_', 'mar', 'maquina_', 'maos_', 'manuscristo', 'manuela_', 'mantida_', 'manoo', 'manipuladora_', 'manipula_', 'maninho_', 'manicura', 'maniac_', 'mania_', 'manha_', 'manh', 'manfredin_', 'maneiras_', 'mandir', 'mandava_', 'mandato_', 'mandaram_', 'mandam_', 'manchete', 'manaus_', 'manaaaa_', 'mana', 'man', 'mames', 'mamadores_', 'mamacita', 'malzona', 'maluca_', 'malta_', 'malha_', 'maldosa_', 'maldade_', 'mala_', 'maju', 'maior', 'maina_', 'magoei_', 'magoando_', 'magn_', 'magiclove_', 'madrugando_', 'madrugadas_', 'madruga_', 'madrid_', 'macs_', 'machuca_', 'macho', 'machista_', 'macei_', 'mabi', 'ma_', 'lysyk_', 'lyrics_', 'lver_', 'luzes_', 'lutando_', 'lutado_', 'luscas_', 'lurdes_', 'lunes', 'lume_', 'lumafor_', 'lul_', 'luisa_', 'luba', 'luan_', 'luan', 'lua_', 'lu_', 'ltimas_', 'lovi_', 'loveontoptvi', 'lovemyjob', 'lovato_', 'loucura_', 'loucas_', 'loteria_', 'lotado_', 'los', 'lorena_', 'lore_', 'lorde', 'lool_', 'look_', 'longo_', 'londres_', 'lollapalooza_', 'lolla_', 'lol', 'loiros_', 'loguinho', 'logico_', 'lofihouse', 'lockscreen_', 'localizei_', 'loca_', 'lobo', 'lobisomens_', 'ljxo_', 'liza_', 'lixo', 'lixe_', 'livrou_', 'livro_', 'livre_', 'livre', 'livraria_', 'living_', 'livezinha_', 'liuz_', 'litr_', 'literatura_', 'literatura', 'listinha_', 'listar_', 'lista', 'lise_', 'lisboa_', 'lipa_', 'lio_', 'lino_', 'link', 'linhares', 'lindxs_', 'lindx_', 'lindoooo_', 'lindinho', 'lindas_', 'lindaaaaa_', 'lindaa_', 'lind_', 'limparam_', 'limpa', 'limite_', 'limitado_', 'limas', 'lim_', 'likes', 'like', 'liiindo', 'ligueospontos_', 'ligue_', 'ligo_', 'ligo', 'ligarei_', 'ligados', 'ligada_', 'liga_', 'liga', 'life_', 'lidos_', 'lideres', 'lidando_', 'licen_', 'licas', 'libras_', 'libra_', 'libertadores_', 'liberar', 'liberam_', 'liberais_', 'liberado_', 'liam', 'li', 'lhes_', 'lgbtfobia_', 'lfreitas', 'lf_', 'lexa_', 'levei_', 'levava_', 'levarei_', 'levantou_', 'levantando_', 'levanta_', 'leticia_', 'leste_', 'lesionado_', 'lesa_', 'leria', 'leonardo_', 'leo', 'lendo_', 'lendas', 'lenda', 'lemes_', 'lembrou_', 'lembrem_', 'lembrei_', 'lembrarem_', 'lembrando_', 'lele_', 'leke', 'leitores_', 'leitor_', 'leite_', 'leindaa_', 'lego_', 'legit', 'legendas_', 'legendary_', 'legendar_', 'legendam_', 'leeteuk_', 'leeem_', 'lebaccaro_', 'leandro_', 'leandra_', 'lbuns_', 'lbums_', 'lbc_', 'lay_', 'lavar_', 'lavando_', 'lavagem_', 'lautertjornal', 'latino_', 'las_', 'las', 'larga_', 'lares_', 'lanzamientoassassins', 'lantei_', 'land_', 'lanche_', 'lanche', 'lamentando_', 'lament_', 'lambateria', 'laka_', 'laico_', 'lagrimas', 'lados_', 'lados', 'ladinho_', 'ladainha_', 'lacrar_', 'laborat_', 'kyuto_', 'ku_', 'kskskskss', 'kskkdks', 'kskdjss_', 'krugers_', 'krl_', 'kratos_', 'kpopper', 'kota_', 'kopa_', 'kook', 'knight', 'klasndlaksnd', 'kkskk_', 'kkkkkkkkkkkkkkkkkkkj', 'kkkkkkkkkkkkkkkk_', 'kkkkkkkkkkkkk_', 'kkkkkkkkkk', 'kkkkkkkkk', 'kkkkkkk', 'kkkkkk', 'kkkkjjjjkkjkkkk_', 'kkkk', 'kkjjkkk_', 'kkfkdk_', 'kjkkjkkkkk', 'kjjjjkkkk', 'kitsune_', 'kill_', 'kilings_', 'kika_', 'kihyun_', 'kids_', 'kids', 'kidding_', 'khaz_', 'kg', 'kenia_', 'kdkskskksksks_', 'kdjdjfj_', 'kd_', 'kbs', 'katia_', 'kassandra_', 'karu_', 'karenjulia_', 'kappa_', 'kakkmaddafakka_', 'kakakakakkakaks_', 'kakakakakka', 'kakakaka', 'kajsakjskjd', 'kaf_', 'justamente_', 'justa', 'jusqq', 'jurava_', 'jurando_', 'jur_', 'juntos', 'junto', 'juntas', 'juntar_', 'junta_', 'jungkookie_', 'jun_', 'julio_', 'juliana_', 'juliaeb_', 'julia_', 'julgando_', 'jujuba_', 'juiz_', 'juc_', 'jseph_', 'jr_', 'jr', 'journal_', 'jota', 'josu_', 'jornal_', 'jorge_', 'jordan_', 'jong_', 'johnsons_', 'jogou_', 'jogos', 'jogava_', 'jogasso_', 'jogaria_', 'jogamos_', 'jogados_', 'jogadores_', 'jogador_', 'jog_', 'joey_', 'jodie_', 'job', 'joanaims_', 'jo_', 'jndiretakkkk', 'jn_', 'jkkkk_', 'jkdkfdhg', 'jinzinho_', 'jikooka_', 'jikooka', 'jikook_', 'jhopes_', 'jeongin_', 'jeon_', 'jeno_', 'jc_', 'jbs_', 'jbjb_', 'jardins', 'japon_', 'jantar_', 'janine_', 'janelas_', 'janela_', 'janela', 'jane_', 'jana_', 'jamie_', 'james_', 'jamais_', 'jakilini_', 'jair_', 'jair', 'jaeyong_', 'jade_', 'jacto_', 'jackson_', 'jacarelvis_', 'jaca_', 'ix_', 'ivuuuu', 'itititi_', 'iti', 'itaperuna', 'isto', 'isdead_', 'isabet_', 'irritar_', 'irritante_', 'irritada_', 'irriradissima_', 'irrespons_', 'ironicamente_', 'ironia_', 'iron_', 'iris_', 'iremos_', 'iphone', 'ip_', 'ios_', 'involunt_', 'inviabilizando_', 'invi_', 'investir', 'investiguem_', 'inverti_', 'inverno_', 'inventa_', 'invejatenho', 'inveja', 'invalidarem_', 'inv_', 'introdut_', 'intolerantes_', 'intima_', 'interpretar_', 'interpreta_', 'internado_', 'interna_', 'interna', 'interior', 'interferiu_', 'interesse_', 'interesse', 'interessantes', 'interessante', 'interativa_', 'interage_', 'intera_', 'intensa_', 'inteligentes_', 'inteligentes', 'inteligent_', 'intelig_', 'inteiramente_', 'integridade_', 'insustent_', 'instituto_', 'instastories', 'instala_', 'inst_', 'inspirou_', 'insira_', 'inseguro_', 'insegura_', 'inscritos_', 'inscrito_', 'inovadora_', 'inomin_', 'inocente_', 'inkspired', 'ink_', 'injusta_', 'inje_', 'iniciou_', 'inicio_', 'iniciar_', 'iniciante', 'iniciando_', 'inicia_', 'ini_', 'ingressos_', 'ingrata_', 'ing', 'informe_', 'informam_', 'informados_', 'inform_', 'info_', 'influenciador_', 'influ_', 'inflamando', 'infeliz_', 'inexistente_', 'inexistente', 'inevitabilidade_', 'inevit_', 'inesquec_', 'individuais_', 'indisposto_', 'indiretas_', 'indireta', 'indiquem_', 'indios_', 'indiferen_', 'indicou_', 'indico_', 'indicar_', 'indicando_', 'indicada_', 'indentifico', 'indecisos_', 'indecisa_', 'incrivel_', 'incomodar_', 'incluindo_', 'inclu_', 'incitar_', 'incessante_', 'incerteza_', 'incentivou_', 'inaugura_', 'inacreditada', 'ina', 'imundo_', 'imprest_', 'impressionada_', 'impressa_', 'imprensa_', 'importar_', 'importar', 'importante', 'importam_', 'importam', 'impor_', 'implorando_', 'implementaram_', 'imperador_', 'impediu_', 'impeachment_', 'imparciais_', 'impactada_', 'impactada', 'imobilizar_', 'imma_', 'imigrante_', 'imers_', 'imbui_', 'imbecis_', 'imbecil_', 'imaginava', 'iludo_', 'iludir_', 'iiiiinfelizmente_', 'igualzinho', 'igualzinha_', 'igualmente_', 'igualava_', 'igual', 'igrejinha_', 'igreja', 'igor_', 'ignorante_', 'ignorada_', 'ignora_', 'ifttt', 'iferno_', 'ier_', 'ieqa_', 'idols_', 'idolatro_', 'ido_', 'idiomas_', 'idioma_', 'ideologias_', 'ideologia_', 'identifico_', 'identificar_', 'ideal_', 'idade', 'ida_', 'ichbin_', 'icarai_', 'ibccrim_', 'iara_', 'iana_', 'iam_', 'iago', 'hyunjin_', 'hyungwon_', 'hyun_', 'hyuk_', 'hype_', 'husqvarna_', 'humilho_', 'humilha_', 'humanos_', 'humanizar_', 'humanidade', 'hum', 'huhuuu_', 'huhuhuhu_', 'hug', 'huashusahu_', 'hsushsuha_', 'hsushs', 'hr_', 'hpg_', 'hp_', 'hoxe', 'houvesse_', 'houvesse', 'houver_', 'houve_', 'houve', 'house_', 'hostis_', 'hostia_', 'hospital_', 'hosp_', 'horror', 'horrana_', 'horizon_', 'horario_', 'hora', 'honrada_', 'honjo_', 'honey', 'homofobia_', 'homofobia', 'homic_', 'homenagem_', 'homem', 'holz_', 'hola_', 'ho', 'hmmmmmm_', 'hmmmm_', 'hmmm_', 'hmm_', 'hitler_', 'hitler', 'hipocrisias_', 'hip_', 'hino', 'himen', 'hill', 'hil_', 'hi_', 'hhahaa_', 'heushsauhwus_', 'herman_', 'herbert_', 'henn', 'helplessheart_', 'help_', 'heloisahaddad_', 'hellomarceline_', 'hello_', 'heitor_', 'hehehe_', 'hehehe', 'heheh_', 'hehe', 'heejun_', 'hediondos_', 'heavy_', 'heartless', 'heart', 'hdfkhkfhfg_', 'haz_', 'hays_', 'hayoung_', 'hay_', 'hax_', 'havia_', 'hauhhuhuhhu_', 'hauehuaheua_', 'hauahauah_', 'hauahaua_', 'hate_', 'hashiashu_', 'harry_', 'harry', 'happyjiminday', 'hangout', 'hang_', 'halloween_', 'hajshiajsia_', 'haja_', 'hahauh_', 'hahahahahaha_', 'hahahahahaha', 'hahahahaha_', 'hahahahaha', 'hahahahah', 'hahahah_', 'hahahaahshs_', 'hahahaa', 'hahah_', 'hahah', 'haha', 'haertel_', 'hadid_', 'haddadnao', 'haddaders_', 'haddade_', 'hackeado_', 'hacke_', 'habitar_', 'habilita', 'haag_', 'guto', 'gustavo_', 'gurizadinha_', 'guris_', 'guriia_', 'guloseimas_', 'guinada_', 'guigui_', 'gui_', 'gugacast_', 'guerra_', 'guaximim_', 'guas_', 'guardinha', 'guardados_', 'guanho', 'gtx_', 'grupos_', 'grts_', 'grosseria', 'grl_', 'grito_', 'gritinho_', 'gritante_', 'grita_', 'gripei_', 'gripar', 'grimas_', 'grima_', 'gremista', 'gregar_', 'grazielle_', 'gravar_', 'graus_', 'gratificante_', 'grao_', 'grande', 'grana_', 'gran', 'grafeno_', 'grados_', 'grades_', 'grades', 'gracinha_', 'gpsk_', 'gpp', 'gozar_', 'governo', 'governar_', 'governando_', 'governado_', 'gourmet', 'gostozin_', 'gostosos_', 'gostosinho', 'gostem', 'gostava', 'gostaria', 'gostarem_', 'gostado_', 'gost_', 'gossip_', 'gospel_', 'gordo_', 'gordinho_', 'gordinho', 'gopher_', 'gooo', 'google_', 'good_', 'good', 'gondomar_', 'golpista_', 'golpe_', 'golden', 'golang_', 'golang', 'gol_', 'gokbm', 'gokabum', 'goiano', 'gogogo_', 'godoy_', 'god', 'gobr_', 'goals_', 'goa_', 'globolixo', 'globe', 'gleici_', 'gisele_', 'giro_', 'girls_', 'girl', 'giras_', 'giras', 'gira_', 'giovanna_', 'gios', 'gigantes_', 'gico', 'gica', 'giants_', 'gia_', 'gi_', 'ghz_', 'ghibli', 'gg_', 'gets_', 'gestaoclick_', 'gerador_', 'ger_', 'geo_', 'gento_', 'gentileza_', 'gentil_', 'genteee_', 'gengis_', 'generalizar_', 'gemassss', 'gelado_', 'geladinha_', 'gekkan_', 'gei', 'gd_', 'gays_', 'gay_', 'gatos_', 'gatinho_', 'gatinha_', 'gatas_', 'gastrite_', 'gastas_', 'gastando_', 'gastamos_', 'garotos_', 'garoto_', 'garganta_', 'garanto_', 'garantir_', 'gar_', 'gano_', 'ganhou', 'ganho_', 'ganhe', 'ganhava_', 'ganharam_', 'ganhadores', 'ganhado_', 'ganhado', 'ganga', 'ganar_', 'gan_', 'games', 'gamelos', 'galileu_', 'galho', 'galerinha_', 'galerinha', 'galeraaaaa', 'galeraaa_', 'galera', 'gajo_', 'gaja', 'gado', 'gadelha_', 'gabyo_', 'gabrilli', 'gabriel_', 'gabinete_', 'gabi', 'fzr_', 'fv_', 'futuros_', 'futebol', 'furei_', 'fungar_', 'fundo', 'funcionando_', 'funciona_', 'funcion_', 'fumei_', 'fume_', 'fujo_', 'fugindo_', 'fudido_', 'fudidasso_', 'fudida', 'fudi_', 'fudeu', 'fudeo_', 'fuck_', 'fu_', 'fse_', 'fruto_', 'fruta_', 'frustrante_', 'frustrando_', 'frota_', 'fronteiras_', 'friozinho_', 'freud', 'fresquinho_', 'fresquinha', 'fresco_', 'frequentar_', 'freela_', 'free_', 'fredy_', 'fraqueza_', 'franfrann_', 'francos_', 'francisco_', 'francischini_', 'francesa_', 'franca_', 'franc_', 'fran_', 'fragmentada_', 'fracassado_', 'fracassada_', 'fraca_', 'fraca', 'found_', 'fotos', 'fotooo_', 'fotografam_', 'fotogr_', 'fotog_', 'foto', 'fotinho_', 'fotinha_', 'fot_', 'fortnite_', 'fortes_', 'fortemente_', 'forte', 'fortaleza_', 'fortalecer_', 'forno_', 'fornecer_', 'formato_', 'formar_', 'forma', 'foquem_', 'foquei_', 'fontana_', 'fonseca_', 'fons', 'fomentam_', 'fome', 'follow_', 'folhas_', 'folha_', 'folha', 'folga_', 'folga', 'folclores_', 'foiiiii', 'foguinhos', 'foguete_', 'fogos_', 'fogo', 'foge_', 'fofocas', 'fofoca_', 'fofinhos', 'fofinho', 'fofinhas_', 'fofi_', 'fodido_', 'fodida', 'fodi_', 'fodeu', 'fodes_', 'foderam_', 'foder', 'fodasi_', 'fodao_', 'fodah_', 'foco_', 'foco', 'focado_', 'fobia_', 'fmv_', 'fluminense_', 'fluminense', 'flr_', 'florida_', 'floresta_', 'flores_', 'florencio_', 'floral_', 'flor_', 'flopada_', 'flica', 'flashlight_', 'flaaavi_', 'fl_', 'fixes_', 'fiuu_', 'fitz_', 'fita_', 'fisico_', 'fisicamente_', 'fish_', 'fiquemos_', 'finn_', 'finjo_', 'finjo', 'finish_', 'fininho_', 'fini', 'fingindo_', 'financiaram_', 'financeiro', 'financeira_', 'finalspace', 'finalmente', 'finally', 'finalizado_', 'fina_', 'filtrando_', 'filmou_', 'filiou_', 'filhos', 'filhona_', 'filhas_', 'fiiuuu_', 'ficatemer_', 'ficasse_', 'ficariam_', 'ficarei_', 'ficado_', 'fic_', 'fhc_', 'fgc_', 'ff', 'feynman_', 'feto', 'festival_', 'festiva_', 'festao_', 'festa', 'ferve_', 'ferraz_', 'ferrando_', 'feros', 'fernanda_', 'ferida_', 'feriadinn_', 'fer_', 'femininas', 'feminina_', 'feminilidade_', 'felizz', 'felizinhos_', 'feliiiiiz_', 'felicidades_', 'felicidade', 'feitio_', 'feita_', 'feiras_', 'feira', 'feinha_', 'feij_', 'feias', 'feia_', 'feedback', 'feed_', 'federais_', 'fechou', 'fechei_', 'fechado_', 'febre_', 'feartwd_', 'fdp', 'fddc_', 'fca_', 'fbd_', 'fb_', 'fazzz_', 'fazia', 'fazes_', 'fazeres_', 'fazenda_', 'fazem', 'favs_', 'favs', 'favoritos_', 'favoritos', 'favorito_', 'favorito', 'favores_', 'favorece_', 'fausto_', 'fauno_', 'fatura_', 'fatos_', 'fatias_', 'fase_', 'fascistinhas_', 'fascistas_', 'fascistaah_', 'fascista', 'fascismonunca', 'fascina_', 'fas_', 'farei_', 'fara_', 'fansubs_', 'fansign_', 'familiar_', 'familia_', 'faltar', 'falo', 'falhou_', 'falharei_', 'falha_', 'falem', 'falei', 'falavas_', 'falando', 'falamos', 'falado_', 'fal_', 'fake', 'fadinha', 'fadados_', 'facul_', 'facto_', 'facismo_', 'facilidade_', 'facadas_', 'fac_', 'fabi_', 'ez_', 'extremos_', 'extrapoladas_', 'expressamos_', 'expostas_', 'exposed_', 'expor_', 'explosivo_', 'expliquem', 'explicando_', 'explicando', 'explicado_', 'explicada_', 'experimente_', 'experimentar_', 'expediente_', 'expectativas_', 'expectativa_', 'exp_', 'exo', 'existiu_', 'existir_', 'existir', 'existem_', 'existe', 'exista', 'exercitodaprado', 'exemplo_', 'exemplificado_', 'excluida_', 'excluam_', 'exclu_', 'excelentes_', 'excelente_', 'exausta_', 'exato_', 'exato', 'exatas_', 'exatamente', 'exata_', 'examina_', 'ew_', 'evy_', 'evp_', 'evolui_', 'evitando_', 'evitada_', 'evil_', 'evangelho_', 'evan_', 'euzinha_', 'euu_', 'eusouhacker_', 'euclidiana_', 'eua_', 'eternos_', 'eterno_', 'eterna_', 'etapa_', 'estupro_', 'estupro', 'estudos', 'estudar', 'estressou_', 'estressar_', 'estressantes', 'estressadinha', 'estressada', 'estranhamento_', 'estralando_', 'estragaram_', 'estourar_', 'estoque_', 'estocar_', 'estive_', 'estive', 'estimular_', 'estima_', 'estejam_', 'estavas_', 'estatal', 'estando_', 'estande_', 'estame_', 'estagnado', 'estaginhoo', 'essw_', 'essenciais_', 'essa', 'ess_', 'esquizo_', 'esquerdopata_', 'esquerdadesesperada', 'esquema_', 'esqueci', 'esquecey', 'esqueceu_', 'espumar_', 'esportiva_', 'espinhas_', 'espetos_', 'espetada', 'esperei_', 'esperamos_', 'espelho_', 'especula_', 'especifico_', 'especially', 'espanhol_', 'espancar_', 'eso', 'esmalte', 'esganar_', 'esfriam_', 'esfria_', 'esfaqueador_', 'esfaqueado_', 'ese_', 'escutou_', 'escutou', 'escutei_', 'escutava_', 'escuta', 'esculcas_', 'esculachar_', 'escudinho_', 'escroto_', 'escrotice_', 'escrito_', 'escreveu_', 'escorpianinho_', 'escorpi_', 'escondidos_', 'escondem_', 'escolhemos_', 'escolha', 'escolaridade_', 'esclavas_', 'esclarecer', 'esclarecendo_', 'escapat_', 'escancara_', 'escalada_', 'error_', 'errei_', 'errado', 'erp_', 'eras_', 'eras', 'equivale_', 'equipe_', 'equipe', 'equipamento_', 'equilibrada_', 'equador_', 'epah_', 'eo_', 'enxerguem_', 'envolveu_', 'envolver_', 'envolver', 'envolve_', 'envolva_', 'envio_', 'enviei_', 'envie_', 'envergonhou_', 'envenenar_', 'entusiasmo_', 'entristece_', 'entrevista_', 'entrevist_', 'entreguem_', 'entregue_', 'entregas_', 'entregar_', 'entrava_', 'entrada_', 'enterrar_', 'entendo', 'entendia_', 'entendi', 'entendeu_', 'entendeu', 'entenderem_', 'entendendo', 'entendem_', 'entenada_', 'entar_', 'entao_', 'ensino_', 'ensinei_', 'ensinamentos_', 'ensina_', 'enriquecedor_', 'enorme', 'enjoy', 'enj_', 'engm_', 'engenheiro_', 'engenharia_', 'engatar_', 'engarrafamento_', 'enganou', 'engano_', 'engane_', 'enfrentar_', 'enfio_', 'enfim', 'enfiem_', 'enfiar_', 'enfiamos_', 'enfeitados_', 'enfatizei_', 'enem', 'enelnao', 'eneas_', 'encostar_', 'encostada_', 'encontros_', 'encontro_', 'encontrinho_', 'encontre_', 'encontrava_', 'encontrar_', 'encontrado_', 'encontra_', 'encomendo_', 'encerrar_', 'encantar_', 'empurrou_', 'empurraozinho_', 'empresta', 'empregados_', 'emponderadas_', 'empolguei_', 'empinar_', 'empina', 'empactante_', 'emojis_', 'emoji_', 'emocionada_', 'emite', 'emily', 'emi_', 'embarque_', 'emba_', 'email_', 'elw_', 'elvira_', 'elric_', 'elq', 'ellias', 'elites_', 'elite_', 'eliminar_', 'elimina_', 'elevador_', 'eletricidade_', 'elementos_', 'eleitoral_', 'eleitorais', 'eleito', 'elegendo_', 'elegant', 'eleg_', 'eksuwjsje_', 'eita_', 'eis_', 'einstein_', 'ehverbo_', 'ehh_', 'ehehhehehhe', 'eh', 'egoista_', 'egg_', 'efron_', 'efeitos_', 'eeh_', 'eeeuu_', 'eeeeee', 'eeee_', 'eeee', 'eee_', 'eeda', 'educador_', 'educado', 'educada_', 'ediv_', 'editor_', 'edit_', 'eddyg_', 'economista_', 'eca_', 'ec', 'eba', 'eata_', 'eai_', 'eagles_', 'dyscorded_', 'dxa', 'dwmais_', 'duvido', 'duvidas_', 'durmir_', 'durma_', 'dure_', 'durava_', 'durar_', 'dura_', 'duo_', 'dulos_', 'duda_', 'dublador_', 'dublado_', 'duarte_', 'du_', 'dscp_', 'dream_', 'dreads_', 'dread', 'douro', 'douglas_', 'doug_', 'dotado_', 'doses_', 'dormisse', 'dormindo', 'dormido_', 'dormida', 'dormi', 'dorme_', 'dorme', 'doria_', 'dores_', 'dores', 'dopamina_', 'doomedd_', 'doncela_', 'donadel_', 'don_', 'dominos_', 'domingos_', 'domingo', 'dominando_', 'doloroso_', 'dolorido_', 'dolorida_', 'dolar', 'dokgo_', 'doisss', 'doidos_', 'doidinho_', 'doiderinhas_', 'doidas_', 'doida_', 'doida', 'doguinho_', 'dog', 'doente', 'docinho_', 'docentes_', 'doce', 'doc', 'dobrou', 'dobrar_', 'dnv_', 'dlc_', 'djd_', 'dj', 'dix_', 'divulgue_', 'divulgo_', 'divulgado_', 'divulga_', 'divisional_', 'divirtam_', 'divirta_', 'divididos_', 'divida_', 'divertir_', 'divertido', 'divertida', 'diversos_', 'divergente_', 'diverg_', 'ditos_', 'ditos', 'ditadura', 'distribuir_', 'distraia_', 'distorcendo_', 'disto_', 'distancinha_', 'distancia_', 'dist_', 'dissesse_', 'disseram_', 'disseminar_', 'disse', 'disposta', 'disposi_', 'disponivel_', 'disponibilidade_', 'disponha_', 'disgra_', 'discutiu_', 'discutindo_', 'discutem_', 'discursos_', 'discos_', 'discordo_', 'discordamos_', 'discografia_', 'disc_', 'diria_', 'diria', 'direto_', 'diretivas_', 'direta_', 'direitos_', 'direitos', 'direito', 'direitinho', 'dire_', 'dios', 'dionisio_', 'dino_', 'dinner_', 'dinda_', 'dinda', 'din_', 'diminuiu_', 'diminuir_', 'dimens_', 'dilsinho_', 'diiia_', 'digozinho_', 'digitei_', 'digitar_', 'digitar', 'digital_', 'digitais_', 'digest_', 'digamos_', 'diga_', 'dig_', 'difusor_', 'dificil', 'dific_', 'difamando_', 'dicos_', 'dicace_', 'dica', 'diariamente_', 'diante_', 'diamante_', 'diadovendedor_', 'diaaaaaa', 'diaaaaa_', 'diaaa_', 'diaa', 'dg_', 'df', 'dezenas_', 'dezembro_', 'dexter_', 'devs_', 'devora_', 'devias_', 'developer_', 'devas_', 'devagarinho', 'devagar_', 'dev_', 'deuxxx', 'deuxx_', 'deuxx', 'deux_', 'deuus_', 'deuschle_', 'deui_', 'deuces', 'deu', 'deturpar_', 'determinado_', 'determinada_', 'detalhes_', 'detalhe_', 'destru_', 'destr_', 'destes_', 'destaque_', 'desses', 'desservi_', 'desse', 'desrespeitadas_', 'despreocupado_', 'despertadores_', 'despedido_', 'desonestos_', 'desnorteada_', 'desmobiliza_', 'desmatamento_', 'desmaiei_', 'desmaiada_', 'deslugar_', 'deslizes_', 'desligou_', 'desligar_', 'desisto_', 'desistindo_', 'desisti_', 'desista_', 'desinstala_', 'desigualdades_', 'desgosto_', 'desgaste_', 'desgastante', 'desferiu_', 'desfecho_', 'desespero_', 'desesperados_', 'desesperado_', 'desesperado', 'desesperada_', 'desesperada', 'deserta_', 'desenvolvimento', 'desenvolver_', 'desenharia_', 'desenhar_', 'desenha', 'desemprego_', 'desemprego', 'desemborca_', 'desejei_', 'desejas_', 'desejado_', 'deseja_', 'desculpem_', 'desculpas', 'descubro_', 'descrente_', 'descordar', 'descontrolado_', 'desconto_', 'desconhecia_', 'desconhe_', 'desconfiava_', 'desconfiado', 'descobrir', 'descoberta_', 'descer_', 'descaso_', 'descansar_', 'descansar', 'desativou', 'desativar_', 'desativado_', 'desatenta_', 'desastrosa_', 'desastre_', 'desapontante_', 'desapontada', 'desanimada_', 'desanda_', 'desafio', 'desafinada_', 'desabafo_', 'desabafem_', 'desabafar', 'des_', 'derrubar_', 'derrota', 'deres_', 'deram_', 'dera', 'deputados', 'deputada_', 'deprimir_', 'depressao', 'depr_', 'deportivos_', 'depender_', 'dependendo_', 'deoutubro', 'dentro', 'dentinhos_', 'denaise_', 'denada_', 'demoscene_', 'demos_', 'demorar_', 'demorado', 'demora_', 'demonstro_', 'demonstra_', 'demomaker', 'demolidor_', 'demajs', 'demaissss_', 'demaisss_', 'demaisa_', 'deluca_', 'delicia_', 'delicado_', 'delicado', 'deletado_', 'delas', 'delaa', 'deixo_', 'deixo', 'deixem_', 'deixava_', 'deixassem_', 'deixaria_', 'deixarem_', 'deix_', 'deito_', 'deitar_', 'deistiu_', 'degolado_', 'definitivamente_', 'definir_', 'defesa_', 'defendendo_', 'defendem_', 'dedos_', 'dedinhos_', 'decoradora_', 'declarou_', 'declarar_', 'decidiu', 'decepecionada', 'decepcionou_', 'decepcionei_', 'decepcionar_', 'decepcionante_', 'decepcionando', 'decepcionado_', 'decepcionada', 'decepcionad_', 'decep_', 'debs', 'debates', 'debater_', 'debater', 'debate_', 'deagosto', 'ddd_', 'ddd', 'dd_', 'dd', 'dcc_', 'dc_', 'dayrol_', 'david_', 'datafolha_', 'data_', 'daryl_', 'daquilo_', 'daquele_', 'daquela_', 'daora_', 'daniel', 'dandara_', 'dancei_', 'dancar_', 'damatii_', 'damar', 'dama_', 'dalila_', 'dalheer', 'dagua_', 'daddy', 'daciolo', 'dabbie', 'daamorin_', 'daah_', 'daa_', 'cute', 'custou_', 'custas_', 'cuscuz', 'curtiu_', 'curtir_', 'curr_', 'curitiba_', 'curioso_', 'curiosidade_', 'cural_', 'cura_', 'cuo', 'cunho_', 'cunhado', 'cunha_', 'cumprir_', 'cumprimento_', 'cultura_', 'culto_', 'culo', 'cuidar', 'cuesta_', 'ctg', 'crzy_', 'crvlh_', 'cruzeiro_', 'crushhshdkwbdbdj', 'crossovers_', 'croch_', 'crocante_', 'crita_', 'cristiano', 'cris', 'criou_', 'crio_', 'crime_', 'crime', 'criatura_', 'criativxs_', 'criativa_', 'criancinha', 'criadas_', 'crescido_', 'cresceu_', 'crescendo_', 'crentissima_', 'creminhos_', 'creio_', 'creeper_', 'credo_', 'cp_', 'cozinha', 'cox_', 'coworking', 'cover_', 'cova_', 'coutinho', 'cotabato_', 'costura_', 'costumo_', 'costela_', 'costando_', 'cosplay_', 'cory_', 'cortesia_', 'cortes_', 'cortar_', 'corruptos_', 'corruptos', 'corrupta_', 'corrigi_', 'corridos_', 'corrida_', 'corretor', 'correto', 'corretivo_', 'corresse_', 'correspondidos_', 'correspondido_', 'correntinha_', 'correntes_', 'corrente_', 'corremos_', 'correi_', 'corre_', 'corr_', 'corpo', 'corp_', 'coronelista_', 'coronel_', 'coroa_', 'cornear_', 'corneado_', 'coreia_', 'coreana_', 'coragem_', 'coragem', 'coracao_', 'copiei_', 'copiar_', 'copersucar_', 'copa', 'cooperativa_', 'cooooorre_', 'convosco', 'convivem_', 'convido_', 'convidam_', 'convidad_', 'convic_', 'converso_', 'conversei_', 'conversarem_', 'conversar', 'conversam_', 'conversad', 'convers_', 'convencer_', 'contratou_', 'contras_', 'contrapartidas_', 'continuem_', 'continue', 'continuarem_', 'continuam_', 'continuado_', 'continua', 'continha_', 'contente_', 'contentar_', 'contemporan_', 'contempor_', 'conte_', 'conte', 'contas_', 'contarei_', 'contamos_', 'contam_', 'consumir_', 'construtivo_', 'construindo_', 'constitui_', 'constatlm', 'constatando_', 'consolinho_', 'consoles_', 'consiguido_', 'considerou_', 'considero_', 'considerar_', 'considerado_', 'considerada', 'considera_', 'conservadores_', 'conseguiu', 'conseguirmos_', 'conseguiram_', 'conseguimos', 'conseguido_', 'conseguido', 'conseguia_', 'consegui', 'consciente', 'conrado_', 'conquistar_', 'conquista_', 'conquista', 'conosco_', 'conheces', 'conhecendo_', 'congresso_', 'congresso', 'congratula_', 'confusa_', 'confundem_', 'conforte_', 'confortar_', 'conforta', 'conflito_', 'confiscar_', 'confirmo', 'confirmar_', 'confirmando_', 'confirma', 'confiram_', 'confio', 'confiem_', 'confiava_', 'confiar_', 'confiante_', 'conferiu_', 'conferida_', 'confere_', 'confer_', 'confedera_', 'conex_', 'cone', 'condizer_', 'concre', 'concorrer_', 'concorrendo_', 'concordou_', 'concordo', 'concordar_', 'concordamos_', 'concluiu_', 'concerto_', 'conceito_', 'comuns', 'comunismo_', 'comunicar_', 'comunica_', 'comum_', 'computa_', 'comprovar_', 'comprovante_', 'comprou_', 'comprou', 'compromisso_', 'compridos', 'compreenda_', 'compre_', 'comprava_', 'comprando_', 'comprados_', 'comprada_', 'composi_', 'complicadas_', 'completar', 'compartilhe_', 'compartilhe', 'comparecer_', 'comparar_', 'comparada_', 'compara_', 'companheira_', 'como', 'community_', 'comit_', 'comigoooo', 'comerem', 'comerciais_', 'comento_', 'comentem', 'comente_', 'comentarista_', 'comentaram_', 'comentado_', 'comenta_', 'comemora_', 'comece_', 'comecar_', 'comeback', 'comboios_', 'combinat_', 'combinado_', 'combatendo_', 'combate_', 'coluna_', 'colou', 'coloquem_', 'colocou_', 'colocava_', 'colocam_', 'colinha_', 'colica', 'colega_', 'colaboram', 'colaborador_', 'colabora', 'cola_', 'coitado_', 'coiso', 'coisinhas_', 'coisinha_', 'cogitado_', 'cogita', 'coer_', 'coelho', 'coelhinhos', 'coe_', 'cochilinho_', 'cochilar', 'coca_', 'cobrar_', 'cobra_', 'co_', 'cnv_', 'cnicos_', 'clube_', 'clube', 'clima_', 'clicksummitpt_', 'clicksummitpt', 'clich_', 'clica_', 'classificados_', 'classe_', 'clash_', 'claro', 'clarke_', 'clari_', 'claras_', 'claramends_', 'clara_', 'civilidade_', 'cius_', 'citou_', 'citei_', 'citava_', 'citando_', 'citados_', 'ciroooooo', 'cirinho', 'circunst_', 'circuito_', 'cirandou_', 'cios', 'cinza_', 'cinemas_', 'cinema', 'cimerrr', 'cientista_', 'cie_', 'cidadezinhas_', 'cidades_', 'cidade', 'ciclistas_', 'cial_', 'chuveiro_', 'chuva', 'chutei', 'chute_', 'chutando_', 'chusco_', 'churrasco_', 'chupando_', 'chupala', 'chulapa_', 'chuahae', 'choveu_', 'chora_', 'chora', 'chop_', 'chogiwelcome', 'chocolates_', 'chiquita', 'chique_', 'chinela_', 'chinalli_', 'china_', 'chile_', 'chi_', 'chevre', 'chenti_', 'chen', 'cheirosinha_', 'cheiro_', 'cheiro', 'chegueiiiii', 'chegou', 'chegassem', 'chegarei_', 'chegamos', 'chegada_', 'chegaaaa_', 'cheating_', 'chatos_', 'chatinho', 'chatiada_', 'chatear_', 'chateado_', 'chateado', 'chateadissima_', 'chateada', 'chatea_', 'chat_', 'chapinha_', 'chanyeol_', 'changkyun_', 'chang_', 'chan_', 'chamyto_', 'chamo_', 'chamo', 'chame_', 'chamasse_', 'chamando_', 'chamam_', 'chamada_', 'chama', 'chains', 'chagar_', 'chafez_', 'chad', 'ceub_', 'ceto_', 'cesso_', 'certinha_', 'certeza', 'certa', 'cert_', 'cerqueira_', 'cerebral_', 'cep_', 'censura_', 'censura', 'celularrrrrrrrrrrrrr', 'celestial_', 'cel', 'ceis_', 'ceis', 'cegueira', 'cego_', 'ceder_', 'ceb_', 'cearense_', 'cdfcd_', 'cdb_', 'ccd_', 'cc', 'cavalares_', 'causador_', 'causado_', 'catolicismo_', 'cativa_', 'categoria_', 'catarina_', 'catarina', 'catando_', 'castanhari_', 'cast', 'casos', 'casey_', 'cases_', 'caseiro_', 'caseira', 'case_', 'casava_', 'casar_', 'casais_', 'casaco_', 'carteira_', 'carreira_', 'carregador_', 'carregador', 'carrega', 'carpete_', 'caros_', 'caroloficial_', 'carol', 'caro', 'carne_', 'carnaval_', 'carnavais_', 'carmo_', 'carmen_', 'carmem_', 'carisma_', 'carioca_', 'carie', 'caridade_', 'cargos_', 'cardoso_', 'cardi_', 'card_', 'caratismo_', 'caratismo', 'caras', 'caramba_', 'caramba', 'caralhos_', 'caralhadas_', 'caralh_', 'caraio_', 'caraio', 'carai', 'caraca_', 'caraca', 'caraaalhhhooo', 'caputo_', 'capoeiras_', 'capoeira', 'capital_', 'capit_', 'capinhas_', 'capaz_', 'canziani_', 'cantor_', 'cantinho_', 'cantava_', 'cantarolando_', 'cantar', 'cantanhede_', 'cansou_', 'cansei_', 'canse_', 'cansar_', 'cansado_', 'cano_', 'cangote_', 'canecao_', 'candombl_', 'canditados_', 'canditado_', 'candidatura_', 'candidados', 'cancer', 'cancelar_', 'cancela_', 'canais', 'campus_', 'camposdojordao_', 'campeonato_', 'campeao_', 'campe_', 'campanha', 'camiseta_', 'caminhar_', 'caminhada_', 'caminha', 'camiadriane_', 'camera_', 'calor_', 'calo', 'calmo_', 'calma', 'calhar_', 'calend_', 'caldeira_', 'calcinha_', 'calcinha', 'calada', 'caixa_', 'cagarem_', 'cagar_', 'cagando_', 'cagam', 'caga_', 'cafun_', 'cafona_', 'caf', 'caes_', 'cadernos_', 'cadela_', 'cadeir_', 'cade_', 'cad_', 'caco', 'cachorrinho', 'cacheadooooosss_', 'cach_', 'cabral_', 'cabo_', 'cabecinha_', 'cabe', 'bvia_', 'buscamos_', 'bus', 'burros_', 'burro', 'burrice_', 'burguesa', 'burem_', 'bunda_', 'bund_', 'bumbum_', 'bulk_', 'buh_', 'bugada_', 'buenooo_', 'buchi_', 'btw_', 'bsushau', 'bruxo_', 'bruta_', 'brusinhas_', 'brusinha_', 'brunodm_', 'brumas_', 'brucefran_', 'brou', 'brotto_', 'brota_', 'brooota_', 'bronze_', 'brohter_', 'brockhampton_', 'bro_', 'bro', 'brisa_', 'brinks_', 'brincar_', 'brincar', 'brilha_', 'briguinha_', 'briguei_', 'brigas_', 'brigaram_', 'brigar_', 'brigar', 'brigando', 'brigam_', 'brigado', 'brigadeirinho_', 'brigada_', 'brigada', 'briga', 'brejo', 'brecha_', 'break_', 'brazil_', 'bravo', 'brava_', 'brasileiros', 'brasileiro', 'bras_', 'branco', 'braga_', 'braga', 'brabo', 'bozonazo_', 'bozonaros_', 'bozonaro_', 'boytje_', 'boy', 'boxe_', 'botei_', 'boteco_', 'botar_', 'botando_', 'bota_', 'borro', 'borbs_', 'borba_', 'boquinha_', 'boquinha', 'booom_', 'book', 'bonzinho', 'bonitos_', 'bonito', 'bonitas_', 'bonitaa_', 'bonilha_', 'boni_', 'bonequinho_', 'bondinha_', 'bonde_', 'bonauro_', 'bon_', 'bommmmm_', 'bomfim_', 'bolsonazi_', 'bolsonarista_', 'bols_', 'bolhinhas_', 'boleto_', 'boletins', 'boleiro_', 'boleira_', 'bolas', 'bolada_', 'bolacha_', 'bola_', 'bol_', 'boker_', 'boi_', 'boi', 'boc_', 'bobo', 'bobeira_', 'bob', 'blz', 'bloqueou_', 'bloquearam_', 'bloquear', 'blois_', 'blogayra_', 'blocks_', 'block_', 'blica', 'bla_', 'bk_', 'bjo_', 'bjks', 'bjao_', 'bjando_', 'bj_', 'bj', 'bixinho', 'bitch', 'bispos_', 'biscoito_', 'biscoiteira_', 'biquinho_', 'biqu_', 'bios', 'binks_', 'bingo_', 'bill_', 'bilhetria_', 'bilhete', 'bilete', 'bighit_', 'biene_', 'bien_', 'bieber_', 'bida_', 'bicuda_', 'bicos_', 'bico', 'bicho', 'bichinho_', 'bichinha_', 'bichinha', 'biblioteca', 'bias_', 'bianco_', 'bial_', 'bia', 'bgs', 'bgl_', 'bgda_', 'bfb_', 'beyonc_', 'beybe_', 'beto_', 'betel', 'beta_', 'bestializado_', 'besteira_', 'besteira', 'bertoldo_', 'bermuda_', 'berguna_', 'beraquet_', 'benzedeira_', 'benfica_', 'benef_', 'bendito_', 'bendelacreme', 'ben_', 'bellamy_', 'beleza', 'beldade_', 'bela_', 'beijos', 'beijocas', 'beijinho', 'beijar_', 'beijada_', 'beij_', 'beeem_', 'bebo', 'bebida_', 'bebi_', 'bebes_', 'beber', 'bebebe_', 'bebe', 'beautifu_', 'beatrizz', 'beatriz_', 'bdsm_', 'bday_', 'bd_', 'bcf_', 'bcd_', 'bcb_', 'bc', 'bbq', 'bbomb_', 'bayern_', 'baw_', 'batons_', 'bateria_', 'bateria', 'batendo_', 'bastet_', 'bassoli_', 'bassline_', 'basico_', 'basicamente_', 'basica', 'baseada_', 'barulho_', 'barros_', 'barrichello_', 'barreto_', 'barraquinhas_', 'barrada', 'barcelona_', 'barcelona', 'barbie_', 'barbacena_', 'barb_', 'barato_', 'barato', 'baratas_', 'bar', 'baoo_', 'banqueiro_', 'banner_', 'banho', 'banheiro_', 'bandoleira_', 'bandidos_', 'bandidodeestima_', 'bandido_', 'bandicam_', 'bandeira_', 'bananinha_', 'banana_', 'bam_', 'balinha_', 'balas_', 'balance', 'balaio_', 'balada_', 'bala_', 'bal_', 'baixou_', 'baixinhaa_', 'baixaria_', 'baixar_', 'baixando', 'baixada_', 'baixa_', 'baixa', 'baita_', 'bairro', 'baierle_', 'bahia_', 'bah_', 'bagulho_', 'bagosss', 'baga_', 'bados_', 'bada_', 'bad', 'bacon', 'bacolodbloggers_', 'bacen_', 'bacana_', 'babys_', 'babyboy_', 'babou_', 'baboseira_', 'babo_', 'azul', 'azsalsjz_', 'azevedo', 'azar_', 'axmu_', 'awn_', 'avoa_', 'avoa', 'aviso', 'avisei_', 'avisaram_', 'avisar', 'avisado_', 'avisa_', 'avila_', 'aveiro', 'ava_', 'autran_', 'autoriza_', 'autoral_', 'autor_', 'automaticamente_', 'autodidata_', 'autocarros_', 'auto_', 'aut_', 'australiana_', 'ausentar', 'aurora_', 'aumentando_', 'aumenta_', 'audio', 'au', 'atypical', 'atuda', 'atuais_', 'atuais', 'atropelou_', 'atropelando_', 'atriz_', 'atribuir_', 'atribuem_', 'atraso_', 'atrasinho_', 'atrasado_', 'atrasada_', 'atrasada', 'atrapalhar', 'atrapalha_', 'atrai_', 'atos_', 'ator_', 'atolada_', 'atoa_', 'ato', 'ativista_', 'ativismo_', 'ativa_', 'atitudes_', 'atitude_', 'atirar_', 'atingir', 'atendido_', 'atender_', 'atendente_', 'atendam_', 'ataque_', 'ataque', 'atacou_', 'atacante_', 'ata_', 'astrof_', 'assustados_', 'assustador', 'assusta_', 'assunto', 'assumiu_', 'assumir_', 'assombra', 'assistiu_', 'assistidos_', 'assisti', 'assistem_', 'assiste', 'assinar_', 'assimmm', 'assessoria_', 'assassinato_', 'assassinados_', 'assaltado_', 'ass_', 'asinhas_', 'ash_', 'ascend_', 'asc_', 'asamos_', 'arthbr_', 'arrombado_', 'arrog_', 'arrive', 'arrepiei_', 'arrependo', 'arrependidos_', 'arrepender_', 'arrependendo_', 'arrebentou_', 'arraza', 'arranjava_', 'arranjar_', 'arranja_', 'arr_', 'arquivos_', 'arquivo_', 'aroucha_', 'aroma_', 'armyzinhxs_', 'armyselcaday_', 'armyselcaday', 'armyselca_', 'armys_', 'armondd_', 'arminha', 'armamento_', 'arm_', 'ariana_', 'ariana', 'argumentar_', 'argentina_', 'arena_', 'areia', 'arduamente_', 'araujo_', 'aram', 'ar', 'aquecendo_', 'aquecedor_', 'apura_', 'aprovou_', 'aproveitei_', 'aproveita_', 'aprovar_', 'aprovados_', 'aprovado_', 'aprovadas_', 'apresentarem_', 'apresentamos_', 'aprendo_', 'aprendo', 'aprendizado_', 'aprendimos_', 'aprendi_', 'aprendeu_', 'aprende_', 'apreciem', 'aposto_', 'aposto', 'aposta_', 'aposentar_', 'apos_', 'aponte_', 'apontando_', 'apontam_', 'apontador_', 'apologia_', 'apoiou', 'apoie_', 'apoiadores_', 'apoiado_', 'aplica_', 'apetece_', 'apertou', 'apertado', 'aperta_', 'aperriando_', 'aperfei_', 'apercebi_', 'apenas', 'apelido', 'apega_', 'apaziguada_', 'apavorada_', 'apavorada', 'aparentar_', 'aparentam_', 'aparecer_', 'aparecendo_', 'aparecem', 'apanhou_', 'apanhei_', 'apanhasse_', 'apaixonado', 'apaixonadinha', 'apaixonada', 'apaguei_', 'apaguei', 'apagou', 'apaga_', 'ap', 'anunciou_', 'anunciar_', 'anunciado_', 'anunciada_', 'antropol_', 'antipetista_', 'antigo_', 'antigamente_', 'antifascismo_', 'anticoncepcional_', 'anticapitalista_', 'anteriormente_', 'anterior_', 'anteced_', 'antagonista_', 'anta', 'ansiosos', 'ansioso_', 'ansiosas_', 'ansiedade', 'anotem_', 'anotando_', 'anon_', 'anne_', 'anjinhos_', 'anjinhos', 'anjinhoo_', 'anjinha', 'aniversariante_', 'anitta', 'anitos_', 'animarem_', 'animais_', 'animadinha_', 'animada_', 'angustiada', 'angustia', 'angola_', 'angelus_', 'angelo', 'angel_', 'ang_', 'anem_', 'anedoticos_', 'andri_', 'andr_', 'andes_', 'andei_', 'andante_', 'andando_', 'andamos_', 'andamento_', 'andam_', 'anda', 'analizam_', 'analisa_', 'anal_', 'ams_', 'amr_', 'amputaa', 'amostra_', 'amos_', 'amorzinho_', 'amorzinha_', 'amorzimhos', 'amore_', 'amore', 'amoras', 'amooor_', 'amoooor_', 'amoooooo_', 'amoooo_', 'amoo_', 'amoedo', 'amil', 'amigu', 'amigar', 'amigaa_', 'amg', 'americanos_', 'amer', 'amento_', 'ameniza_', 'ame_', 'ambientais_', 'amava_', 'amarro_', 'amarelo_', 'amando_', 'amanda_', 'amamos', 'amam', 'amado_', 'alvez_', 'altos_', 'alto_', 'alto', 'alternativas_', 'alterados_', 'alterada_', 'altavista_', 'altamente_', 'almoco_', 'almejava_', 'almeida_', 'alma_', 'allbotox_', 'alivio_', 'aliviava_', 'aliviar_', 'alissao_', 'alimente_', 'alimentando_', 'alimentado', 'alien_', 'alias_', 'aliaram_', 'aliar_', 'alian_', 'alian', 'aliado_', 'alheias_', 'alexandre_', 'alex_', 'alergico', 'alergias', 'alentador_', 'alencar_', 'alegrias_', 'alegria', 'alegre', 'alcoolica_', 'alckmin_', 'alckmer_', 'alargador_', 'alan_', 'alagoas_', 'ala_', 'akjdks_', 'akakskaka_', 'ajustar', 'ajudinha', 'ajudaria_', 'ajudando_', 'ajud_', 'ajsjiskskakak_', 'ajshsjshshs_', 'ajjjjj_', 'ajdjkwjsks_', 'aixxx_', 'aishasheikh_', 'airmax', 'aiq', 'aindaaa_', 'aii_', 'ahsuhssuhs_', 'ahshashhsa_', 'ahshahshahsha_', 'ahhhhhhhhhh_', 'ahhaubsk', 'ahhahhahah_', 'ahgase_', 'ahdjshsj_', 'ahauahua', 'ahahahahahahaha_', 'ahahahahah_', 'ahahahah', 'ahah_', 'aha_', 'aguita_', 'aguentou_', 'aguento', 'aguente_', 'aguardo_', 'aguarde_', 'agu_', 'agregados_', 'agredido_', 'agrado_', 'agradeceu_', 'agradece_', 'agr', 'agonia_', 'ago', 'agitada_', 'agita_', 'agir_', 'agente_', 'agenda_', 'agenda', 'afundar_', 'afundando_', 'afro_', 'afirmou_', 'afirmar_', 'afirmando', 'afirma_', 'afinz_', 'afilhados_', 'affffff_', 'afffff_', 'affff_', 'afff', 'afastando_', 'af', 'aerocool_', 'aero_', 'aereas_', 'aer_', 'aeehoooooooo_', 'aeeeee_', 'aee_', 'aee', 'adulta_', 'adriel_', 'adragomir_', 'adoura_', 'adotem_', 'adota_', 'adota', 'adorrroo_', 'adorou_', 'adoro', 'adorei_', 'ador_', 'adoooooooro_', 'adolescente', 'ado', 'admito_', 'admitiu_', 'admitimos_', 'administrativo_', 'adicionei_', 'adicionais_', 'adicionados_', 'adiantou_', 'adianta', 'adesivos_', 'addons_', 'add_', 'adc_', 'adblock_', 'adb_', 'adas_', 'adaptar_', 'adaptador_', 'ad_', 'acusar_', 'acusando_', 'acumular_', 'activadas_', 'acrescentar_', 'acredite', 'acreditando', 'acostumei_', 'acostumar_', 'acostumado_', 'acostumada_', 'acordando_', 'acordando', 'acordadissima', 'acordadar_', 'acordada_', 'acordada', 'acorda_', 'acontecido_', 'acontecer', 'acompanhei_', 'acompanharam_', 'acompanhando_', 'acompanhamento_', 'acolhido_', 'acolhemo_', 'acoado_', 'acne_', 'acke', 'ack_', 'achu_', 'achou_', 'acharem_', 'achar', 'achamos_', 'acham_', 'achado_', 'acetona', 'acesse_', 'acess_', 'acertarem_', 'acerta', 'aceitaria_', 'aceitar_', 'aceitando_', 'aceitam_', 'acalmar', 'acalmada_', 'acabarem_', 'acabaram_', 'acabar', 'acabando_', 'acabando', 'acabamos_', 'acabada_', 'ac_', 'ac', 'absurdos_', 'absurda_', 'absoluta', 'abriu_', 'abracinho', 'abracar_', 'abra', 'abortado', 'aborrecente_', 'abordei_', 'abertura_', 'abe', 'abar_', 'abandonar_', 'abandonados', 'abalado_', 'abalada', 'ab', 'aalmeida_', 'aahhhhhh_', 'aah_', 'aagui_', 'aae_', 'aaah_', 'aaaah_', 'aaaaasgsisdjsqja_', 'aaaaaae_', 'aaaaaaarf_', 'aaaaaaah_', 'aaaaaaaaaafedkdksjsj', 'aaaaaaaaaaaa_', 'aaaaaaa', 'aa', '??????', '. ..', ' ............ ', ' ...........', ' ......', '  ... ']\n"
          ],
          "name": "stdout"
        }
      ]
    },
    {
      "cell_type": "code",
      "metadata": {
        "id": "T4rCT4zrPF1P",
        "colab": {
          "base_uri": "https://localhost:8080/"
        },
        "outputId": "6e328807-4ac7-42b9-f34e-6b0544093db6"
      },
      "source": [
        "ids = tokenizer.encode('happy')\n",
        "ids"
      ],
      "execution_count": null,
      "outputs": [
        {
          "output_type": "execute_result",
          "data": {
            "text/plain": [
              "[8539, 8091, 8547, 8556]"
            ]
          },
          "metadata": {
            "tags": []
          },
          "execution_count": 49
        }
      ]
    },
    {
      "cell_type": "code",
      "metadata": {
        "id": "4H4_8IzRPSlB",
        "colab": {
          "base_uri": "https://localhost:8080/",
          "height": 35
        },
        "outputId": "65958178-7de9-4a2f-b5ad-de896cbbf095"
      },
      "source": [
        "text = tokenizer.decode(ids)\n",
        "text"
      ],
      "execution_count": null,
      "outputs": [
        {
          "output_type": "execute_result",
          "data": {
            "application/vnd.google.colaboratory.intrinsic+json": {
              "type": "string"
            },
            "text/plain": [
              "'happy'"
            ]
          },
          "metadata": {
            "tags": []
          },
          "execution_count": 50
        }
      ]
    },
    {
      "cell_type": "code",
      "metadata": {
        "colab": {
          "base_uri": "https://localhost:8080/"
        },
        "id": "ttFt_WEDzs_c",
        "outputId": "287d47a5-d63f-402e-fca2-abe370a6dad9"
      },
      "source": [
        "tokenizer.decode([105]), tokenizer.decode([2257]), tokenizer.decode([3119])"
      ],
      "execution_count": null,
      "outputs": [
        {
          "output_type": "execute_result",
          "data": {
            "text/plain": [
              "('c ', 'morais ', 'vidas ')"
            ]
          },
          "metadata": {
            "tags": []
          },
          "execution_count": 51
        }
      ]
    },
    {
      "cell_type": "code",
      "metadata": {
        "id": "Wix-FNg1PYij"
      },
      "source": [
        "data_inputs = [tokenizer.encode(sentence) for sentence in data_clean]"
      ],
      "execution_count": null,
      "outputs": []
    },
    {
      "cell_type": "code",
      "metadata": {
        "id": "S5DEe4p3Pi3n",
        "colab": {
          "base_uri": "https://localhost:8080/"
        },
        "outputId": "2611b88f-d223-4a4b-91c4-e28f613002a4"
      },
      "source": [
        "for _ in range(10):\n",
        "  print(data_inputs[random.randint(0, len(data_inputs) - 1)])"
      ],
      "execution_count": null,
      "outputs": [
        {
          "output_type": "stream",
          "text": [
            "[79, 17, 27, 14, 810, 1, 1789, 125, 1846, 21, 8543]\n",
            "[2, 5761, 502, 1, 7134, 8408, 1448]\n",
            "[967, 7, 1, 711, 1598, 10, 711, 2154, 8299, 5, 5695, 4, 4993, 3, 85, 3681]\n",
            "[2184, 6, 20, 3496, 39, 1784]\n",
            "[2, 4109, 87, 553]\n",
            "[5, 16, 189, 3, 6800, 1762, 1, 132, 16, 1857, 158, 13, 1, 88, 5, 7233, 16, 3091]\n",
            "[2, 27, 6982, 22, 531]\n",
            "[2, 40, 67, 15, 282]\n",
            "[6, 2518, 52, 9, 330, 6291, 1, 4, 2744]\n",
            "[65, 3194]\n"
          ],
          "name": "stdout"
        }
      ]
    },
    {
      "cell_type": "markdown",
      "metadata": {
        "id": "Ysb2uib8n6b3"
      },
      "source": [
        "### Padding"
      ]
    },
    {
      "cell_type": "code",
      "metadata": {
        "id": "xTRmL5MAP4iT",
        "colab": {
          "base_uri": "https://localhost:8080/"
        },
        "outputId": "d38c6655-6271-48c2-87b0-bd7836434003"
      },
      "source": [
        "max_len = max([len(sentence) for sentence in data_inputs])\n",
        "max_len # setença com o meior lista de tokens\n",
        "\n",
        "# O padding gera os mesmos tamanhos entre as setenças"
      ],
      "execution_count": null,
      "outputs": [
        {
          "output_type": "execute_result",
          "data": {
            "text/plain": [
              "60"
            ]
          },
          "metadata": {
            "tags": []
          },
          "execution_count": 54
        }
      ]
    },
    {
      "cell_type": "code",
      "metadata": {
        "id": "lT02JMV1QWLZ"
      },
      "source": [
        "data_inputs = tf.keras.preprocessing.sequence.pad_sequences(data_inputs,\n",
        "                                                            value = 0,\n",
        "                                                            padding = 'post',\n",
        "                                                            maxlen=max_len)"
      ],
      "execution_count": null,
      "outputs": []
    },
    {
      "cell_type": "code",
      "metadata": {
        "id": "E5X5g9IPQtZV",
        "colab": {
          "base_uri": "https://localhost:8080/"
        },
        "outputId": "5844a777-8fcc-486c-e50b-4b712cc3053d"
      },
      "source": [
        "for _ in range(10):\n",
        "  print(data_inputs[random.randint(0, len(data_inputs) - 1)])"
      ],
      "execution_count": null,
      "outputs": [
        {
          "output_type": "stream",
          "text": [
            "[   2 5835  348 8169   27  120 3350    0    0    0    0    0    0    0\n",
            "    0    0    0    0    0    0    0    0    0    0    0    0    0    0\n",
            "    0    0    0    0    0    0    0    0    0    0    0    0    0    0\n",
            "    0    0    0    0    0    0    0    0    0    0    0    0    0    0\n",
            "    0    0    0    0]\n",
            "[ 340  374    5 3170 2625   58    1   15 1473    0    0    0    0    0\n",
            "    0    0    0    0    0    0    0    0    0    0    0    0    0    0\n",
            "    0    0    0    0    0    0    0    0    0    0    0    0    0    0\n",
            "    0    0    0    0    0    0    0    0    0    0    0    0    0    0\n",
            "    0    0    0    0]\n",
            "[   2 3938   78  324  583    7    1   82  143 4709  618  504    3  394\n",
            " 1253 6206 1876 1309    7    1 6864  258  688  219 8535    0    0    0\n",
            "    0    0    0    0    0    0    0    0    0    0    0    0    0    0\n",
            "    0    0    0    0    0    0    0    0    0    0    0    0    0    0\n",
            "    0    0    0    0]\n",
            "[   2 3755    6  293  176   31 5490  523  577   10  104 1874    0    0\n",
            "    0    0    0    0    0    0    0    0    0    0    0    0    0    0\n",
            "    0    0    0    0    0    0    0    0    0    0    0    0    0    0\n",
            "    0    0    0    0    0    0    0    0    0    0    0    0    0    0\n",
            "    0    0    0    0]\n",
            "[   2   36 6380 3027 2370   19    4  777   75    3  604 3220    0    0\n",
            "    0    0    0    0    0    0    0    0    0    0    0    0    0    0\n",
            "    0    0    0    0    0    0    0    0    0    0    0    0    0    0\n",
            "    0    0    0    0    0    0    0    0    0    0    0    0    0    0\n",
            "    0    0    0    0]\n",
            "[2427   42   26   49  980    0    0    0    0    0    0    0    0    0\n",
            "    0    0    0    0    0    0    0    0    0    0    0    0    0    0\n",
            "    0    0    0    0    0    0    0    0    0    0    0    0    0    0\n",
            "    0    0    0    0    0    0    0    0    0    0    0    0    0    0\n",
            "    0    0    0    0]\n",
            "[ 34 485  20   4  12 178  10 480 211   3   6  59  76  16 909   0   0   0\n",
            "   0   0   0   0   0   0   0   0   0   0   0   0   0   0   0   0   0   0\n",
            "   0   0   0   0   0   0   0   0   0   0   0   0   0   0   0   0   0   0\n",
            "   0   0   0   0   0   0]\n",
            "[   2 1799   25  542   31    7    1   40 4322 2108  618    4  233    0\n",
            "    0    0    0    0    0    0    0    0    0    0    0    0    0    0\n",
            "    0    0    0    0    0    0    0    0    0    0    0    0    0    0\n",
            "    0    0    0    0    0    0    0    0    0    0    0    0    0    0\n",
            "    0    0    0    0]\n",
            "[  2   7   1  78 142 994   0   0   0   0   0   0   0   0   0   0   0   0\n",
            "   0   0   0   0   0   0   0   0   0   0   0   0   0   0   0   0   0   0\n",
            "   0   0   0   0   0   0   0   0   0   0   0   0   0   0   0   0   0   0\n",
            "   0   0   0   0   0   0]\n",
            "[  68    3 1188  906  804  354    1 6165   11  471 1519    5    1 3490\n",
            " 6514 5383    0    0    0    0    0    0    0    0    0    0    0    0\n",
            "    0    0    0    0    0    0    0    0    0    0    0    0    0    0\n",
            "    0    0    0    0    0    0    0    0    0    0    0    0    0    0\n",
            "    0    0    0    0]\n"
          ],
          "name": "stdout"
        }
      ]
    },
    {
      "cell_type": "markdown",
      "metadata": {
        "id": "T4Ac7EXNNblp"
      },
      "source": [
        "### Divisão da base de dados em treinamento e teste\n",
        "\n"
      ]
    },
    {
      "cell_type": "code",
      "metadata": {
        "id": "PsKVKiSzRnw-"
      },
      "source": [
        "train_inputs, test_inputs, train_labels, test_labels = train_test_split(data_inputs,\n",
        "                                                                        data_labels,\n",
        "                                                                        test_size=0.3,\n",
        "                                                                        stratify = data_labels)"
      ],
      "execution_count": null,
      "outputs": []
    },
    {
      "cell_type": "code",
      "metadata": {
        "id": "-EoypKYBSRQR",
        "colab": {
          "base_uri": "https://localhost:8080/"
        },
        "outputId": "78c0202c-18dd-4d4d-9635-da38054a7cc3"
      },
      "source": [
        "train_inputs[0]"
      ],
      "execution_count": null,
      "outputs": [
        {
          "output_type": "execute_result",
          "data": {
            "text/plain": [
              "array([ 393,  108,   33,   89, 6185,    0,    0,    0,    0,    0,    0,\n",
              "          0,    0,    0,    0,    0,    0,    0,    0,    0,    0,    0,\n",
              "          0,    0,    0,    0,    0,    0,    0,    0,    0,    0,    0,\n",
              "          0,    0,    0,    0,    0,    0,    0,    0,    0,    0,    0,\n",
              "          0,    0,    0,    0,    0,    0,    0,    0,    0,    0,    0,\n",
              "          0,    0,    0,    0,    0], dtype=int32)"
            ]
          },
          "metadata": {
            "tags": []
          },
          "execution_count": 58
        }
      ]
    },
    {
      "cell_type": "code",
      "metadata": {
        "id": "NOcpln8ySYG6",
        "colab": {
          "base_uri": "https://localhost:8080/"
        },
        "outputId": "02c1307c-feff-45a5-9853-545d73fbc8ef"
      },
      "source": [
        "train_inputs.shape"
      ],
      "execution_count": null,
      "outputs": [
        {
          "output_type": "execute_result",
          "data": {
            "text/plain": [
              "(2450, 60)"
            ]
          },
          "metadata": {
            "tags": []
          },
          "execution_count": 59
        }
      ]
    },
    {
      "cell_type": "code",
      "metadata": {
        "id": "O7UxvSamScbx",
        "colab": {
          "base_uri": "https://localhost:8080/"
        },
        "outputId": "bc0e76ae-9156-4495-f496-3165c859d5f3"
      },
      "source": [
        "train_labels.shape # vamos testar 2450 registros"
      ],
      "execution_count": null,
      "outputs": [
        {
          "output_type": "execute_result",
          "data": {
            "text/plain": [
              "(2450,)"
            ]
          },
          "metadata": {
            "tags": []
          },
          "execution_count": 60
        }
      ]
    },
    {
      "cell_type": "code",
      "metadata": {
        "id": "HVnuy5MQShQ7",
        "colab": {
          "base_uri": "https://localhost:8080/"
        },
        "outputId": "7be3c211-810f-4fef-ab34-667aa00ff530"
      },
      "source": [
        "test_inputs.shape"
      ],
      "execution_count": null,
      "outputs": [
        {
          "output_type": "execute_result",
          "data": {
            "text/plain": [
              "(1050, 60)"
            ]
          },
          "metadata": {
            "tags": []
          },
          "execution_count": 61
        }
      ]
    },
    {
      "cell_type": "code",
      "metadata": {
        "id": "xBH05YZrSm2h",
        "colab": {
          "base_uri": "https://localhost:8080/"
        },
        "outputId": "de4e051c-7d21-41fd-c0d5-f9dfb13930a6"
      },
      "source": [
        "test_labels.shape # vamos testar 1050 registros"
      ],
      "execution_count": null,
      "outputs": [
        {
          "output_type": "execute_result",
          "data": {
            "text/plain": [
              "(1050,)"
            ]
          },
          "metadata": {
            "tags": []
          },
          "execution_count": 62
        }
      ]
    },
    {
      "cell_type": "code",
      "metadata": {
        "id": "9cZrHR7FFupU"
      },
      "source": [
        "# Salvando arquivos\n",
        "# train_inputs, test_inputs, train_labels, test_labels\n",
        "\n",
        "import pickle\n",
        "with open('save.pkl', 'wb') as f:\n",
        "  pickle.dump([train_inputs, test_inputs, train_labels, test_labels], f)\n"
      ],
      "execution_count": null,
      "outputs": []
    },
    {
      "cell_type": "markdown",
      "metadata": {
        "id": "kWu6hLDG_UJZ"
      },
      "source": [
        "# Etapa 3: Construção do modelo"
      ]
    },
    {
      "cell_type": "code",
      "metadata": {
        "id": "xEATIsKmTFs3"
      },
      "source": [
        "class DCNN(tf.keras.Model):\n",
        "\n",
        "  def __init__(self,\n",
        "               vocab_size,\n",
        "               emb_dim=128,\n",
        "               nb_filters=50,\n",
        "               ffn_units=512,\n",
        "               nb_classes=2,\n",
        "               dropout_rate=0.1,\n",
        "               training=True,\n",
        "               name=\"dcnn\"):\n",
        "    super(DCNN, self).__init__(name=name)\n",
        "\n",
        "    self.embedding = layers.Embedding(vocab_size, emb_dim)\n",
        "\n",
        "    # Conv2D\n",
        "    self.bigram = layers.Conv1D(filters=nb_filters, kernel_size=2, padding='same', activation='relu')\n",
        "\n",
        "    self.trigram = layers.Conv1D(filters=nb_filters, kernel_size=3, padding='same', activation='relu')\n",
        "\n",
        "    self.fourgram = layers.Conv1D(filters=nb_filters, kernel_size=4, padding='same', activation='relu')\n",
        "\n",
        "    self.pool = layers.GlobalMaxPool1D()\n",
        "\n",
        "    self.dense_1 = layers.Dense(units = ffn_units, activation = 'relu')\n",
        "    self.dropout = layers.Dropout(rate = dropout_rate)\n",
        "    if nb_classes == 2:\n",
        "      self.last_dense = layers.Dense(units = 1, activation = 'sigmoid')\n",
        "    else:\n",
        "      self.last_dense = layers.Dense(units = nb_classes, activation = 'softmax')\n",
        "\n",
        "  def call(self, inputs, training):\n",
        "    x = self.embedding(inputs)\n",
        "    x_1 = self.bigram(x)\n",
        "    x_1 = self.pool(x_1)\n",
        "    x_2 = self.trigram(x)\n",
        "    x_2 = self.pool(x_2)\n",
        "    x_3 = self.fourgram(x)\n",
        "    x_3 = self.pool(x_3)\n",
        "\n",
        "    merged = tf.concat([x_1, x_2, x_3], axis = -1) # (batch_size, 3 * nb_filters)\n",
        "    merged = self.dense_1(merged)\n",
        "    merged = self.dropout(merged, training)\n",
        "    output = self.last_dense(merged)\n",
        "\n",
        "    return output"
      ],
      "execution_count": null,
      "outputs": []
    },
    {
      "cell_type": "markdown",
      "metadata": {
        "id": "92XbAZ9E1AMS"
      },
      "source": [
        "# Etapa 4: Treinamento"
      ]
    },
    {
      "cell_type": "markdown",
      "metadata": {
        "id": "B8cfYwHME-m0"
      },
      "source": [
        "## Configuração dos parâmetros"
      ]
    },
    {
      "cell_type": "code",
      "metadata": {
        "id": "5VNPb5mFZsC8",
        "colab": {
          "base_uri": "https://localhost:8080/"
        },
        "outputId": "c20ed1a8-3f89-4331-912d-f5abe72e8def"
      },
      "source": [
        "vocab_size = tokenizer.vocab_size\n",
        "vocab_size"
      ],
      "execution_count": null,
      "outputs": [
        {
          "output_type": "execute_result",
          "data": {
            "text/plain": [
              "8691"
            ]
          },
          "metadata": {
            "tags": []
          },
          "execution_count": 65
        }
      ]
    },
    {
      "cell_type": "code",
      "metadata": {
        "id": "0MVJ_3QRZ3Nn",
        "colab": {
          "base_uri": "https://localhost:8080/"
        },
        "outputId": "ad81a19a-dd90-412e-fb1f-6c23750eb6d2"
      },
      "source": [
        "emb_dim = 200\n",
        "nb_filters = 100\n",
        "ffn_units = 256\n",
        "batch_size = 64\n",
        "nb_classes = len(set(train_labels))\n",
        "nb_classes"
      ],
      "execution_count": null,
      "outputs": [
        {
          "output_type": "execute_result",
          "data": {
            "text/plain": [
              "2"
            ]
          },
          "metadata": {
            "tags": []
          },
          "execution_count": 66
        }
      ]
    },
    {
      "cell_type": "code",
      "metadata": {
        "id": "ntBWbJPZaUng"
      },
      "source": [
        "dropout_rate = 0.2\n",
        "nb_epochs = 10"
      ],
      "execution_count": null,
      "outputs": []
    },
    {
      "cell_type": "markdown",
      "metadata": {
        "id": "Nddzr1kA7UHC"
      },
      "source": [
        "## Treinamento"
      ]
    },
    {
      "cell_type": "code",
      "metadata": {
        "id": "yjSh-7HNaxX3"
      },
      "source": [
        "Dcnn = DCNN(vocab_size=vocab_size, emb_dim=emb_dim, nb_filters=nb_filters,\n",
        "            ffn_units=ffn_units, nb_classes=nb_classes, dropout_rate=dropout_rate)"
      ],
      "execution_count": null,
      "outputs": []
    },
    {
      "cell_type": "code",
      "metadata": {
        "id": "j_Gj5koycHqd"
      },
      "source": [
        "if nb_classes == 2:\n",
        "  Dcnn.compile(loss='binary_crossentropy', optimizer='adam', metrics=['accuracy'])\n",
        "else:\n",
        "  Dcnn.compile(loss='sparse_categorical_crossentropy', optimizer='adam', metrics=['accuracy'])"
      ],
      "execution_count": null,
      "outputs": []
    },
    {
      "cell_type": "code",
      "metadata": {
        "id": "L5s8GUMncejB"
      },
      "source": [
        "checkpoint_path = \"./\"\n",
        "ckpt = tf.train.Checkpoint(Dcnn=Dcnn)\n",
        "ckpt_manager = tf.train.CheckpointManager(ckpt, checkpoint_path, max_to_keep=5)\n",
        "if ckpt_manager.latest_checkpoint:\n",
        "  ckpt.restore(ckpt_manager.latest_checkpoint)\n",
        "  print('Latest checkpoint restored')"
      ],
      "execution_count": null,
      "outputs": []
    },
    {
      "cell_type": "code",
      "metadata": {
        "id": "02etzYLydVEi",
        "colab": {
          "base_uri": "https://localhost:8080/",
          "height": 395
        },
        "outputId": "0feafde4-4556-4659-8b05-ce51faa8d24b"
      },
      "source": [
        "history = Dcnn.fit(train_inputs, train_labels,\n",
        "                   batch_size = batch_size,\n",
        "                   epochs = nb_epochs,\n",
        "                   verbose = 1,\n",
        "                   validation_split = 0.10)\n",
        "ckpt_manager.save()"
      ],
      "execution_count": null,
      "outputs": [
        {
          "output_type": "stream",
          "text": [
            "Epoch 1/10\n",
            "35/35 [==============================] - 35s 37ms/step - loss: 0.6901 - accuracy: 0.5359 - val_loss: 0.6493 - val_accuracy: 0.6694\n",
            "Epoch 2/10\n",
            "35/35 [==============================] - 1s 20ms/step - loss: 0.5372 - accuracy: 0.8200 - val_loss: 0.5740 - val_accuracy: 0.6816\n",
            "Epoch 3/10\n",
            "35/35 [==============================] - 1s 20ms/step - loss: 0.1718 - accuracy: 0.9583 - val_loss: 0.6927 - val_accuracy: 0.6857\n",
            "Epoch 4/10\n",
            "35/35 [==============================] - 1s 21ms/step - loss: 0.0340 - accuracy: 0.9914 - val_loss: 0.8760 - val_accuracy: 0.6898\n",
            "Epoch 5/10\n",
            "35/35 [==============================] - 1s 21ms/step - loss: 0.0189 - accuracy: 0.9947 - val_loss: 0.9716 - val_accuracy: 0.6816\n",
            "Epoch 6/10\n",
            "35/35 [==============================] - 1s 22ms/step - loss: 0.0078 - accuracy: 0.9968 - val_loss: 1.0726 - val_accuracy: 0.6939\n",
            "Epoch 7/10\n",
            "35/35 [==============================] - 1s 22ms/step - loss: 0.0051 - accuracy: 0.9984 - val_loss: 1.0609 - val_accuracy: 0.6898\n",
            "Epoch 8/10\n",
            "35/35 [==============================] - 1s 22ms/step - loss: 0.0028 - accuracy: 0.9999 - val_loss: 1.0826 - val_accuracy: 0.6857\n",
            "Epoch 9/10\n",
            "35/35 [==============================] - 1s 22ms/step - loss: 0.0036 - accuracy: 0.9993 - val_loss: 1.1366 - val_accuracy: 0.6776\n",
            "Epoch 10/10\n",
            "35/35 [==============================] - 1s 22ms/step - loss: 0.0048 - accuracy: 0.9982 - val_loss: 1.1747 - val_accuracy: 0.6857\n"
          ],
          "name": "stdout"
        },
        {
          "output_type": "execute_result",
          "data": {
            "application/vnd.google.colaboratory.intrinsic+json": {
              "type": "string"
            },
            "text/plain": [
              "'./ckpt-1'"
            ]
          },
          "metadata": {
            "tags": []
          },
          "execution_count": 71
        }
      ]
    },
    {
      "cell_type": "markdown",
      "metadata": {
        "id": "16Gn6JhJKXDK"
      },
      "source": [
        "# Etapa 5: Avaliação do modelo"
      ]
    },
    {
      "cell_type": "markdown",
      "metadata": {
        "id": "5s8GGVE11r2z"
      },
      "source": [
        "## Avaliação"
      ]
    },
    {
      "cell_type": "code",
      "metadata": {
        "id": "_2saJAr81TUy",
        "colab": {
          "base_uri": "https://localhost:8080/"
        },
        "outputId": "2e9a2c2b-4483-41d0-e3cb-0623e00a36b7"
      },
      "source": [
        "results = Dcnn.evaluate(test_inputs, test_labels, batch_size=batch_size)\n",
        "print(results)"
      ],
      "execution_count": null,
      "outputs": [
        {
          "output_type": "stream",
          "text": [
            "17/17 [==============================] - 0s 11ms/step - loss: 1.1504 - accuracy: 0.7086\n",
            "[1.1504324674606323, 0.7085714340209961]\n"
          ],
          "name": "stdout"
        }
      ]
    },
    {
      "cell_type": "code",
      "metadata": {
        "id": "LNM3RVwO11Ph"
      },
      "source": [
        "y_pred_test = Dcnn.predict(test_inputs)"
      ],
      "execution_count": null,
      "outputs": []
    },
    {
      "cell_type": "code",
      "metadata": {
        "id": "dwYfU4bA19yZ",
        "colab": {
          "base_uri": "https://localhost:8080/"
        },
        "outputId": "be7316cb-7443-413b-d89d-bf0313c129af"
      },
      "source": [
        "y_pred_test"
      ],
      "execution_count": null,
      "outputs": [
        {
          "output_type": "execute_result",
          "data": {
            "text/plain": [
              "array([[2.2582852e-04],\n",
              "       [9.9977022e-01],\n",
              "       [6.3555546e-02],\n",
              "       ...,\n",
              "       [9.1874939e-01],\n",
              "       [8.2176757e-07],\n",
              "       [6.5733191e-05]], dtype=float32)"
            ]
          },
          "metadata": {
            "tags": []
          },
          "execution_count": 74
        }
      ]
    },
    {
      "cell_type": "code",
      "metadata": {
        "id": "cr3rYEy72Ps4"
      },
      "source": [
        "y_pred_test = (y_pred_test > 0.5)"
      ],
      "execution_count": null,
      "outputs": []
    },
    {
      "cell_type": "code",
      "metadata": {
        "id": "LIT82QfF2bNV",
        "colab": {
          "base_uri": "https://localhost:8080/"
        },
        "outputId": "3ee802c3-ec58-40ce-8d8f-b573bea5f433"
      },
      "source": [
        "y_pred_test"
      ],
      "execution_count": null,
      "outputs": [
        {
          "output_type": "execute_result",
          "data": {
            "text/plain": [
              "array([[False],\n",
              "       [ True],\n",
              "       [False],\n",
              "       ...,\n",
              "       [ True],\n",
              "       [False],\n",
              "       [False]])"
            ]
          },
          "metadata": {
            "tags": []
          },
          "execution_count": 76
        }
      ]
    },
    {
      "cell_type": "code",
      "metadata": {
        "id": "sXthDpw92eig",
        "colab": {
          "base_uri": "https://localhost:8080/"
        },
        "outputId": "6fa9e733-a82b-45df-ea0a-25985e3954f2"
      },
      "source": [
        "test_labels"
      ],
      "execution_count": null,
      "outputs": [
        {
          "output_type": "execute_result",
          "data": {
            "text/plain": [
              "array([1, 1, 0, ..., 0, 0, 0])"
            ]
          },
          "metadata": {
            "tags": []
          },
          "execution_count": 77
        }
      ]
    },
    {
      "cell_type": "code",
      "metadata": {
        "id": "hlLBYrco2oQp",
        "colab": {
          "base_uri": "https://localhost:8080/"
        },
        "outputId": "75e4d6c5-1dbf-4607-8d2d-e44ab580e665"
      },
      "source": [
        "from sklearn.metrics import confusion_matrix\n",
        "cm = confusion_matrix(test_labels, y_pred_test)\n",
        "cm"
      ],
      "execution_count": null,
      "outputs": [
        {
          "output_type": "execute_result",
          "data": {
            "text/plain": [
              "array([[404, 121],\n",
              "       [185, 340]])"
            ]
          },
          "metadata": {
            "tags": []
          },
          "execution_count": 78
        }
      ]
    },
    {
      "cell_type": "code",
      "metadata": {
        "id": "xBuMH2CC24Gf",
        "colab": {
          "base_uri": "https://localhost:8080/",
          "height": 283
        },
        "outputId": "c1c41e79-f66e-4ce4-d205-c1f64ecb3616"
      },
      "source": [
        "sns.heatmap(cm, annot=True)"
      ],
      "execution_count": null,
      "outputs": [
        {
          "output_type": "execute_result",
          "data": {
            "text/plain": [
              "<matplotlib.axes._subplots.AxesSubplot at 0x7f6351793bd0>"
            ]
          },
          "metadata": {
            "tags": []
          },
          "execution_count": 79
        },
        {
          "output_type": "display_data",
          "data": {
            "image/png": "[encoded data removed]",
            "text/plain": [
              "<Figure size 432x288 with 2 Axes>"
            ]
          },
          "metadata": {
            "tags": [],
            "needs_background": "light"
          }
        }
      ]
    },
    {
      "cell_type": "code",
      "metadata": {
        "id": "soGrESYl3TH4",
        "colab": {
          "base_uri": "https://localhost:8080/"
        },
        "outputId": "d61fae17-43b2-4614-fece-a7098dab6598"
      },
      "source": [
        "history.history.keys()"
      ],
      "execution_count": null,
      "outputs": [
        {
          "output_type": "execute_result",
          "data": {
            "text/plain": [
              "dict_keys(['loss', 'accuracy', 'val_loss', 'val_accuracy'])"
            ]
          },
          "metadata": {
            "tags": []
          },
          "execution_count": 80
        }
      ]
    },
    {
      "cell_type": "code",
      "metadata": {
        "id": "EyfSXNtR3dGp",
        "colab": {
          "base_uri": "https://localhost:8080/",
          "height": 312
        },
        "outputId": "00fa5fe8-66d3-4144-ae25-4cb64d83dcfc"
      },
      "source": [
        "plt.plot(history.history['loss'])\n",
        "plt.plot(history.history['val_loss'])\n",
        "plt.title('Model loss progress during training and validation')\n",
        "plt.xlabel('Epoch')\n",
        "plt.ylabel('Losses')\n",
        "plt.legend(['Training loss', 'Validation loss'])"
      ],
      "execution_count": null,
      "outputs": [
        {
          "output_type": "execute_result",
          "data": {
            "text/plain": [
              "<matplotlib.legend.Legend at 0x7f635178eb50>"
            ]
          },
          "metadata": {
            "tags": []
          },
          "execution_count": 81
        },
        {
          "output_type": "display_data",
          "data": {
            "image/png": "[encoded data removed]",
            "text/plain": [
              "<Figure size 432x288 with 1 Axes>"
            ]
          },
          "metadata": {
            "tags": [],
            "needs_background": "light"
          }
        }
      ]
    },
    {
      "cell_type": "code",
      "metadata": {
        "id": "S8DR5LnM4Xjz",
        "colab": {
          "base_uri": "https://localhost:8080/",
          "height": 312
        },
        "outputId": "1f50aea3-6433-4dbc-90a5-17232ca3cbcf"
      },
      "source": [
        "plt.plot(history.history['accuracy'])\n",
        "plt.plot(history.history['val_accuracy'])\n",
        "plt.title('Model accuracy progress during training and validation')\n",
        "plt.xlabel('Epoch')\n",
        "plt.ylabel('Accuracy')\n",
        "plt.legend(['Training accuracy', 'Validation accuracy'])"
      ],
      "execution_count": null,
      "outputs": [
        {
          "output_type": "execute_result",
          "data": {
            "text/plain": [
              "<matplotlib.legend.Legend at 0x7f6351652210>"
            ]
          },
          "metadata": {
            "tags": []
          },
          "execution_count": 82
        },
        {
          "output_type": "display_data",
          "data": {
            "image/png": "[encoded data removed]",
            "text/plain": [
              "<Figure size 432x288 with 1 Axes>"
            ]
          },
          "metadata": {
            "tags": [],
            "needs_background": "light"
          }
        }
      ]
    },
    {
      "cell_type": "markdown",
      "metadata": {
        "id": "ClI0nAoj1vdk"
      },
      "source": [
        "## Previsões"
      ]
    },
    {
      "cell_type": "code",
      "metadata": {
        "id": "oeGl73bb5J2D",
        "colab": {
          "base_uri": "https://localhost:8080/"
        },
        "outputId": "aceb9fac-b745-4734-e8b9-7577cdfe9bf4"
      },
      "source": [
        "text = 'i hate you'\n",
        "text = tokenizer.encode(text)\n",
        "text"
      ],
      "execution_count": null,
      "outputs": [
        {
          "output_type": "execute_result",
          "data": {
            "text/plain": [
              "[8540, 8467, 5894, 2992, 8552]"
            ]
          },
          "metadata": {
            "tags": []
          },
          "execution_count": 83
        }
      ]
    },
    {
      "cell_type": "code",
      "metadata": {
        "id": "Dyw3kapH4SVg"
      },
      "source": [
        "# 0 - negativo\n",
        "# 1 - positivo"
      ],
      "execution_count": null,
      "outputs": []
    },
    {
      "cell_type": "code",
      "metadata": {
        "id": "jYqKGfnZ5aGX",
        "colab": {
          "base_uri": "https://localhost:8080/"
        },
        "outputId": "2b6b1b1a-0467-465b-973b-d5b8c572e83b"
      },
      "source": [
        "Dcnn(np.array([text]), training=False).numpy()"
      ],
      "execution_count": null,
      "outputs": [
        {
          "output_type": "execute_result",
          "data": {
            "text/plain": [
              "array([[0.36709845]], dtype=float32)"
            ]
          },
          "metadata": {
            "tags": []
          },
          "execution_count": 85
        }
      ]
    },
    {
      "cell_type": "markdown",
      "metadata": {
        "id": "yPkLipP6tR10"
      },
      "source": [
        "# Conclusões Finais - CNN"
      ]
    },
    {
      "cell_type": "markdown",
      "metadata": {
        "id": "JUec5xPqtfF2"
      },
      "source": [
        "No modelo apresentado, pode-se perceber que o treinamento obteve um bom desempenho, veja que à accuracy chegou a ** 0.7152**, ou sseja, um acerto de 71% da base de dados treinando 93% da base de dados utilizando apenas **10 epochs**. Já nossa ***Matriz de Confusão*** teve esses acertos:\n",
        "\n",
        "  - classe 0 acertou 404, errou 121 registros\n",
        "  - Classe 1 acertou 340, errou 185 registros\n",
        "\n",
        "Assim, concluímos esse modelo de CNN em que houve um treinamento relativamente bem em relação aos dados de teste e treino di Twitter.\n",
        "\n"
      ]
    }
  ]
}